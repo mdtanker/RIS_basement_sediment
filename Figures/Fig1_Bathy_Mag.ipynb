{
 "cells": [
  {
   "cell_type": "markdown",
   "metadata": {},
   "source": [
    "# Figure 1: Bathymetry, ANTOSTART, and Magnetics\n",
    "\n",
    "This notebook produces figure 1 of Tankersley et al. 2022.\n",
    "The figure display all of the input datasets used in our study."
   ]
  },
  {
   "cell_type": "code",
   "execution_count": 6,
   "metadata": {},
   "outputs": [],
   "source": [
    "# import necessary python packages\n",
    "import pygmt\n",
    "import pandas as pd\n",
    "import geopandas as gpd\n",
    "import numpy as np\n",
    "import os"
   ]
  },
  {
   "cell_type": "code",
   "execution_count": 7,
   "metadata": {},
   "outputs": [
    {
     "data": {
      "text/plain": [
       "'C:\\\\Users\\\\matthewt\\\\Documents\\\\Python_Scripts\\\\RIS_basement_sediment\\\\Figures'"
      ]
     },
     "execution_count": 7,
     "metadata": {},
     "output_type": "execute_result"
    }
   ],
   "source": [
    "# all file paths assume this notebook is in /RIS_basement_sediment/Figures\n",
    "pwd = os.getcwd()\n",
    "pwd"
   ]
  },
  {
   "cell_type": "code",
   "execution_count": 8,
   "metadata": {
    "tags": []
   },
   "outputs": [],
   "source": [
    "# set our PyGMT figure parameters, \n",
    "# we will use an Antarctic Polar Stereographic projection (EPSG3031)\n",
    "# set the region of our figure, in meters from the South Pole\n",
    "e_lim= -760_000\n",
    "n_lim= -2_200_000\n",
    "w_lim= 600_000\n",
    "s_lim= -350_000\n",
    "\n",
    "fig_height=180 # in mm\n",
    "\n",
    "# calculate figure width and map scale\n",
    "fig_width=fig_height*(w_lim-e_lim)/(s_lim-n_lim)\n",
    "fig_ratio = (s_lim - n_lim) / (fig_height/1000)\n",
    "\n",
    "# Make a GMT region string and projection strings in both ESPG3031 and Lat/Lon\n",
    "fig_reg = str(e_lim) + '/' + str(w_lim) + '/' + str(n_lim) + '/' + str(s_lim)\n",
    "fig_proj = \"x1:\" + str(fig_ratio)\n",
    "fig_proj_ll = \"s0/-90/-71/1:\" + str(fig_ratio)"
   ]
  },
  {
   "cell_type": "markdown",
   "metadata": {
    "tags": []
   },
   "source": [
    "## Prep data for figure\n"
   ]
  },
  {
   "cell_type": "code",
   "execution_count": 4,
   "metadata": {
    "tags": []
   },
   "outputs": [],
   "source": [
    "# prep BedMachine bathymetry\n",
    "# add netCDF variable \"geoid\" to variable \"bed\" to get bed elevations relative to WGS84 ellipsoid\n",
    "# save to new file -> BedMachine_bed_wgs.nc\n",
    "!gmt grdmath ../data/input/BedMachineAntarctica_2020-07-15_v02.nc?bed ../data/input/BedMachineAntarctica_2020-07-15_v02.nc?geoid ADD = ../data/tmp/BedMachine_bed_wgs.nc\n",
    "# resample this grid to 5km cells within our region of interest\n",
    "pygmt.grdsample(grid='../data/tmp/BedMachine_bed_wgs.nc', \n",
    "                region='-3330000/1900000/-3330000/1850000',\n",
    "                spacing='5000+e', registration='g',\n",
    "                outgrid='../data/results/BedMachine_bed_5k_wgs.nc', verbose='e')"
   ]
  },
  {
   "cell_type": "code",
   "execution_count": 5,
   "metadata": {
    "tags": []
   },
   "outputs": [],
   "source": [
    "# prep ANTOSTRAT basement (from Lindeque et al. sediment thickness)\n",
    "# resample lindeque sed thickness to match bedmap spacing / region\n",
    "pygmt.grdsample(grid='../data/input/sedthick_total_v2_5km_epsg3031.nc', \n",
    "                region='-3330000/1900000/-3330000/1850000',\n",
    "                spacing='5000+e', registration='g',\n",
    "                outgrid='../data/tmp/Lindeque_sedthick_total.nc', verbose='e')\n",
    "# subtract sed thickness from bed to get basement\n",
    "!gmt grdmath -Df ../data/results/BedMachine_bed_5k_wgs.nc ../data/tmp/Lindeque_sedthick_total.nc SUB = ../data/results/Lindeque_bedmachine_basement.nc\n",
    "# in QGIS edited groundingline shp to stop at RIS calving front and Ross Island.\n",
    "# use the shapefile to make a mask of all data onshore and below ice shelf\n",
    "!gmt grdmask ../data/input/GroundingLine_Antarctica_v02_edited.shp -G../data/tmp/coastline_mask.nc -I5000+e -rg -R-3330000/1900000/-3330000/1850000 -N1/NaN/NaN\n",
    "# mask out ice shelf and onshore data\n",
    "!gmt grdmath -Df ../data/results/Lindeque_bedmachine_basement.nc ../data/tmp/coastline_mask.nc MUL = ../data/results/Lindeque_bedmachine_basement.nc\n",
    "# filter with 20km Gaussian filter to remove bathymetry-induced variations\n",
    "pygmt.grdfilter(grid='../data/results/Lindeque_bedmachine_basement.nc', \n",
    "                filter='g20000', nans='r', distance='0', \n",
    "                outgrid='../data/results/Lindeque_bedmachine_basement.nc')"
   ]
  },
  {
   "cell_type": "code",
   "execution_count": 9,
   "metadata": {
    "tags": []
   },
   "outputs": [
    {
     "name": "stderr",
     "output_type": "stream",
     "text": [
      "C:\\Users\\matthewt\\AppData\\Local\\Temp\\ipykernel_18472\\3348201746.py:7: DtypeWarning: Columns (6,24) have mixed types. Specify dtype option on import or set low_memory=False.\n",
      "  df_rs = pd.read_csv(ROSETTA, header=0,index_col=None,sep=',')\n"
     ]
    }
   ],
   "source": [
    "# prep OIB & ROSETTA magnetics data\n",
    "# these csv are the outputs of the Werner deconvolution process, which was performed in Geosoft Oasis Montaj.\n",
    "ROSETTA='../data/input/RIS123_1Hz_intermediate_basement.csv'\n",
    "OIB= '../data/input/RIS123_1Hz_intermediate_Werner_2021_500_to_50k.csv'\n",
    "\n",
    "# load as pandas dataframes\n",
    "df_rs = pd.read_csv(ROSETTA, header=0,index_col=None,sep=',')\n",
    "df_oib = pd.read_csv(OIB, header=0,index_col=None,sep=',')\n",
    "\n",
    "# drop unnecessary columns\n",
    "df_rs.drop(df_rs.columns.difference(['x','y','Line','Mag_anom_draped_1000']),axis=1, inplace=True)\n",
    "df_oib.drop(df_oib.columns.difference(['x','y','Line','Mag_anom_draped_1000']),axis=1, inplace=True)\n",
    "\n",
    "# drop unneccessary lines, and NaNs\n",
    "df_oib_403=df_oib[df_oib.Line.isin(['L403.1', 'L403.3'])].copy()\n",
    "df_oib_404=df_oib[df_oib.Line.isin(['L404.590', 'L404.650', 'L590', 'L650'])].copy()\n",
    "df_rs.dropna(inplace=True)\n",
    "df_oib_403.dropna(inplace=True)\n",
    "df_oib_404.dropna(inplace=True)\n",
    "\n",
    "# block median \n",
    "rosetta_mag_block=pygmt.blockmedian(data=df_rs[[\"x\", \"y\", \"Mag_anom_draped_1000\"]], \n",
    "                                    T=0.9999, spacing=\"1000+e\", region='-760000/600000/-2200000/-350000')\n",
    "oib_mag_block=pygmt.blockmedian(data=df_oib_403[[\"x\", \"y\", \"Mag_anom_draped_1000\"]], \n",
    "                                T=0.9999, spacing=\"1000+e\", region='-760000/600000/-2200000/-350000')\n",
    "# ROSETTA mag average is -1214 nT, so shift up by 1214 to center around 0\n",
    "rosetta_mag_block['Mag_anom_draped_1000_shift']=rosetta_mag_block.Mag_anom_draped_1000-rosetta_mag_block.Mag_anom_draped_1000.mean()\n",
    "# OIB mag average is 73 nT, so shift down by 73 to center around 0\n",
    "oib_mag_block['Mag_anom_draped_1000_shift']=oib_mag_block.Mag_anom_draped_1000-oib_mag_block.Mag_anom_draped_1000.mean()\n",
    "\n",
    "# join together\n",
    "rs_oib_mag_block = pd.concat([rosetta_mag_block, oib_mag_block])\n",
    "\n",
    "# make into grid, with 1km cell size, interpolated 4 cells from datapoints\n",
    "pygmt.surface(x= rs_oib_mag_block.x, y=rs_oib_mag_block.y,\n",
    "              z=rs_oib_mag_block.Mag_anom_draped_1000_shift, \n",
    "              spacing='1000+e', region=fig_reg, M='4c',\n",
    "              outgrid='../data/results/RS_OIB_mag.nc', verbose='e') "
   ]
  },
  {
   "cell_type": "code",
   "execution_count": 10,
   "metadata": {
    "tags": []
   },
   "outputs": [],
   "source": [
    "# create colorscales\n",
    "# bathymetry\n",
    "pygmt.grd2cpt(grid = '../data/results/Bedmachine_bed_5k_wgs.nc', cmap = 'batlowW', \n",
    "              limit = '-900/-300', nlevels=7, \n",
    "              output = '../data/results/RE_bathymetry.cpt') \n",
    "# imagery\n",
    "pygmt.makecpt(series = '15000/17000/1', cmap = 'gray', \n",
    "              continuous = True, output = '../data/results/moa.cpt')\n",
    "# basement\n",
    "pygmt.makecpt(series = '-6500/0/15+n', cmap='batlowW',\n",
    "              continuous=False, background=True, output='../data/results/ANTOSTRAT.cpt')\n",
    "# magnetics\n",
    "pygmt.makecpt(series = '-200/200', cmap = 'panoply',\n",
    "              background='o', output = '../data/results/RIS_mag.cpt')"
   ]
  },
  {
   "cell_type": "code",
   "execution_count": 11,
   "metadata": {},
   "outputs": [
    {
     "name": "stderr",
     "output_type": "stream",
     "text": [
      "C:\\Users\\matthewt\\AppData\\Local\\miniforge3\\envs\\pygmt06\\lib\\site-packages\\geopandas\\io\\file.py:362: FutureWarning: pandas.Int64Index is deprecated and will be removed from pandas in a future version. Use pandas.Index with the appropriate dtype instead.\n",
      "  pd.Int64Index,\n",
      "C:\\Users\\matthewt\\AppData\\Local\\miniforge3\\envs\\pygmt06\\lib\\site-packages\\geopandas\\io\\file.py:362: FutureWarning: pandas.Int64Index is deprecated and will be removed from pandas in a future version. Use pandas.Index with the appropriate dtype instead.\n",
      "  pd.Int64Index,\n",
      "gmtset [WARNING]: Representation of font type not recognized. Using default.\n",
      "C:\\Users\\matthewt\\AppData\\Local\\miniforge3\\envs\\pygmt06\\lib\\site-packages\\geopandas\\io\\file.py:362: FutureWarning: pandas.Int64Index is deprecated and will be removed from pandas in a future version. Use pandas.Index with the appropriate dtype instead.\n",
      "  pd.Int64Index,\n",
      "C:\\Users\\matthewt\\AppData\\Local\\miniforge3\\envs\\pygmt06\\lib\\site-packages\\geopandas\\io\\file.py:362: FutureWarning: pandas.Int64Index is deprecated and will be removed from pandas in a future version. Use pandas.Index with the appropriate dtype instead.\n",
      "  pd.Int64Index,\n",
      "gmtset [WARNING]: Representation of font type not recognized. Using default.\n",
      "inset [WARNING]: For a UTM or TM projection, your region -760000/600000/-2200000/-350000 is too large to be in degrees and thus assumed to be in meters\n",
      "C:\\Users\\matthewt\\AppData\\Local\\miniforge3\\envs\\pygmt06\\lib\\site-packages\\geopandas\\io\\file.py:362: FutureWarning: pandas.Int64Index is deprecated and will be removed from pandas in a future version. Use pandas.Index with the appropriate dtype instead.\n",
      "  pd.Int64Index,\n",
      "C:\\Users\\matthewt\\AppData\\Local\\miniforge3\\envs\\pygmt06\\lib\\site-packages\\geopandas\\io\\file.py:362: FutureWarning: pandas.Int64Index is deprecated and will be removed from pandas in a future version. Use pandas.Index with the appropriate dtype instead.\n",
      "  pd.Int64Index,\n",
      "C:\\Users\\matthewt\\AppData\\Local\\miniforge3\\envs\\pygmt06\\lib\\site-packages\\geopandas\\io\\file.py:362: FutureWarning: pandas.Int64Index is deprecated and will be removed from pandas in a future version. Use pandas.Index with the appropriate dtype instead.\n",
      "  pd.Int64Index,\n",
      "C:\\Users\\matthewt\\AppData\\Local\\miniforge3\\envs\\pygmt06\\lib\\site-packages\\geopandas\\io\\file.py:362: FutureWarning: pandas.Int64Index is deprecated and will be removed from pandas in a future version. Use pandas.Index with the appropriate dtype instead.\n",
      "  pd.Int64Index,\n",
      "C:\\Users\\matthewt\\AppData\\Local\\miniforge3\\envs\\pygmt06\\lib\\site-packages\\geopandas\\io\\file.py:362: FutureWarning: pandas.Int64Index is deprecated and will be removed from pandas in a future version. Use pandas.Index with the appropriate dtype instead.\n",
      "  pd.Int64Index,\n",
      "C:\\Users\\matthewt\\AppData\\Local\\miniforge3\\envs\\pygmt06\\lib\\site-packages\\geopandas\\io\\file.py:362: FutureWarning: pandas.Int64Index is deprecated and will be removed from pandas in a future version. Use pandas.Index with the appropriate dtype instead.\n",
      "  pd.Int64Index,\n"
     ]
    }
   ],
   "source": [
    "# initialize the figure\n",
    "fig = pygmt.Figure()\n",
    "\n",
    "# plot Bedmachine bathymetry as the basemap\n",
    "with pygmt.config(MAP_FRAME_TYPE = 'inside'):\n",
    "    fig.grdimage(projection=fig_proj,\n",
    "             region=fig_reg,\n",
    "             grid='../data/results/Bedmachine_bed_5k_wgs.nc',\n",
    "             cmap='../data/results/RE_bathymetry.cpt',\n",
    "             shading=\"grdgradient+a45+ne.5\",\n",
    "             dpi=500,\n",
    "             frame = [\"nwse\", \"xf100000\", \"yf100000\", \"g0\"])\n",
    "\n",
    "# add colorbar below figure\n",
    "bar_width = fig_width/10 * 0.8 # color bar width is 80% of the map width, in cm\n",
    "pos_str = 'jBC+w' + str(bar_width) + 'c/.5c+jTC+o0c/.2c+h+e'\n",
    "with pygmt.config(FONT_ANNOT_PRIMARY = '14p,black', FONT_LABEL = '18p,black'):\n",
    "    fig.colorbar(cmap='../data/results/RE_bathymetry.cpt', position = pos_str, \n",
    "                 frame=['xa100f50+l\"Bathymetry (mbsl)\"'], verbose='e')  \n",
    "\n",
    "# plot groundingline and coastlines\n",
    "fig.plot(data=gpd.read_file('../data/input/GroundingLine_Antarctica_v02.shp'), \n",
    "         pen = '1.2p,black', verbose='e')\n",
    "fig.plot(data=gpd.read_file('../data/input/Coastline_Antarctica_v02.shp'), \n",
    "         pen='1.2p,black', verbose='e')\n",
    "\n",
    "# Plot graticules overtop, at 4d latitude and 30d longitude\n",
    "with pygmt.config(MAP_ANNOT_OFFSET_PRIMARY = '-2p', MAP_FRAME_TYPE = 'inside',\n",
    "                  MAP_ANNOT_OBLIQUE = 0, FONT_ANNOT_PRIMARY = '8p,black,-=2p,white', \n",
    "                  MAP_GRID_PEN_PRIMARY = 'grey', MAP_TICK_LENGTH_PRIMARY = '-10p',\n",
    "                  MAP_TICK_PEN_PRIMARY = 'thinnest,grey', FORMAT_GEO_MAP = 'dddF',\n",
    "                  MAP_POLAR_CAP = '90/90', ):\n",
    "    fig.basemap(projection = fig_proj_ll, region = fig_reg,\n",
    "                frame = [\"NSWE\", \"xa30g15\", \"ya4g2\"], verbose='e')\n",
    "    with pygmt.config(FONT_ANNOT_PRIMARY = '8p,black'):\n",
    "        fig.basemap(projection = fig_proj_ll, region = fig_reg,\n",
    "                frame = [\"NSWE\", \"xa30\", \"ya4\"], verbose='e')\n",
    "\n",
    "# plot square for DSDP 270 drill site\n",
    "fig.plot(projection = fig_proj, x = -35781, y = -1369331, \n",
    "         pen = '1p,black', style = 's0.4c')\n",
    "\n",
    "# plot location labels from .tsv file, with white shadow\n",
    "fig.text(textfiles=\"../data/input/place_labels_Fig1a.tsv\", angle=True, \n",
    "         font= '12,Helvetica,black,-=3p,white', justify=True,)\n",
    "fig.text(textfiles=\"../data/input/place_labels_Fig1a.tsv\", angle=True, \n",
    "         font= '12p,Helvetica,black', justify=True,) \n",
    "  \n",
    "# plot scalebar\n",
    "with pygmt.config(FONT_ANNOT_PRIMARY = '12p,white', FONT_LABEL = '12p,white',\n",
    "                  MAP_SCALE_HEIGHT='7p', MAP_TICK_PEN_PRIMARY = '0.5p,white'):\n",
    "    fig.basemap(projection = fig_proj_ll, \n",
    "                map_scale='jBR+w400k+c170E/71S+f+l\"km\"+ar+o1.7c/0.6c', verbose='e')\n",
    "\n",
    "# plot figure label \"a\"\n",
    "fig.text(projection = fig_proj,\n",
    "            position='TL',\n",
    "            text = \"a\",\n",
    "            fill = 'white',\n",
    "            font = '20p,Helvetica,black',\n",
    "            offset = 'j.5/.5',\n",
    "            clearance = '+tO')\n",
    "\n",
    "#################\n",
    "#################\n",
    "# shift origin to right, and start plot panel b\n",
    "#################\n",
    "#################\n",
    "\n",
    "fig.shift_origin(xshift=fig_width/10)\n",
    "\n",
    "# plot background as MODIS-MOA imagery, at 50% transparency\n",
    "with pygmt.config(MAP_FRAME_TYPE = 'inside'):\n",
    "    fig.grdimage(projection = fig_proj, region=fig_reg,\n",
    "                 frame=[\"nwse\", \"xf100000\", \"yf100000\", \"g0\"],\n",
    "                 grid ='../data/input/moa750_2009_hp1_v1.1.tif', \n",
    "                 cmap = '../data/results/moa.cpt',transparency=50)\n",
    "\n",
    "# plot ANTOSTRAT basement depths\n",
    "fig.grdimage(grid='../data/results/Lindeque_bedmachine_basement.nc', \n",
    "             cmap='../data/results/ANTOSTRAT.cpt',\n",
    "             nan_transparent=True, dpi='500')\n",
    "\n",
    "# colorbar below figure\n",
    "bar_width = fig_width/10 * 0.45 # color bar width is 40% of the map width, in cm\n",
    "pos_str = 'jBR+w' + str(bar_width) + 'c/.5c+jTR+o.2c/.2c+h+eb'\n",
    "with pygmt.config(FONT_ANNOT_PRIMARY = '14p,black', FONT_LABEL = '16p,black'):\n",
    "    fig.colorbar(cmap='../data/results/ANTOSTRAT.cpt', position = pos_str, \n",
    "                 frame=['xa2000f1000+l\"Basement elevation (m)\"'], verbose='e')  \n",
    "\n",
    "# plot 1km contours\n",
    "fig.grdcontour(grid='../data/results/Lindeque_bedmachine_basement.nc', \n",
    "               interval=1000, pen='thinner,grey60')\n",
    " \n",
    "# plot OIB and ROSETTA magnetics\n",
    "fig.grdimage(grid='../data/results/RS_OIB_mag.nc', cmap='../data/results/RIS_mag.cpt', nan_transparent=True)\n",
    "\n",
    "# colorbar below figure\n",
    "bar_width = fig_width/10 * 0.45 # color bar width is 40% of the map width, in cm\n",
    "pos_str = 'jBL+w' + str(bar_width) + 'c/.5c+jTL+o.2c/.2c+h+e'\n",
    "with pygmt.config(FONT_ANNOT_PRIMARY = '14p,black', FONT_LABEL = '16p,black'):\n",
    "    fig.colorbar(cmap='../data/results/RIS_mag.cpt', position = pos_str, \n",
    "                 frame=['xa100f50+l\"Magnetic anomaly (nT)\"'], verbose='e')  \n",
    "\n",
    "# plot flight paths of OIB 404\n",
    "df_oib_404_590=df_oib_404[df_oib_404.Line.isin(['L404.590', 'L590'])].copy()\n",
    "df_oib_404_590.dropna(how='any', inplace=True)\n",
    "fig.plot(x=df_oib_404_590.x[df_oib_404_590.Line=='L590'], y=df_oib_404_590.y[df_oib_404_590.Line=='L590'], \n",
    "         pen='1.2p,black,4_2:2p')                    \n",
    "fig.plot(x=df_oib_404.x[df_oib_404.Line=='L404.650'], y=df_oib_404.y[df_oib_404.Line=='L404.650'], \n",
    "         pen='1.2p,black,4_2:2p') \n",
    "\n",
    "# plot groundingline and coastlines\n",
    "fig.plot(data=gpd.read_file('../data/input/GroundingLine_Antarctica_v02.shp'), \n",
    "         pen = '1.2p,black', verbose='e')\n",
    "fig.plot(data=gpd.read_file('../data/input/Coastline_Antarctica_v02.shp'), \n",
    "         pen='1.2p,black', verbose='e')\n",
    "\n",
    "# Plot graticules overtop, at 4d latitude and 30d longitude\n",
    "with pygmt.config(MAP_ANNOT_OFFSET_PRIMARY = '-2p', MAP_FRAME_TYPE = 'inside',\n",
    "                  MAP_ANNOT_OBLIQUE = 0, FONT_ANNOT_PRIMARY = '8p,black,-=2p,white', \n",
    "                  MAP_GRID_PEN_PRIMARY = 'grey', MAP_TICK_LENGTH_PRIMARY = '-10p',\n",
    "                  MAP_TICK_PEN_PRIMARY = 'thinnest,grey', FORMAT_GEO_MAP = 'dddF',\n",
    "                  MAP_POLAR_CAP = '90/90', ):\n",
    "    fig.basemap(projection = fig_proj_ll, region = fig_reg,\n",
    "                frame = [\"NSWE\", \"xa30g15\", \"ya4g2\"], verbose='e')\n",
    "    with pygmt.config(FONT_ANNOT_PRIMARY = '8p,black'):\n",
    "        fig.basemap(projection = fig_proj_ll, region = fig_reg,\n",
    "                frame = [\"NSWE\", \"xa30\", \"ya4\"], verbose='e')\n",
    "\n",
    "# Add inset map to show location\n",
    "# inset projection and region\n",
    "inset_width = 7 # width of inset in cm\n",
    "inset_reg = '-3000000/-3000000/3000000/3000000r'\n",
    "inset_map = 'X' + str(inset_width) + 'c'\n",
    "\n",
    "with fig.inset(position='JTL+jCM+w'+str(inset_width)+'c+o-.4c/-2.6c'):\n",
    "    # made this in QGIS to encompass Antarctica\n",
    "    fig.plot(projection = inset_map, region = inset_reg, \n",
    "             data = gpd.read_file('../data/input/Antarctica_inset_outline.shp'),color = 'white')\n",
    "    fig.plot(data = gpd.read_file('../data/input/Coastline_Antarctica_v02.shp'), color = 'skyblue')\n",
    "    fig.plot(data = gpd.read_file('../data/input/GroundingLine_Antarctica_v02.shp'), color = 'grey')\n",
    "    fig.plot(data = gpd.read_file('../data/input/Coastline_Antarctica_v02.shp'), pen='0.5p,black')\n",
    "    fig.plot(x = [e_lim, e_lim, w_lim, w_lim, e_lim], \n",
    "            y = [n_lim, s_lim, s_lim, n_lim, n_lim], \n",
    "            pen = '1p,black')\n",
    "    # WARS\n",
    "    fig.plot(data = gpd.read_file('../data/input/WARS.shp'), color = \"p9+bred+f-\", transparency = 40)\n",
    "    # TAM\n",
    "    fig.plot( data = gpd.read_file('../data/input/TAM.shp'), color = \"blue\", transparency = 60)\n",
    "    # Location labels\n",
    "    fig.text(textfiles = \"../data/input/place_labels_Fig1inset_shadow.tsv\",\n",
    "            angle = True, font = True, justify = True,)\n",
    "    fig.text(textfiles = \"../data/input/place_labels_Fig1inset.tsv\",\n",
    "            angle = True, font = True, justify = True,)        \n",
    "        \n",
    "# plot figure label \"b\"\n",
    "fig.text(projection = fig_proj, region=fig_reg,\n",
    "        position='TL',\n",
    "        text = \"b\",\n",
    "        fill = 'white',\n",
    "        font = '20p,Helvetica,black',\n",
    "        offset = 'j1.9/.5',\n",
    "        clearance = '+tO')\n",
    "\n",
    "# Location labels\n",
    "fig.text(textfiles=\"../data/input/place_labels_Fig1b.tsv\", angle=True,\n",
    "         font='12p,Helvetica,black,-=3p,white', justify=True)\n",
    "fig.text(textfiles=\"../data/input/place_labels_Fig1b.tsv\", angle=True,\n",
    "         font='12p,Helvetica,black', justify=True)\n",
    "\n",
    "fig.text(x=300000, y=-700000,\n",
    "         text=\"Transantarctic Mountains\",\n",
    "         angle=-45, font='16p,Helvetica,black,-=3p,white', justify='TC')\n",
    "fig.text(x=300000, y=-700000,\n",
    "         text=\"Transantarctic Mountains\",\n",
    "         angle=-45, font='16p,Helvetica,black', justify='TC')\n",
    "\n",
    "fig.text(x=-400000, y=-650000,\n",
    "         text=\"Siple Coast\",\n",
    "         angle=45, font='16p,Helvetica,black,-=3p,white', justify='TC')\n",
    "fig.text(x=-400000, y=-650000,\n",
    "         text=\"Siple Coast\",\n",
    "         angle=45, font='16p,Helvetica,black', justify='TC')\n",
    "\n",
    "# fig.show()"
   ]
  },
  {
   "cell_type": "code",
   "execution_count": 8,
   "metadata": {},
   "outputs": [
    {
     "name": "stderr",
     "output_type": "stream",
     "text": [
      "psconvert [ERROR]: Registry registered C:\\Program Files (x86)\\GPLGS\\gswin32c.exe does not exist. Resorting to the one provided in GMT.\n"
     ]
    }
   ],
   "source": [
    "out='outputs/Fig1_Bathy_Mag.jpg'\n",
    "fig.savefig(out, dpi=200)"
   ]
  },
  {
   "cell_type": "code",
   "execution_count": null,
   "metadata": {},
   "outputs": [],
   "source": []
  }
 ],
 "metadata": {
  "kernelspec": {
   "display_name": "pygmt06",
   "language": "python",
   "name": "pygmt06"
  },
  "language_info": {
   "codemirror_mode": {
    "name": "ipython",
    "version": 3
   },
   "file_extension": ".py",
   "mimetype": "text/x-python",
   "name": "python",
   "nbconvert_exporter": "python",
   "pygments_lexer": "ipython3",
   "version": "3.10.2"
  }
 },
 "nbformat": 4,
 "nbformat_minor": 4
}
