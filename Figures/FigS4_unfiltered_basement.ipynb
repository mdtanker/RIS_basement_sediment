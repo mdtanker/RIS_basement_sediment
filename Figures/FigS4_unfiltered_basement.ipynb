{
 "cells": [
  {
   "cell_type": "markdown",
   "id": "d0202557-8cf9-4346-a5a8-b9be03bf7c93",
   "metadata": {},
   "source": [
    "# Figure S4: Unfiltered Werner solutions and ROSETTA lines\n",
    "\n",
    "This notebook produces supplementary figure 3 of Tankersley et al. 2022.\n",
    "It shows all resulting basement solutions (black dots), and the unfiltered gridding of them. ROSETTA-Ice flight lines and labels are shown. Flight lines and solutions from Figure S3 are highlighted."
   ]
  },
  {
   "cell_type": "code",
   "execution_count": 1,
   "id": "c1d34e8d",
   "metadata": {},
   "outputs": [],
   "source": [
    "# import necessary python packages\n",
    "import pandas as pd\n",
    "import copy\n",
    "import pygmt\n",
    "import geopandas as gpd\n",
    "import os"
   ]
  },
  {
   "cell_type": "code",
   "execution_count": null,
   "id": "a964394d-0cd3-4059-bd3c-1c126dd50793",
   "metadata": {},
   "outputs": [],
   "source": [
    "# all file paths assume this notebook is in /RIS_basement_sediment/figures\n",
    "pwd = os.getcwd()\n",
    "pwd"
   ]
  },
  {
   "cell_type": "markdown",
   "id": "2d850fc9-eda3-491d-a9c6-2a7cb4d65b88",
   "metadata": {
    "tags": []
   },
   "source": [
    "## Load data\n",
    "output from *Tankersley2020_GRL.ipynb*"
   ]
  },
  {
   "cell_type": "code",
   "execution_count": null,
   "id": "5273f6cf-04f2-4d48-8d63-42d2d12008e2",
   "metadata": {},
   "outputs": [],
   "source": [
    "rs = pd.read_csv(\"../data/results/rs.csv\", header=0, index_col=None,sep=',', compression='gzip')\n",
    "basement_points= pd.read_csv('../data/main_results/rosetta_points_blocked.txt', \n",
    "                             names=('x','y','z','Line'), header=None, delim_whitespace=True)"
   ]
  },
  {
   "cell_type": "markdown",
   "id": "8580dd15-21bf-4996-b485-04ec2ecd078c",
   "metadata": {
    "tags": []
   },
   "source": [
    "## Make colorscales"
   ]
  },
  {
   "cell_type": "code",
   "execution_count": null,
   "id": "23b6f5ac-c2ad-48af-9228-7b216cc784f1",
   "metadata": {},
   "outputs": [],
   "source": [
    "# basement\n",
    "pygmt.makecpt(series = '-4000/0/17+n', cmap='batlowW',\n",
    "              background='o', output='../data/plotting/basement.cpt')"
   ]
  },
  {
   "cell_type": "markdown",
   "id": "788ef205",
   "metadata": {},
   "source": [
    "## Figure function"
   ]
  },
  {
   "cell_type": "code",
   "execution_count": 7,
   "id": "b39242a5",
   "metadata": {},
   "outputs": [],
   "source": [
    "#RIS extent\n",
    "e=-660_000\n",
    "n=-1_500_000\n",
    "w=470_000\n",
    "s=-400_000\n",
    "\n",
    "#set figure height, width and map scale\n",
    "fig_height = 180 # in mm\n",
    "fig_width = fig_height*(w-e)/(s-n)\n",
    "fig_ratio = (s-n)/(fig_height/1000)\n",
    "\n",
    "# Make a GMT region string and projection strings in both ESPG3031 and Lat/Lon\n",
    "fig_reg = f'{e}/{w}/{n}/{s}'\n",
    "fig_proj = f\"x1:{fig_ratio}\"\n",
    "fig_proj_ll = f\"s0/-90/-71/1:{fig_ratio}\"\n",
    "\n",
    "def make_grid(lines):\n",
    "    global fig, fig_reg, fig_proj\n",
    "    fig = pygmt.Figure()\n",
    "    \n",
    "    rosetta_flights=rs[rs.Line.isin(lines)].copy()\n",
    "    binned_points=basement_points[basement_points.Line.isin(lines)].copy()\n",
    "\n",
    "    rosetta_flights.drop(rosetta_flights.columns.difference(['x','y','Line']),axis=1, inplace=True)\n",
    "    rosetta_flights.dropna(inplace=True)\n",
    "    rosetta_flights.drop_duplicates(inplace=True)\n",
    "    rosetta_flights['Line']=rosetta_flights['Line'].apply(int)\n",
    "    rosetta_lines=rosetta_flights[rosetta_flights.Line<1000].copy()\n",
    "\n",
    "    subset_lines = [v for _, v in rosetta_lines.groupby('Line')]\n",
    "\n",
    "    rosetta_all_flights = rs[~rs.Line.isin(lines)].copy()\n",
    "    rosetta_all_flights.drop(rosetta_all_flights.columns.difference(['x','y','Line']),axis=1, inplace=True)\n",
    "    rosetta_all_flights.dropna(inplace=True)\n",
    "    rosetta_all_flights.drop_duplicates(inplace=True)\n",
    "    rosetta_all_flights=rosetta_all_flights[~((rosetta_all_flights.Line==403) | (rosetta_all_flights.Line==404) | (rosetta_all_flights.Line==999))]\n",
    "    rosetta_all_flights['Line']=rosetta_all_flights['Line'].apply(int)\n",
    "    rosetta_all_ties=rosetta_all_flights[rosetta_all_flights.Line>=1000]\n",
    "    rosetta_all_lines=rosetta_all_flights[rosetta_all_flights.Line<1000]\n",
    "\n",
    "    all_lines = [v for _, v in rosetta_all_lines.groupby('Line')]\n",
    "    all_ties = [v for _, v in rosetta_all_ties.groupby('Line')]\n",
    "    \n",
    "    with pygmt.config(MAP_FRAME_TYPE = 'inside'):\n",
    "        fig.coast(region = fig_reg, projection = fig_proj_ll, land = 'grey', water = 'grey', frame = [\"nwse\", \"xf100000\", \"yf100000\", \"g0\"],verbose='e')\n",
    "    \n",
    "    # Plot graticules overtop, at 2d latitude and 15d longitude\n",
    "    with pygmt.config(MAP_ANNOT_OFFSET_PRIMARY = '-2p', MAP_FRAME_TYPE = 'inside',\n",
    "                      MAP_ANNOT_OBLIQUE = 0, FONT_ANNOT_PRIMARY = '8p,black',  \n",
    "                      MAP_GRID_PEN_PRIMARY = 'black', MAP_TICK_LENGTH_PRIMARY = '-10p',\n",
    "                      MAP_TICK_PEN_PRIMARY = 'thinnest,black', FORMAT_GEO_MAP = 'dddF',\n",
    "                      MAP_POLAR_CAP = '90/90'):\n",
    "        fig.basemap(projection = fig_proj_ll, region = fig_reg,\n",
    "                    frame = [\"NSWE\", \"xa15g15\", \"ya2g2\"],verbose='e') \n",
    "    \n",
    "    # plot unfiltered basement\n",
    "    fig.grdimage(projection = fig_proj, \n",
    "                 grid = '../data/main_results/RIS_basement_unfilt.nc', \n",
    "                 cmap = '../data/plotting/basement.cpt', \n",
    "                 shading = 'grdgradient+a45+ne.5+m-.4', \n",
    "                 nan_transparent=True)\n",
    "\n",
    "\n",
    "    # plot groundingline and coastlines\n",
    "    fig.plot(data=gpd.read_file('../data/shapefiles/GroundingLine_Antarctica_v02.shp'), \n",
    "             pen = '1.2p,black', verbose='e')\n",
    "    fig.plot(data=gpd.read_file('../data/shapefiles/Coastline_Antarctica_v02.shp'), \n",
    "             pen='1.2p,black', verbose='e')\n",
    "    \n",
    "    # plot EANT/WANT Divide\n",
    "    fig.plot(data=gpd.read_file('../data/shapefiles/EANT_WANT_divide.shp'), pen='3p,black') \n",
    "\n",
    "    # colorbar\n",
    "    barwidth = fig_width/10 * 0.4 # color bar width is 40% of the map width, in cm\n",
    "    pos_str = 'jTR+w' + str(barwidth) + 'c/.5c+jTR+o1c/1c+h+ml+e'\n",
    "    with pygmt.config(FONT_ANNOT_PRIMARY = '12p,black', FONT_LABEL = '16p,black'):\n",
    "        fig.colorbar(cmap = '../data/plotting/basement.cpt', position = pos_str, \n",
    "                     frame = ['xa1000+f500+l\"Basement elevation (m)\"'], \n",
    "                     box = '+gwhite+p0.5p,black+c3p', verbose='e')\n",
    "\n",
    "    # scalebare\n",
    "    with pygmt.config(FONT_ANNOT_PRIMARY = '12p,black', FONT_LABEL = '12p,black', MAP_SCALE_HEIGHT='5p', MAP_TICK_PEN_PRIMARY = '0.5p,black'):\n",
    "        fig.basemap(region = fig_reg, projection = fig_proj_ll, map_scale='jMB+w400k+c170E/71S+f+l\"km\"+ar+o3c/0.5c', verbose='e')\n",
    "    \n",
    "    # plot all N-S lines and labels\n",
    "    for i in list(range(len(all_ties))): \n",
    "        fig.plot(region=fig_reg, projection=fig_proj, x=all_ties[i].x,y=all_ties[i].y, pen='0.3p,white') \n",
    "        if rosetta_all_ties.Line.unique()[i]==1000:#i==0:\n",
    "            fig.text(x=all_ties[i].x.loc[all_ties[i].y.idxmax()], \n",
    "                 y=all_ties[i].y.loc[all_ties[i].y.idxmax()], \n",
    "                 text=str(all_ties[i].Line.iloc[0]), \n",
    "                 justify='CM', font='5p,black', angle=90, offset='0.0c/0.5c', fill='white')\n",
    "        elif rosetta_all_ties.Line.unique()[i]==1030:#i==2:\n",
    "            fig.text(x=all_ties[i].x.loc[all_ties[i].y.idxmax()], \n",
    "                 y=all_ties[i].y.loc[all_ties[i].y.idxmax()], \n",
    "                 text=str(all_ties[i].Line.iloc[0]), \n",
    "                 justify='CM', font='5p,black', angle=90, offset='-0.2c/0.4+v0.2p,white,.', fill='white')\n",
    "        elif rosetta_all_ties.Line.unique()[i]==1040:#i==4:\n",
    "            fig.text(x=all_ties[i].x.loc[all_ties[i].y.idxmax()], \n",
    "                 y=all_ties[i].y.loc[all_ties[i].y.idxmax()], \n",
    "                 text=str(all_ties[i].Line.iloc[0]), \n",
    "                 justify='CM', font='5p,black', angle=90, offset='0.0c/1.2+v0.2p,white,.', fill='white')\n",
    "        elif rosetta_all_ties.Line.unique()[i]==1050:#i==4:\n",
    "            fig.text(x=all_ties[i].x.loc[all_ties[i].y.idxmax()], \n",
    "                 y=all_ties[i].y.loc[all_ties[i].y.idxmax()], \n",
    "                 text=str(all_ties[i].Line.iloc[0]), \n",
    "                 justify='CM', font='5p,black', angle=90, offset='0.0c/1.2+v0.2p,white,.', fill='white')\n",
    "        elif rosetta_all_ties.Line.unique()[i]==1110:#i==4:\n",
    "            fig.text(x=all_ties[i].x.loc[all_ties[i].y.idxmax()], \n",
    "                 y=all_ties[i].y.loc[all_ties[i].y.idxmax()], \n",
    "                 text=str(all_ties[i].Line.iloc[0]), \n",
    "                 justify='CM', font='5p,black', angle=90, offset='0.0c/1.2+v0.2p,white,.', fill='white')\n",
    "        elif rosetta_all_ties.Line.unique()[i]==1140:#i==12:\n",
    "            fig.text(x=all_ties[i].x.loc[all_ties[i].y.idxmax()], \n",
    "                 y=all_ties[i].y.loc[all_ties[i].y.idxmax()], \n",
    "                 text=str(all_ties[i].Line.iloc[0]), \n",
    "                 justify='CM', font='5p,black', angle=90, offset='0.0c/1.4+v0.2p,white,.', fill='white')\n",
    "        else:\n",
    "            fig.text(x=all_ties[i].x.loc[all_ties[i].y.idxmax()], \n",
    "                 y=all_ties[i].y.loc[all_ties[i].y.idxmax()], \n",
    "                 text=str(all_ties[i].Line.iloc[0]), \n",
    "                 justify='CM', font='5p,black', angle=90, offset='0.0c/0.8+v0.2p,white,.',fill='white')\n",
    "    \n",
    "    # plot all E-W lines and labels except for subset\n",
    "    for i in list(range(len(all_lines))): \n",
    "        fig.plot(x=all_lines[i].x, y=all_lines[i].y, pen='0.3p,white') \n",
    "        if (i%2) ==0:\n",
    "            fig.text(x=all_lines[i].x.loc[all_lines[i].x.idxmax()], \n",
    "                     y=all_lines[i].y.loc[all_lines[i].x.idxmax()], \n",
    "                     text=str(all_lines[i].Line.iloc[0]), \n",
    "                     justify='CM', font='5p,black', fill='white', offset='0.2c/0.0c')\n",
    "        else:\n",
    "            fig.text(x=all_lines[i].x.loc[all_lines[i].x.idxmin()], \n",
    "                     y=all_lines[i].y.loc[all_lines[i].x.idxmin()], \n",
    "                     text=str(all_lines[i].Line.iloc[0]), \n",
    "                     justify='CM', font='5p,black', fill='white', offset='-0.2c/0.0c')     \n",
    "    \n",
    "    # plot all points as black dots\n",
    "    fig.plot(region=fig_reg, projection=fig_proj,\n",
    "             data=\"../data/main_results/rosetta_points_blocked.txt\",\n",
    "                style='c.07c',\n",
    "                color='black',\n",
    "                pen='black')   \n",
    "    \n",
    "    # plot choosen lines and labels\n",
    "    for i in list(range(len(subset_lines))): \n",
    "        fig.plot(x=subset_lines[i].x, y=subset_lines[i].y, pen='1.4p,white') \n",
    "        if (i%2) ==0:\n",
    "            fig.text(x=subset_lines[i].x.loc[subset_lines[i].x.idxmax()], \n",
    "                     y=subset_lines[i].y.loc[subset_lines[i].x.idxmax()], \n",
    "                     text=str(subset_lines[i].Line.iloc[0]), \n",
    "                     justify='CM', font='10p,black', fill='white', offset='0.6c/0.0c')\n",
    "        else:\n",
    "            fig.text(x=subset_lines[i].x.loc[subset_lines[i].x.idxmin()], \n",
    "                     y=subset_lines[i].y.loc[subset_lines[i].x.idxmin()], \n",
    "                     text=str(subset_lines[i].Line.iloc[0]), \n",
    "                     justify='CM', font='10p,black', fill='white', offset='-0.6c/0.0c')\n",
    "    \n",
    "    # plot choosen points, colored\n",
    "    fig.plot(x=binned_points.x,\n",
    "             y=binned_points.y, \n",
    "             style = 'c.3c', \n",
    "             pen='thin,black',\n",
    "             color=binned_points.z,\n",
    "             cmap=\"../data/plotting/basement.cpt\")\n",
    "    \n",
    "    fig.show(dpi=200)"
   ]
  },
  {
   "cell_type": "markdown",
   "id": "3083e4af-7090-4015-bd4e-c7dc3346e583",
   "metadata": {},
   "source": [
    "## Make figure"
   ]
  },
  {
   "cell_type": "code",
   "execution_count": null,
   "id": "c06e6c53",
   "metadata": {},
   "outputs": [],
   "source": [
    "# make_grid(lines=(270,310,410,430,590,650))"
   ]
  },
  {
   "cell_type": "markdown",
   "id": "ef859b99-d9e9-4e61-989a-c4ce5840b60c",
   "metadata": {},
   "source": [
    "## Save figure"
   ]
  },
  {
   "cell_type": "code",
   "execution_count": 55,
   "id": "f942e1b2-0c0f-475a-b3b1-79066585a149",
   "metadata": {},
   "outputs": [
    {
     "name": "stderr",
     "output_type": "stream",
     "text": [
      "psconvert [ERROR]: Registry registered C:\\Program Files (x86)\\GPLGS\\gswin32c.exe does not exist. Resorting to the one provided in GMT.\n"
     ]
    }
   ],
   "source": [
    "# out='outputs/FigS4_unfiltered_basement.jpg'\n",
    "# fig.savefig(out, dpi=200)"
   ]
  },
  {
   "cell_type": "code",
   "execution_count": null,
   "id": "47257e9f",
   "metadata": {},
   "outputs": [],
   "source": []
  }
 ],
 "metadata": {
  "kernelspec": {
   "display_name": "Python 3 (ipykernel)",
   "language": "python",
   "name": "python3"
  },
  "language_info": {
   "codemirror_mode": {
    "name": "ipython",
    "version": 3
   },
   "file_extension": ".py",
   "mimetype": "text/x-python",
   "name": "python",
   "nbconvert_exporter": "python",
   "pygments_lexer": "ipython3",
   "version": "3.10.4"
  }
 },
 "nbformat": 4,
 "nbformat_minor": 5
}
