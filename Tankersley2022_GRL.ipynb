{
 "cells": [
  {
   "cell_type": "markdown",
   "id": "004a1395",
   "metadata": {},
   "source": [
    "# Basement topography and sediment thickness beneath Antarctica's Ross Ice Shelf\n",
    "\n",
    "Follow along this Jupyter notebook to see the code behind the analysis and figures for Tankersley et al., 2022. This notebook, and much of the data used are located in a github repository (https://github.com/mdtanker/RIS_basement_sediment), as well as being hosted on PANGAEA (https://doi.pangaea.de/10.1594/PANGAEA.941238). Use the Table of Content panel on the left for easy navigation of the notebook section.\n",
    "\n",
    "Please let me know if you have any questions. Thanks to Matt Siegfried for providing a template for figure creation in PyGMT, from Venturelli et al., 2020.\n",
    "\n",
    "*Matt Tankersley*  \n",
    "*Antarctic Research Centre, Victoria University of Wellington, NZ*  \n",
    "*matthew.tankersley@vuw.ac.nz*  \n",
    "*20 March, 2022*\n",
    "\n",
    "Tankersley, M. D., Horgan, H. J., Siddoway, C. S., Caratori Tontini, F., & Tinto, K. J. (2022).  \n",
    "Basement topography and sediment thickness beneath Antarctica’s Ross Ice Shelf. _Geophysical Research Letters._"
   ]
  },
  {
   "cell_type": "code",
   "execution_count": 2,
   "id": "f28774e9",
   "metadata": {},
   "outputs": [],
   "source": [
    "# import necessary python packages\n",
    "import pygmt\n",
    "import pandas as pd\n",
    "import geopandas as gpd\n",
    "import numpy as np\n",
    "import matplotlib.pyplot as plt\n",
    "from matplotlib import gridspec\n",
    "import copy\n",
    "import scipy.interpolate \n",
    "from scipy import stats\n",
    "import itertools\n",
    "import matplotlib.animation\n",
    "import random\n",
    "import os"
   ]
  },
  {
   "cell_type": "code",
   "execution_count": 3,
   "id": "6e35b628-f159-4d86-922a-563879392f1e",
   "metadata": {},
   "outputs": [
    {
     "data": {
      "text/plain": [
       "'C:\\\\Users\\\\matthewt\\\\Documents\\\\Python_Scripts\\\\RIS_basement_sediment'"
      ]
     },
     "execution_count": 3,
     "metadata": {},
     "output_type": "execute_result"
    }
   ],
   "source": [
    "# all file paths assume this notebook is in /RIS_basement_sediment\n",
    "os.getcwd()"
   ]
  },
  {
   "cell_type": "markdown",
   "id": "ccb43b5f-760e-47ec-ae14-f5b6c4b1091a",
   "metadata": {
    "tags": []
   },
   "source": [
    "# Intro"
   ]
  },
  {
   "cell_type": "markdown",
   "id": "7d55c387",
   "metadata": {},
   "source": [
    "## Datasets\n",
    "\n",
    "All the data used in this notebook and the figures accompanying this paper is publically available. Some of it is in in the \\data\\input folder of the github repository where this notebook was downloaded from: https://github.com/mdtanker/RIS_basement_sediment\n",
    "\n",
    "The following datasets will need to be downloaded from the respective URL's and added the \"data/input\" folder.\n",
    "* [BedMachine bathymetry](https://nsidc.org/data/NSIDC-0756/versions/2); from [Morlighem et al., 2020](https://doi.org/10.1038/s41561-019-0510-8)\n",
    "* [MODIS-MOA satellite imagery](https://nsidc.org/data/NSIDC-0593); from [Scambos et al., 2007](https://doi.org/10.1016/j.rse.2006.12.020)\n",
    "    - download the geotiff \"moa750_2009_hp1_v02.0.tif\"\n",
    "* [Continent-wide Moho depths](http://www.seismolab.org/model/antarctica/lithosphere/index.html#an1-crust); from [An et al., 2015](https://doi.org/10.1002/2014JB011332)\n",
    "    - download \"AN1-CRUST.tar.gz\"\n",
    "    - unzip and place .grd file in data/input folder\n",
    "* [Ross Sea seismic basement depths](https://doi.pangaea.de/10.1594/PANGAEA.864906); compilation from [Lindeque et al., 2016](https://doi.org/10.1002/2016GC006401), which used ANTOSTRAT data from [Brancolini et al., 1995](https://doi.org/10.1002/9781118669013.app1)\n",
    "    - download the netcdf \"sedthick_total_v2_5km_epsg3031.nc\"\n",
    "    - subtracted from sediment thickness to get basement depths\n",
    "* [Local Moho model](https://sites.google.com/view/weisen/research-products?authuser=0); from [Shen et al., 2018]( https://doi.org/10.1029/2017JB015346)\n",
    "    - download \"moho.final.dat\"\n",
    "* [Mean Geotherma heat flux model](https://doi.org/10.5194/tc-14-3843-2020); from [Burton-Johnson et al. 2020](https://doi.org/10.5194/tc-14-3843-2020)\n",
    "    - download \"Mean.tif\" from the supplement\n",
    "\n",
    "The following datasets were used; but are supplied in the repository.\n",
    "* [MEaSUREs grounding line and coastline](https://nsidc.org/data/nsidc-0709); from [Rignot et al., 2013](https://doi.org/10.1126/science.1235798)\n",
    "* [ROSETTA-Ice airborne magnetics and graivty data](https://pgg.ldeo.columbia.edu/data/rosetta-ice); from [Tinto et al., 2019](https://doi.org/10.1038/s41561-019-0370-2)\n",
    "* [OIB airborne magnetics data](https://doi.org/10.5067/OY7C2Y61YSYW); from [Cochran et al. 2014](https://doi.org/10.5067/OY7C2Y61YSYW)\n",
    "    - download flight 403: \"IMCS31B_V02_20112013_A.csv\" and 404: \"IMCS31B_V02_25112013_A.csv\"\n",
    "* [MEaSUREs Phase-Based Antarctica Ice Velocity Map, v1](https://nsidc.org/data/NSIDC-0754/versions/1)\n",
    "    - turned into velocity magnitude by [Venturelli et al. 2020]( https://doi.org/10.1029/2020GL088476)\n"
   ]
  },
  {
   "cell_type": "markdown",
   "id": "28a84804",
   "metadata": {
    "tags": []
   },
   "source": [
    "# Figure 1"
   ]
  },
  {
   "cell_type": "markdown",
   "id": "5991754c-19bf-4447-ad49-be09851d22d8",
   "metadata": {},
   "source": [
    "To start off, let recreate Figure 1 from the paper. To do this, we need to change directories into the /figures folder, and run the jupyter notebook \"Fig1_Bathy_Mag.ipynb\"."
   ]
  },
  {
   "cell_type": "code",
   "execution_count": null,
   "id": "f5d0b43c-2c3c-46fc-a49f-609075507113",
   "metadata": {},
   "outputs": [],
   "source": [
    "os.chdir('figures')\n",
    "os.getcwd()"
   ]
  },
  {
   "cell_type": "code",
   "execution_count": null,
   "id": "cf30f2c5-50f8-4a40-abeb-28633a81709c",
   "metadata": {},
   "outputs": [],
   "source": [
    "%run Fig1_Bathy_Mag.ipynb"
   ]
  },
  {
   "cell_type": "markdown",
   "id": "028ef2e5-c526-4c16-acf7-aab7390ece12",
   "metadata": {},
   "source": [
    "Now lets change back to the folder \\RIS_basement_sediment"
   ]
  },
  {
   "cell_type": "code",
   "execution_count": null,
   "id": "ab29a424-0c7b-47d1-864e-fad408c61f1c",
   "metadata": {},
   "outputs": [],
   "source": [
    "os.chdir('..')\n",
    "os.getcwd()"
   ]
  },
  {
   "cell_type": "markdown",
   "id": "0e76a181",
   "metadata": {
    "tags": []
   },
   "source": [
    "# Depth to magnetic basement process"
   ]
  },
  {
   "cell_type": "markdown",
   "id": "4bebd0d7-6f95-4283-b027-68339d951891",
   "metadata": {},
   "source": [
    "Figure 1 shows the location, important landmarks, and the input datasets used in this study. Our research area is the Ross Ice Shelf, shown on the right panel as the area with magnetics data. This magnetics data is from the ROSETTA-Ice project, and is our main dataset. Also shown in the right panel are Operation Ice Bridge (OIB) airborne magnetics data (dotted black lines and 2 colored lines) and ANTOSTRAT seismic basement depths in the Ross Sea. \n",
    "\n",
    "We begin by estimating magnetic basement for OIB flight 403 in the Ross Sea. Our method to determine basement depths has a series of free parameters. We calculated basement depths with a wide range of values for each these parameters, and chose the set of values which results in the closest fit to ANTOSTRAT seismic basment. \n",
    "\n",
    "To determine magnetic basement depths, we use Werner deconvolution, which passes moving and expanding windows of magnetic anomaly line data, and solves the anomalies within each window for source parameters, such as distance along profile, depth, magnetic susceptibilty, body widy, and body geometry. This process is done in the geophysical software *Geosoft Oasis Montaj*. The exported csv from Geosoft is import here, where our filtering and clustering method turns scattered basement solutions into 2D basement depths. "
   ]
  },
  {
   "cell_type": "markdown",
   "id": "aba99877-7452-4df4-a208-94b4fbd7bc88",
   "metadata": {
    "tags": []
   },
   "source": [
    "## OIB to ANTOSTRAT Tie"
   ]
  },
  {
   "cell_type": "markdown",
   "id": "15069673-e251-4070-b8f9-29b4d3af7cb0",
   "metadata": {},
   "source": [
    "### Import Werner solution"
   ]
  },
  {
   "cell_type": "code",
   "execution_count": 4,
   "id": "92b67316",
   "metadata": {
    "tags": []
   },
   "outputs": [
    {
     "name": "stdout",
     "output_type": "stream",
     "text": [
      "     Line  ANTOSTRAT_basement  bedmap2_bed     Distance      Susc  \\\n",
      "4   403.1                 NaN  -640.123787   418.271576  0.312645   \n",
      "30  403.1        -2097.348018  -646.556423  3596.459961  3.384511   \n",
      "39  403.1        -2120.043582  -646.780432  4410.706055  4.445774   \n",
      "46  403.1        -2127.171328  -646.817150  4670.665527  0.521187   \n",
      "51  403.1        -2139.390477  -646.883734  5120.137695  1.575134   \n",
      "\n",
      "    Window_Width              x             y        Depth  \n",
      "4    1883.958059 -429877.501956 -1.349884e+06 -2008.287109  \n",
      "30   9419.790292 -426754.604562 -1.350473e+06 -4372.663086  \n",
      "39   8163.818253 -425957.292887 -1.350638e+06 -5183.338379  \n",
      "46   1883.958059 -425703.423640 -1.350694e+06 -1772.488037  \n",
      "51   5651.874176 -425265.011274 -1.350793e+06 -3175.393555  \n"
     ]
    }
   ],
   "source": [
    "# import geosoft .csv with Werner solutions for OIB line 403, 404, and ROSETTA lines\n",
    "df0 = pd.read_csv('data\\input\\Geosoft_Werner_output.csv.gz', \n",
    "                  index_col=None, compression='gzip')\n",
    "\n",
    "# put line numbers into float format (L200 -> 200)\n",
    "if type(df0.Line[0]) == str:\n",
    "    df0.Line = df0.Line.str[1:]\n",
    "df0['Line'] = pd.to_numeric(df0['Line']) \n",
    "\n",
    "# make dike solution depths be relative to sea level\n",
    "# was relative to upwards continued flight elevation (1000masl)\n",
    "df0['Depth'] = df0.Z_Dikes+1000\n",
    "\n",
    "# if solutions are shallower then bathymetry, set equal to bathymetry\n",
    "df0.Depth = np.where(df0.Depth>df0.bedmap2_bed, df0.bedmap2_bed, df0.Depth)  \n",
    "\n",
    "# copy df to retain magnetics data to use in plotting\n",
    "df_mag=copy.deepcopy(df0)\n",
    "\n",
    "# # drop columns and NaNs for oib dataset\n",
    "df0_oib=df0.drop(df0.columns.difference(['Line','Distance','x','y','ANTOSTRAT_basement',\n",
    "                                         'bedmap2_bed','Susc','Window_Width','Depth']), axis=1)\n",
    "df0_oib.dropna(how='any', subset=('Line','Distance','x','y','Susc','Window_Width','Depth'), inplace=True)\n",
    "\n",
    "# drop columns and NaNs for rosetta dataset\n",
    "df0_rs=df0.drop(df0.columns.difference(['Line','Distance','x','y','bedmap2_bed', \n",
    "                                        'Susc','Window_Width','Depth']), axis=1)\n",
    "df0_rs.dropna(how='any', subset=('Line','Distance','x','y','Susc','Window_Width','Depth'), inplace=True)\n",
    "\n",
    "print(df0_oib.head())"
   ]
  },
  {
   "cell_type": "markdown",
   "id": "929985df-79ab-4a74-9521-f37d462a4336",
   "metadata": {
    "tags": []
   },
   "source": [
    "### Filtering/binning function\n",
    "* filter solutions based on their magnetic susceptibilty (parameter S) and Werner window width (paremeter W)\n",
    "* horizontally bin the points, removing bins with less than specified minumum amount of filtered solutions (parameter C)\n",
    "* interpolate line between these points\n",
    "* compare depths for this line with ANTOSTRAT basement to get a mean misfit"
   ]
  },
  {
   "cell_type": "code",
   "execution_count": 38,
   "id": "3eac7860",
   "metadata": {
    "tags": []
   },
   "outputs": [],
   "source": [
    "# make function for filtering Werner solutions on susceptibilty & window width, and bins results\n",
    "def filt_and_binning_oib(Line_oib, oib_parameter_s, oib_parameter_w, oib_parameter_b, oib_parameter_c):\n",
    "    global mean_misfit, median_misfit, oib_filt_with_centers, oib, oib_mag, Distance_name, Depth_name, oib_filt, oib_bin_centers, oib_basement, oib_filt_with_centers\n",
    "    \n",
    "    # isolate an individual line\n",
    "    oib = df0_oib[df0_oib.Line==Line_oib].copy()\n",
    "    oib_mag = df_mag[df_mag.Line==Line_oib]\n",
    "    oib_mag = oib_mag.dropna(subset='Mag_anom_draped_1000')\n",
    "    \n",
    "    # make sure ANTOSTRAT column is filled\n",
    "    if Line_oib in [403.1, 403.3]:\n",
    "        oib.ANTOSTRAT_basement.interpolate(method='linear', axis=0, inplace=True, limit_area='inside')\n",
    "    else:\n",
    "        pass\n",
    "    \n",
    "    \"\"\"\n",
    "    filter solutions based on susceptibility and window width\n",
    "    add filtered solutions depths and distances to new columns\n",
    "    i.e. Distance_36k and Depth_36k for iterations where b=36km\n",
    "    \"\"\"\n",
    "    Distance_name = 'Distance_'+(str(int(oib_parameter_b/1000))+'k')\n",
    "    Depth_name ='Depth_'+(str(int(oib_parameter_b/1000))+'k')\n",
    "    oib = pd.concat([oib,pd.DataFrame(columns=[Distance_name, Depth_name])]) # add above columns to oib\n",
    "    oib[Distance_name] = np.floor(oib.Distance[(oib.Susc > oib_parameter_s) & \n",
    "                                                         (oib.Window_Width < oib_parameter_w)]/oib_parameter_b)*oib_parameter_b \n",
    "    oib[Depth_name] = oib.Depth[(oib.Susc > oib_parameter_s) & (oib.Window_Width < oib_parameter_w)]\n",
    "    \n",
    "    # retain oib dataframe before NaN's removed\n",
    "    oib_filt=copy.deepcopy(oib)\n",
    "    \n",
    "    if Line_oib in [403.1, 403.3]:\n",
    "        oib_filt.dropna(inplace=True) # remove rows with NaNs\n",
    "    else: \n",
    "        cols=oib_filt.loc[:, ~oib_filt.columns.isin(['ANTOSTRAT_basement'])].columns # all cols except ANTOSTRAT\n",
    "        oib_filt.dropna(subset=cols, inplace=True) # remove rows with NaNs except for ANTOSTAT columns, since its all nans \n",
    "\n",
    "    # Set bin centers equal to 95% depth of solutions within bin\n",
    "    def quant(x):\n",
    "        return x.quantile(0.95)\n",
    "    # new df with only binned points, with distances set to the center of the bins and depths set to 95% of all points within bins\n",
    "    oib_bin_centers = oib_filt.groupby([Distance_name], as_index=False).agg({Depth_name: quant})\n",
    "    oib_bin_centers['Distance'] = oib_bin_centers[Distance_name]+(oib_parameter_b/2)\n",
    "    oib_bin_centers['binned']=1 # keep track of binned points\n",
    "\n",
    "    # rename Depth_name column so oib_bin_centers can be merged\n",
    "    oib_filt.rename(columns={Depth_name:'Depth_filtered'}, inplace=True)\n",
    "\n",
    "    # add the binned solutions to oib_filt\n",
    "    oib_filt_with_centers = oib_filt.set_index(['Distance', Distance_name]).join(oib_bin_centers.set_index(['Distance', Distance_name]), how='outer')\n",
    "    oib_filt_with_centers.reset_index(inplace=True)\n",
    "    oib_filt_with_centers.sort_values(['Distance'], inplace=True)\n",
    "    #fill nan's in columns, except 'binned'\n",
    "    for col in oib_filt_with_centers.columns:\n",
    "        if col == 'binned':\n",
    "            pass\n",
    "        else:\n",
    "            oib_filt_with_centers[col].interpolate(method='linear', limit_direction='both', inplace=True)    \n",
    "\n",
    "    \"\"\"\n",
    "    retain only the bins which contain a minumum number (count) of points\n",
    "    \"\"\"\n",
    "    # number of filtered points within each bin\n",
    "    oib_filt_with_centers['counts'] = oib_filt_with_centers.groupby([Distance_name])['Depth_filtered'].transform('count')\n",
    "    oib_bin_centers=oib_filt_with_centers[oib_filt_with_centers.binned.notna()]\n",
    "    oib_bin_centers=oib_bin_centers[oib_bin_centers.counts>oib_parameter_c]\n",
    "    \n",
    "    \"\"\"\n",
    "    Compare OIB basement results with ANTOSTRAT basement results\n",
    "    \"\"\"\n",
    "    try:\n",
    "        # interpolate line between binned points for comparison with ANTOSTRAT\n",
    "        x1 = min(oib_bin_centers.Distance)\n",
    "        x2 = max(oib_bin_centers.Distance)\n",
    "        increment = 5000  #sample every 5k for optimization, every 1km of uncertainty analysis\n",
    "        Distance_new = np.arange(x1, x2, increment)  # creates array for distance to interpolate onto, 1 point every 5km\n",
    "        window = int(30000/increment) # window size for filtering resulting interpolated line\n",
    "        try:\n",
    "            # define function which takes distance, and gives interpolated depths\n",
    "            f = scipy.interpolate.interp1d(oib_bin_centers.Distance, oib_bin_centers[Depth_name], kind='quadratic', fill_value='extrapolate') \n",
    "            # apply function to new distance array\n",
    "            oib_basement=f(Distance_new)  \n",
    "            # add new distances and interpolated depth to dataframe\n",
    "            oib_solutions=pd.DataFrame(data={'Distance':Distance_new, 'oib_basement':oib_basement})\n",
    "            # smooth the interpolated depths with a rolling mean window \n",
    "            oib_solutions['oib_basement_filt'] = oib_solutions.oib_basement.rolling(window, center=True).mean()\n",
    "            oib_solutions.sort_values(['Distance'], inplace=True)\n",
    "            # add 'oib_basement' and 'oib_basement_filt' columns to database to get x, y, etc. \n",
    "            oib_basement=oib_filt_with_centers.set_index('Distance').join(oib_solutions.set_index('Distance'), how='outer')\n",
    "            oib_basement.reset_index(inplace=True)\n",
    "            oib_basement.sort_values(['Distance'], inplace=True)\n",
    "            # fill nans in all columns except 'oib_basement_filt' to get x, y, etc. for interpolated basement line\n",
    "            for col in oib_basement.columns:\n",
    "                if col == 'oib_basement_filt':\n",
    "                    pass\n",
    "                else:\n",
    "                    oib_basement[col].interpolate(method='linear', limit_area='inside', inplace=True)    \n",
    "            # drop all rows except for interpolate basement line\n",
    "            # oib_basement.dropna(inplace=True)\n",
    "            oib_basement.dropna(subset=['oib_basement_filt'], inplace=True)\n",
    "            # if solutions are shallower then bathymetry, set equal to bathymetry\n",
    "            oib_basement['filt_clip'] = np.where(oib_basement.oib_basement_filt>oib_basement.bedmap2_bed,\n",
    "                                                        oib_basement.bedmap2_bed, oib_basement.oib_basement_filt)\n",
    "            \"\"\"\n",
    "            if OIB line 403, compare resulting interpolated line with coincident ANTOSTRAT basement \n",
    "            \"\"\"\n",
    "            if Line_oib in [403.1, 403.3]:\n",
    "                oib_basement['misfit'] = oib_basement.ANTOSTRAT_basement - oib_basement.filt_clip \n",
    "                oib_basement['abs_misfit'] = np.abs(oib_basement.misfit)\n",
    "                mean_misfit=oib_basement.abs_misfit.mean()\n",
    "                median_misfit=oib_basement.abs_misfit.median()\n",
    "            else:\n",
    "                mean_misfit=np.nan\n",
    "                median_misfit=np.nan\n",
    "            # add binned solutions to rs_basement, and set their \"binned\" values to 1\n",
    "            oib_basement.binned=0\n",
    "            oib_basement=pd.concat([oib_basement, oib_bin_centers])\n",
    "        except: \n",
    "            mean_misfit=np.nan\n",
    "            median_misfit=np.nan\n",
    "            oib_basement=[]  \n",
    "        # if more than 2 solution per 100km than continue  \n",
    "        if (len(oib_bin_centers))/((max(oib_filt_with_centers.Distance)-min(oib_filt_with_centers.Distance))/100_000)<2: \n",
    "            mean_misfit=np.nan \n",
    "            median_misfit=np.nan\n",
    "        else: \n",
    "            pass\n",
    "    except: \n",
    "        mean_misfit=np.nan\n",
    "        median_misfit=np.nan\n",
    "        oib_basement=[]\n",
    "    # print('mean misfit:',mean_misfit,'\\n','median misfit:',median_misfit)\n",
    "    return mean_misfit"
   ]
  },
  {
   "cell_type": "markdown",
   "id": "eabb1a4d-d65b-41ef-87f1-6f2b4f12c708",
   "metadata": {
    "tags": []
   },
   "source": [
    "### Plotting function"
   ]
  },
  {
   "cell_type": "code",
   "execution_count": 39,
   "id": "e2f408fd",
   "metadata": {
    "tags": []
   },
   "outputs": [],
   "source": [
    "\"\"\"\n",
    "erase any leftover global variables from above function\n",
    "\"\"\"\n",
    "vars=('vars','mean_misfit','median_misfit','oib_filt_with_centers','oib','oib_mag','Distance_name',\n",
    "      'Depth_name','oib_filt','oib_bin_centers','oib_basement',)\n",
    "save_list = globals() # list of all variables\n",
    "save_list = [k for k in save_list if k not in vars]# all variables except thos in vars\n",
    "# #finally, clear all variables (except default and saved) with:\n",
    "for name in dir():\n",
    "    if name not in save_list:\n",
    "        del globals()[name]\n",
    "\"\"\"\n",
    "matplotlib plotting function\n",
    "\"\"\"\n",
    "def plot_OIB(Line_oib, oib_parameter_s, oib_parameter_w, oib_parameter_b, oib_parameter_c, animation=False): \n",
    "    global fig\n",
    "    # run above function with parameters\n",
    "    filt_and_binning_oib(Line_oib, oib_parameter_s, oib_parameter_w, oib_parameter_b, oib_parameter_c)\n",
    "\n",
    "    # initialize figure\n",
    "    if animation==True:\n",
    "        pass\n",
    "    else:\n",
    "        fig = plt.figure(facecolor='w')\n",
    "    \n",
    "    gs = gridspec.GridSpec(2,1, height_ratios=[3,1])\n",
    "    ax0 = fig.add_subplot(gs[0])\n",
    "    # vertical lines of bin size\n",
    "    ax0.vlines(oib_filt_with_centers[Distance_name].unique(),ymin=-10000, ymax=0, \n",
    "               color='k', linewidth=1).set_alpha(.2)    \n",
    "    \n",
    "    # bedmap2 bathymetry\n",
    "    ax0.plot(oib.Distance, oib.bedmap2_bed, c='mediumturquoise', \n",
    "             linewidth=1.5, label='Bathymetry')\n",
    "    \n",
    "    # OIB filtered solutions, scaled by Susc\n",
    "    ax0.scatter(oib_filt.Distance, oib_filt.Depth, s = oib_filt.Susc*3, marker='o', \n",
    "                edgecolors='k', facecolors='none', linewidth=.8, label='Filtered solutions')\n",
    "    \n",
    "    # OIB Werner dike solutions \n",
    "    ax0.scatter(oib.Distance, oib.Depth, s = 1.5, marker='.', edgecolor='none', \n",
    "                facecolor='k', label='All solution')\n",
    "    \n",
    "    # ANTOSTRAT basement  \n",
    "    if Line_oib in [403.1, 403.3]:\n",
    "        ax0.plot(oib.Distance, oib.ANTOSTRAT_basement,  c='blue', \n",
    "                 linewidth=2, label='Seismic Basement')\n",
    "    else:\n",
    "        pass\n",
    "    \n",
    "    # interpolated OIB basement\n",
    "    try:\n",
    "        ax0.plot(oib_basement.Distance, oib_basement.filt_clip, \n",
    "         c='darkorange', label='Mag basement')   \n",
    "    except:\n",
    "        pass\n",
    "    \n",
    "    # binned OIB basement solutions\n",
    "    ax0.scatter(oib_bin_centers.Distance, oib_bin_centers[Depth_name], marker='x', \n",
    "                c='orange', s=60, label='Binned solutions', zorder=15)\n",
    "    \n",
    "    # OIB magnetics  \n",
    "    ax1 = fig.add_subplot(gs[1], sharex=ax0)\n",
    "    ax1.scatter(oib_mag.Distance, oib_mag.Mag_anom_draped_1000, s=.05, \n",
    "                c='r', label='ROSETTA')\n",
    "    ax1.yaxis.tick_left()\n",
    "    ax1.yaxis.set_label_position(\"left\")\n",
    "        \n",
    "    # reverse x axis is flight is West to East\n",
    "    if oib.Distance[oib.x.idxmin()] > oib.Distance[oib.x.idxmax()]:\n",
    "        ax1.set_xlim(oib.Distance.max(), oib.Distance.min()) \n",
    "    else:\n",
    "        ax1.set_xlim(oib.Distance.min(), oib.Distance.max())\n",
    "        ax1.set_xticks(np.arange(oib.Distance.min(), oib.Distance.max(), 100000))\n",
    "        ax1.set_xticklabels(np.arange(0, int((oib.Distance.max())/1000), 100))\n",
    "        ax1.set_xticks(np.arange(0, int((oib.Distance.max())), 20000), minor=True)\n",
    "    \n",
    "    # set figure parameters\n",
    "    ax1.tick_params(axis='both', labelsize=8)\n",
    "    ax0.tick_params(axis='both', labelsize=8)\n",
    "    ax0.set_ylim(-8000, 0)\n",
    "    ax0.set_yticks((-8000, -6000, -4000, -2000, 0))\n",
    "    ax0.set_yticklabels((-8, -6, -4, -2, 0))\n",
    "    ax1.grid(axis='x', which='major', alpha=0.8)\n",
    "    ax1.grid(axis='x', which='minor', alpha=0.3)\n",
    "    ax0.set_ylabel('Depth (km)', size=8)\n",
    "    ax1.set_ylabel('Magnetic anomaly (nT)', size=8)\n",
    "    ax1.set_xlabel('Distance (km)')\n",
    "    lgnd = ax0.legend(loc='lower right', fontsize=6, markerscale=4,framealpha=1)\n",
    "    lgnd.legendHandles[-1]._sizes = [20]\n",
    "    lgnd.legendHandles[-2]._sizes = [20]\n",
    "    lgnd.legendHandles[-3]._sizes = [20]\n",
    "    lgnd.legendHandles[-4]._sizes = [20]\n",
    "    try:\n",
    "        lgnd.legendHandles[-5]._sizes = [20]\n",
    "    except:\n",
    "        pass\n",
    "    txt = '''parameter s > {} \n",
    "            parameter b = {} km\n",
    "             parameter c > {} solutions\n",
    "            parameter w < {} km\n",
    "            '''.format(oib_parameter_s, oib_parameter_b/1000, oib_parameter_c, oib_parameter_w/1000) \n",
    "    plt.figtext(.5,0.02, txt, ha='center', va='top', fontsize=8)\n",
    "    try:\n",
    "        plt.figtext(.8,0.01, \"Misfit: {} m\".format(int(mean_misfit)), ha='center', va='top', fontsize=8)\n",
    "    except:\n",
    "        pass\n",
    "    plt.figtext(.5,.91, 'OIB line {}'.format(oib.Line.iloc[0]), ha='center', va='top', fontsize=10)\n",
    "    fig.subplots_adjust(hspace=0)\n",
    "    plt.setp(ax0.get_xticklabels(),visible=False)\n",
    "    # plt.close()\n",
    "    # plt.show()\n",
    "    # return fig"
   ]
  },
  {
   "cell_type": "markdown",
   "id": "8a32e97e-3dfe-4db6-bd9b-10a9ce9a568a",
   "metadata": {},
   "source": [
    "#### Animations #1"
   ]
  },
  {
   "cell_type": "code",
   "execution_count": null,
   "id": "58db8a5b-f143-46a5-a0be-e86c336e382c",
   "metadata": {
    "tags": []
   },
   "outputs": [],
   "source": [
    "import matplotlib.animation as animation\n",
    "from IPython.display import HTML\n",
    "\n",
    "Line_oib=403.1\n",
    "# Line_oib=403.3,\n",
    "oib_parameter_s=1\n",
    "oib_parameter_w=10000\n",
    "oib_parameter_b=36000\n",
    "oib_parameter_c=6\n",
    "\n",
    "filt_and_binning_oib(Line_oib=Line_oib,\n",
    "    oib_parameter_s=oib_parameter_s,\n",
    "    oib_parameter_w=oib_parameter_w,\n",
    "    oib_parameter_b=oib_parameter_b,\n",
    "    oib_parameter_c=oib_parameter_c)\n",
    "\n",
    "\n",
    "fig = plt.figure(facecolor='w', dpi=400)\n",
    "gs = gridspec.GridSpec(2,1, height_ratios=[3,1])\n",
    "ax0 = fig.add_subplot(gs[0])\n",
    "ax1 = fig.add_subplot(gs[1], sharex=ax0)\n",
    "\n",
    "# OIB magnetics  \n",
    "ax1.scatter(oib_mag.Distance, oib_mag.Mag_anom_draped_1000, s=.05, c='r')\n",
    "ax1.yaxis.tick_left()\n",
    "ax1.yaxis.set_label_position(\"left\")\n",
    "\n",
    "# reverse x axis is flight is West to East\n",
    "if oib.Distance[oib.x.idxmin()] > oib.Distance[oib.x.idxmax()]:\n",
    "    ax1.set_xlim(oib.Distance.max(), oib.Distance.min()) \n",
    "else:\n",
    "    ax1.set_xlim(oib.Distance.min(), oib.Distance.max())\n",
    "    ax1.set_xticks(np.arange(oib.Distance.min(), oib.Distance.max(), 100000))\n",
    "    ax1.set_xticklabels(np.arange(0, int((oib.Distance.max())/1000), 100))\n",
    "    ax1.set_xticks(np.arange(0, int((oib.Distance.max())), 20000), minor=True)\n",
    "\n",
    "# set figure parameters\n",
    "ax1.tick_params(axis='both', labelsize=8)\n",
    "ax0.tick_params(axis='both', labelsize=8)\n",
    "ax0.set_ylim(-8000, 0)\n",
    "ax0.set_yticks((-8000, -6000, -4000, -2000, 0))\n",
    "ax0.set_yticklabels((-8, -6, -4, -2, 0))\n",
    "ax1.grid(axis='x', which='major', alpha=0.8)\n",
    "ax1.grid(axis='x', which='minor', alpha=0.3)\n",
    "ax0.set_ylabel('Depth (km)', size=8)\n",
    "ax1.set_ylabel('Magnetic anomaly (nT)', size=8)\n",
    "ax1.set_xlabel('Distance (km)')\n",
    "\n",
    "plt.figtext(.5,.91, 'OIB line {}'.format(oib.Line.iloc[0]), ha='center', va='top', fontsize=10)\n",
    "fig.subplots_adjust(hspace=0)\n",
    "plt.setp(ax0.get_xticklabels(),visible=False)\n",
    "\n",
    "# bedmap2 bathymetry\n",
    "ax0.plot(oib.Distance, oib.bedmap2_bed, c='mediumturquoise', linewidth=1.5, label='Bathymetry')\n",
    "ax0.legend(loc='lower right', fontsize=6, markerscale=4,framealpha=1)\n",
    "\n",
    "ims=[]\n",
    "ims.append([])\n",
    "\n",
    "# ANTOSTRAT basement  \n",
    "anto,=ax0.plot(oib.Distance, oib.ANTOSTRAT_basement,  c='blue', linewidth=2, label='Seismic Basement')  \n",
    "lgnd = fig.legend(loc='lower right', bbox_transform=ax0.transAxes, bbox_to_anchor=(1,0), fontsize=6, markerscale=4,framealpha=1)\n",
    "for i in range(len(lgnd.legendHandles)):\n",
    "    lgnd.legendHandles[i]._sizes = [20]\n",
    "ims.append([anto, lgnd])\n",
    "\n",
    "# OIB Werner dike solutions, scaled\n",
    "sols_s=ax0.scatter(oib.Distance, oib.Depth, s = oib.Susc*3, marker='o', edgecolors='k', facecolors='none', linewidth=.8)\n",
    "\n",
    "# OIB Werner dike solutions, dots\n",
    "sols=ax0.scatter(oib.Distance, oib.Depth, s = 1.5, marker='.', edgecolor='none', facecolor='k', label='All solution')\n",
    "lgnd = fig.legend(loc='lower right', bbox_transform=ax0.transAxes, bbox_to_anchor=(1,0), fontsize=6, markerscale=4,framealpha=1)\n",
    "for i in range(len(lgnd.legendHandles)):\n",
    "    lgnd.legendHandles[i]._sizes = [20]\n",
    "ims.append([anto, lgnd, sols_s, sols])\n",
    "\n",
    "# OIB filtered solutions, scaled by Susc\n",
    "filt_sols=ax0.scatter(oib_filt.Distance, oib_filt.Depth, s = oib_filt.Susc*3, marker='o', edgecolors='k', facecolors='none', linewidth=.8, label='Filtered solutions')    \n",
    "lgnd = fig.legend(loc='lower right', bbox_transform=ax0.transAxes, bbox_to_anchor=(1,0), fontsize=6, markerscale=4,framealpha=1)\n",
    "for i in range(len(lgnd.legendHandles)):\n",
    "    lgnd.legendHandles[i]._sizes = [20]\n",
    "ims.append([anto, sols, filt_sols, lgnd])\n",
    "\n",
    "# vertical lines of bin size\n",
    "lines=ax0.vlines(oib_filt_with_centers[Distance_name].unique(),ymin=-10000, ymax=0, color='k', linewidth=1, alpha=.2)\n",
    "ims.append([anto, sols, filt_sols, lines, lgnd])\n",
    "\n",
    "# bins\n",
    "bins=ax0.scatter(oib_filt_with_centers[oib_filt_with_centers.binned.notna()].Distance, oib_filt_with_centers[oib_filt_with_centers.binned.notna()][Depth_name], marker='x', c='orange', s=60)\n",
    "ims.append([anto, sols, filt_sols, lines, bins, lgnd])\n",
    "\n",
    "# bin > counts\n",
    "binned=ax0.scatter(oib_bin_centers.Distance, oib_bin_centers[Depth_name], marker='x', c='orange', s=60, label='Binned solutions')\n",
    "lgnd = fig.legend(loc='lower right', bbox_transform=ax0.transAxes, bbox_to_anchor=(1,0), fontsize=6, markerscale=4,framealpha=1)\n",
    "for i in range(len(lgnd.legendHandles)):\n",
    "    lgnd.legendHandles[i]._sizes = [20]\n",
    "ims.append([anto, sols, filt_sols, lines, binned, lgnd])\n",
    "\n",
    "# interpolated OIB basement\n",
    "base,=ax0.plot(oib_basement.Distance, oib_basement.filt_clip, c='darkorange', label='Mag basement')\n",
    "lgnd = fig.legend(loc='lower right', bbox_transform=ax0.transAxes, bbox_to_anchor=(1,0), fontsize=6, markerscale=4,framealpha=1)\n",
    "for i in range(len(lgnd.legendHandles)):\n",
    "    lgnd.legendHandles[i]._sizes = [20]\n",
    "ims.append([anto, sols, filt_sols, lines, binned, base, lgnd])\n",
    "plt.close()\n",
    "anim = animation.ArtistAnimation(fig, ims, interval=800, blit=False)\n",
    "HTML(anim.to_jshtml())\n",
    "# anim.save('OIB_ANTOSTRAT_tie.gif')"
   ]
  },
  {
   "cell_type": "markdown",
   "id": "fe842c94-e435-4298-aedd-a18223aa9a3b",
   "metadata": {},
   "source": [
    "#### Animation #2\n",
    "Frame 1: Bathymetry in light blue, with OIB magnetics data in red  \n",
    "Frame 2: ANTOSTAT seismic basement in dark blue  \n",
    "Frame 3: All Werner dike solutions, scaled by parameter S (magnetic susceptibilty\\*dike width)  \n",
    "Frame 4: Shallow solutions removed based on parameter W & S, remaining solutions scaled  \n",
    "Frame 5: Vertical bin lines added  \n",
    "Frame 6: Crosses added to centers of each bin, and 95% bin depth  \n",
    "Frame 7: Bins with < low numbers of solutions removed (parameter C)  \n",
    "Frame 8: Bins interpolated to produce line, representing basement surface\n",
    "\n",
    "<!-- ![SegmentLocal](OIB_ANTOSTRAT_tie.gif \"segment\") -->\n"
   ]
  },
  {
   "cell_type": "markdown",
   "id": "805f99ee-2b35-4d58-9039-99807464e9c8",
   "metadata": {
    "tags": []
   },
   "source": [
    "#### Plot tie results"
   ]
  },
  {
   "cell_type": "code",
   "execution_count": null,
   "id": "da9640f9",
   "metadata": {
    "tags": []
   },
   "outputs": [],
   "source": [
    "# choose line, and pick parameter values\n",
    "plot_OIB(\n",
    "    Line_oib=403.1,\n",
    "    # Line_oib=403.3,\n",
    "    oib_parameter_s=.1,\n",
    "    oib_parameter_w=20000,\n",
    "    oib_parameter_b=36000,\n",
    "    oib_parameter_c=2, animation=False)"
   ]
  },
  {
   "cell_type": "markdown",
   "id": "2086f9a0-895f-4d83-9521-460b0df78b01",
   "metadata": {
    "tags": []
   },
   "source": [
    "### Optimize\n",
    "\n",
    "The above function *filt_and_binning_oib* takes an input of parameters w,s,b, and c, and returns a mean misfit between OIB and ANTOSTRAT basement. We now apply a wide range of these parameter values to this function to find which values result in the smallest misfit. First we set up an empty dataframe for all possible combinations of 21 values for each variable, then for each combination we apply *filt_and_binning_oib* and save the resulting misfit value. We do this for both line 403.1 and 403.3."
   ]
  },
  {
   "cell_type": "markdown",
   "id": "89fad891-5fec-48af-b5ed-9ee07d197782",
   "metadata": {
    "tags": []
   },
   "source": [
    "#### Parameter space\n",
    "This will contain a column for each parameter. Each parameter will have 21 values, and the rows will be each unique combination of these parameter values. This results in a total of 194481 combinations."
   ]
  },
  {
   "cell_type": "code",
   "execution_count": 11,
   "id": "12d6cde8",
   "metadata": {
    "tags": []
   },
   "outputs": [],
   "source": [
    "s=np.linspace(0, 4, 21)\n",
    "w=np.linspace(0, 40000, 21, dtype=int)\n",
    "b=np.linspace(0, 40000, 21, dtype=int)\n",
    "c=np.linspace(0, 40, 21, dtype=int)\n",
    "params=[s,w,b,c]         \n",
    "comb=list(itertools.product(*params))   \n",
    "df_misfit_oib=pd.DataFrame(comb, columns=['susc', 'window', 'bin', 'count'])"
   ]
  },
  {
   "cell_type": "markdown",
   "id": "cac0c6c4-8c7a-40df-bc4c-9db608936ac3",
   "metadata": {
    "tags": []
   },
   "source": [
    "#### Misfit\n",
    "Apply the function *filt_and_binning_oib* to each row and save the results. Do this for both lines; 403.1 and 403.3.  \n",
    "WARNING, THIS MAY TAKE SEVERAL HOURS TO RUN!"
   ]
  },
  {
   "cell_type": "code",
   "execution_count": 13,
   "id": "5216e1e4",
   "metadata": {
    "tags": []
   },
   "outputs": [
    {
     "name": "stdout",
     "output_type": "stream",
     "text": [
      "CPU times: total: 2min 13s\n",
      "Wall time: 2min 49s\n"
     ]
    },
    {
     "data": {
      "text/html": [
       "<div>\n",
       "<style scoped>\n",
       "    .dataframe tbody tr th:only-of-type {\n",
       "        vertical-align: middle;\n",
       "    }\n",
       "\n",
       "    .dataframe tbody tr th {\n",
       "        vertical-align: top;\n",
       "    }\n",
       "\n",
       "    .dataframe thead th {\n",
       "        text-align: right;\n",
       "    }\n",
       "</style>\n",
       "<table border=\"1\" class=\"dataframe\">\n",
       "  <thead>\n",
       "    <tr style=\"text-align: right;\">\n",
       "      <th></th>\n",
       "      <th>susc</th>\n",
       "      <th>window</th>\n",
       "      <th>bin</th>\n",
       "      <th>count</th>\n",
       "      <th>misfit_403.1</th>\n",
       "      <th>misfit_403.3</th>\n",
       "    </tr>\n",
       "  </thead>\n",
       "  <tbody>\n",
       "    <tr>\n",
       "      <th>count</th>\n",
       "      <td>625.000000</td>\n",
       "      <td>625.000000</td>\n",
       "      <td>625.000000</td>\n",
       "      <td>625.000000</td>\n",
       "      <td>325.000000</td>\n",
       "      <td>368.000000</td>\n",
       "    </tr>\n",
       "    <tr>\n",
       "      <th>mean</th>\n",
       "      <td>2.000000</td>\n",
       "      <td>20000.000000</td>\n",
       "      <td>20000.000000</td>\n",
       "      <td>20.000000</td>\n",
       "      <td>1511.741356</td>\n",
       "      <td>2239.120258</td>\n",
       "    </tr>\n",
       "    <tr>\n",
       "      <th>std</th>\n",
       "      <td>1.415346</td>\n",
       "      <td>14153.462927</td>\n",
       "      <td>14153.462927</td>\n",
       "      <td>14.153463</td>\n",
       "      <td>548.923264</td>\n",
       "      <td>458.415655</td>\n",
       "    </tr>\n",
       "    <tr>\n",
       "      <th>min</th>\n",
       "      <td>0.000000</td>\n",
       "      <td>0.000000</td>\n",
       "      <td>0.000000</td>\n",
       "      <td>0.000000</td>\n",
       "      <td>335.974331</td>\n",
       "      <td>1394.593605</td>\n",
       "    </tr>\n",
       "    <tr>\n",
       "      <th>25%</th>\n",
       "      <td>1.000000</td>\n",
       "      <td>10000.000000</td>\n",
       "      <td>10000.000000</td>\n",
       "      <td>10.000000</td>\n",
       "      <td>1110.901749</td>\n",
       "      <td>1872.557148</td>\n",
       "    </tr>\n",
       "    <tr>\n",
       "      <th>50%</th>\n",
       "      <td>2.000000</td>\n",
       "      <td>20000.000000</td>\n",
       "      <td>20000.000000</td>\n",
       "      <td>20.000000</td>\n",
       "      <td>1428.781614</td>\n",
       "      <td>2188.124074</td>\n",
       "    </tr>\n",
       "    <tr>\n",
       "      <th>75%</th>\n",
       "      <td>3.000000</td>\n",
       "      <td>30000.000000</td>\n",
       "      <td>30000.000000</td>\n",
       "      <td>30.000000</td>\n",
       "      <td>1883.731139</td>\n",
       "      <td>2529.087203</td>\n",
       "    </tr>\n",
       "    <tr>\n",
       "      <th>max</th>\n",
       "      <td>4.000000</td>\n",
       "      <td>40000.000000</td>\n",
       "      <td>40000.000000</td>\n",
       "      <td>40.000000</td>\n",
       "      <td>3609.209065</td>\n",
       "      <td>3774.642764</td>\n",
       "    </tr>\n",
       "  </tbody>\n",
       "</table>\n",
       "</div>"
      ],
      "text/plain": [
       "             susc        window           bin       count  misfit_403.1  \\\n",
       "count  625.000000    625.000000    625.000000  625.000000    325.000000   \n",
       "mean     2.000000  20000.000000  20000.000000   20.000000   1511.741356   \n",
       "std      1.415346  14153.462927  14153.462927   14.153463    548.923264   \n",
       "min      0.000000      0.000000      0.000000    0.000000    335.974331   \n",
       "25%      1.000000  10000.000000  10000.000000   10.000000   1110.901749   \n",
       "50%      2.000000  20000.000000  20000.000000   20.000000   1428.781614   \n",
       "75%      3.000000  30000.000000  30000.000000   30.000000   1883.731139   \n",
       "max      4.000000  40000.000000  40000.000000   40.000000   3609.209065   \n",
       "\n",
       "       misfit_403.3  \n",
       "count    368.000000  \n",
       "mean    2239.120258  \n",
       "std      458.415655  \n",
       "min     1394.593605  \n",
       "25%     1872.557148  \n",
       "50%     2188.124074  \n",
       "75%     2529.087203  \n",
       "max     3774.642764  "
      ]
     },
     "execution_count": 13,
     "metadata": {},
     "output_type": "execute_result"
    }
   ],
   "source": [
    "%%time\n",
    "# 59sec for 256 its, 4 values of each param\n",
    "# 2mins 13s for 625 its, 5 values of each param\n",
    "#from tqdm import tqdm\n",
    "# tqdm.pandas()\n",
    "lines=[403.1, 403.3]\n",
    "for l in lines:# look into replacing apply with vectorization\n",
    "    df_misfit_oib['misfit_{}'.format(l)]=df_misfit_oib.apply(lambda x: filt_and_binning_oib(Line_oib=l,  \n",
    "                                oib_parameter_s=x['susc'], \n",
    "                                oib_parameter_w=x['window'], \n",
    "                                oib_parameter_b=x['bin'], \n",
    "                                oib_parameter_c=x['count']), axis=1)\n",
    "df_misfit_oib.describe()"
   ]
  },
  {
   "cell_type": "markdown",
   "id": "6a85d4e5-80b9-4bb8-8a57-8d6c4082ce1d",
   "metadata": {},
   "source": [
    "#### Organize\n",
    "For each row, take the average of the misfits for both 403.1 and 403.3.   \n",
    "Sort by these average values and save as a csv.  \n",
    "Drop erroneous first 4 rows. "
   ]
  },
  {
   "cell_type": "code",
   "execution_count": null,
   "id": "1994b3b8",
   "metadata": {
    "tags": []
   },
   "outputs": [],
   "source": [
    "# average the misfit of lines 403.1 and 403.3.\n",
    "df_misfit_oib['misfit_oib_avg']=df_misfit_oib[['misfit_403.1', 'misfit_403.3']].dropna(subset=['misfit_403.1', 'misfit_403.3']).mean(axis=1)\n",
    "# sort from lowest misfit to highest.\n",
    "df_misfit_oib.sort_values('misfit_oib_avg', inplace=True)\n",
    "# save as csv\n",
    "df_misfit_oib.to_csv('data/results/mean_misfit_oib_optimize.csv', index=False)"
   ]
  },
  {
   "cell_type": "code",
   "execution_count": 10,
   "id": "475481e6-869c-45f0-8ef1-5136dbb9ef43",
   "metadata": {
    "tags": []
   },
   "outputs": [
    {
     "data": {
      "text/html": [
       "<div>\n",
       "<style scoped>\n",
       "    .dataframe tbody tr th:only-of-type {\n",
       "        vertical-align: middle;\n",
       "    }\n",
       "\n",
       "    .dataframe tbody tr th {\n",
       "        vertical-align: top;\n",
       "    }\n",
       "\n",
       "    .dataframe thead th {\n",
       "        text-align: right;\n",
       "    }\n",
       "</style>\n",
       "<table border=\"1\" class=\"dataframe\">\n",
       "  <thead>\n",
       "    <tr style=\"text-align: right;\">\n",
       "      <th></th>\n",
       "      <th>window</th>\n",
       "      <th>susc</th>\n",
       "      <th>bin</th>\n",
       "      <th>count</th>\n",
       "      <th>misfit_403.1</th>\n",
       "      <th>misfit_403.3</th>\n",
       "      <th>misfit_oib_avg</th>\n",
       "    </tr>\n",
       "  </thead>\n",
       "  <tbody>\n",
       "    <tr>\n",
       "      <th>0</th>\n",
       "      <td>10000</td>\n",
       "      <td>1.0</td>\n",
       "      <td>36000</td>\n",
       "      <td>6</td>\n",
       "      <td>315.258891</td>\n",
       "      <td>1255.907938</td>\n",
       "      <td>785.583414</td>\n",
       "    </tr>\n",
       "    <tr>\n",
       "      <th>1</th>\n",
       "      <td>10000</td>\n",
       "      <td>1.0</td>\n",
       "      <td>24000</td>\n",
       "      <td>6</td>\n",
       "      <td>405.321583</td>\n",
       "      <td>1173.121948</td>\n",
       "      <td>789.221765</td>\n",
       "    </tr>\n",
       "    <tr>\n",
       "      <th>2</th>\n",
       "      <td>10000</td>\n",
       "      <td>0.8</td>\n",
       "      <td>24000</td>\n",
       "      <td>8</td>\n",
       "      <td>399.271366</td>\n",
       "      <td>1182.775795</td>\n",
       "      <td>791.023581</td>\n",
       "    </tr>\n",
       "    <tr>\n",
       "      <th>3</th>\n",
       "      <td>10000</td>\n",
       "      <td>0.8</td>\n",
       "      <td>18000</td>\n",
       "      <td>8</td>\n",
       "      <td>365.440901</td>\n",
       "      <td>1232.750867</td>\n",
       "      <td>799.095884</td>\n",
       "    </tr>\n",
       "    <tr>\n",
       "      <th>4</th>\n",
       "      <td>12000</td>\n",
       "      <td>0.8</td>\n",
       "      <td>24000</td>\n",
       "      <td>16</td>\n",
       "      <td>400.124279</td>\n",
       "      <td>1203.110580</td>\n",
       "      <td>801.617430</td>\n",
       "    </tr>\n",
       "  </tbody>\n",
       "</table>\n",
       "</div>"
      ],
      "text/plain": [
       "   window  susc    bin  count  misfit_403.1  misfit_403.3  misfit_oib_avg\n",
       "0   10000   1.0  36000      6    315.258891   1255.907938      785.583414\n",
       "1   10000   1.0  24000      6    405.321583   1173.121948      789.221765\n",
       "2   10000   0.8  24000      8    399.271366   1182.775795      791.023581\n",
       "3   10000   0.8  18000      8    365.440901   1232.750867      799.095884\n",
       "4   12000   0.8  24000     16    400.124279   1203.110580      801.617430"
      ]
     },
     "execution_count": 10,
     "metadata": {},
     "output_type": "execute_result"
    }
   ],
   "source": [
    "# load file\n",
    "df_mean_misfit_oib= pd.read_csv('data/results/mean_misfit_oib_optimize.csv', header=0, index_col=None, sep=',')\n",
    "# drop first 4 rows; issues with too short of interpolated lines\n",
    "df_mean_misfit_oib_clip=df_mean_misfit_oib[5::]\n",
    "# reset index\n",
    "df_mean_misfit_oib_clip.reset_index(inplace=True, drop=True)\n",
    "df_mean_misfit_oib_clip.head()"
   ]
  },
  {
   "cell_type": "code",
   "execution_count": 13,
   "id": "a2a5fbbc-15fe-4c3a-8f1b-9a7f895f875a",
   "metadata": {},
   "outputs": [
    {
     "data": {
      "text/html": [
       "<div>\n",
       "<style scoped>\n",
       "    .dataframe tbody tr th:only-of-type {\n",
       "        vertical-align: middle;\n",
       "    }\n",
       "\n",
       "    .dataframe tbody tr th {\n",
       "        vertical-align: top;\n",
       "    }\n",
       "\n",
       "    .dataframe thead th {\n",
       "        text-align: right;\n",
       "    }\n",
       "</style>\n",
       "<table border=\"1\" class=\"dataframe\">\n",
       "  <thead>\n",
       "    <tr style=\"text-align: right;\">\n",
       "      <th></th>\n",
       "      <th>window</th>\n",
       "      <th>susc</th>\n",
       "      <th>bin</th>\n",
       "      <th>count</th>\n",
       "      <th>misfit_403.1</th>\n",
       "      <th>misfit_403.3</th>\n",
       "      <th>misfit_oib_avg</th>\n",
       "    </tr>\n",
       "  </thead>\n",
       "  <tbody>\n",
       "    <tr>\n",
       "      <th>count</th>\n",
       "      <td>5000.00000</td>\n",
       "      <td>5000.000000</td>\n",
       "      <td>5000.000000</td>\n",
       "      <td>5000.000000</td>\n",
       "      <td>5000.000000</td>\n",
       "      <td>5000.000000</td>\n",
       "      <td>5000.000000</td>\n",
       "    </tr>\n",
       "    <tr>\n",
       "      <th>mean</th>\n",
       "      <td>13688.00000</td>\n",
       "      <td>0.994800</td>\n",
       "      <td>27317.200000</td>\n",
       "      <td>15.834800</td>\n",
       "      <td>627.701579</td>\n",
       "      <td>1471.723919</td>\n",
       "      <td>1049.712749</td>\n",
       "    </tr>\n",
       "    <tr>\n",
       "      <th>std</th>\n",
       "      <td>3323.98342</td>\n",
       "      <td>0.365797</td>\n",
       "      <td>9210.578218</td>\n",
       "      <td>11.192576</td>\n",
       "      <td>151.865109</td>\n",
       "      <td>144.184510</td>\n",
       "      <td>64.270666</td>\n",
       "    </tr>\n",
       "    <tr>\n",
       "      <th>min</th>\n",
       "      <td>2000.00000</td>\n",
       "      <td>0.200000</td>\n",
       "      <td>2000.000000</td>\n",
       "      <td>0.000000</td>\n",
       "      <td>230.600934</td>\n",
       "      <td>1033.578278</td>\n",
       "      <td>785.583414</td>\n",
       "    </tr>\n",
       "    <tr>\n",
       "      <th>25%</th>\n",
       "      <td>12000.00000</td>\n",
       "      <td>0.800000</td>\n",
       "      <td>22000.000000</td>\n",
       "      <td>6.000000</td>\n",
       "      <td>515.399662</td>\n",
       "      <td>1375.496376</td>\n",
       "      <td>1008.959940</td>\n",
       "    </tr>\n",
       "    <tr>\n",
       "      <th>50%</th>\n",
       "      <td>14000.00000</td>\n",
       "      <td>1.000000</td>\n",
       "      <td>28000.000000</td>\n",
       "      <td>14.000000</td>\n",
       "      <td>602.240657</td>\n",
       "      <td>1484.393472</td>\n",
       "      <td>1063.482401</td>\n",
       "    </tr>\n",
       "    <tr>\n",
       "      <th>75%</th>\n",
       "      <td>16000.00000</td>\n",
       "      <td>1.200000</td>\n",
       "      <td>36000.000000</td>\n",
       "      <td>24.000000</td>\n",
       "      <td>719.418413</td>\n",
       "      <td>1578.623123</td>\n",
       "      <td>1101.976288</td>\n",
       "    </tr>\n",
       "    <tr>\n",
       "      <th>max</th>\n",
       "      <td>20000.00000</td>\n",
       "      <td>2.400000</td>\n",
       "      <td>40000.000000</td>\n",
       "      <td>40.000000</td>\n",
       "      <td>1207.260628</td>\n",
       "      <td>1931.587702</td>\n",
       "      <td>1135.666378</td>\n",
       "    </tr>\n",
       "  </tbody>\n",
       "</table>\n",
       "</div>"
      ],
      "text/plain": [
       "            window         susc           bin        count  misfit_403.1  \\\n",
       "count   5000.00000  5000.000000   5000.000000  5000.000000   5000.000000   \n",
       "mean   13688.00000     0.994800  27317.200000    15.834800    627.701579   \n",
       "std     3323.98342     0.365797   9210.578218    11.192576    151.865109   \n",
       "min     2000.00000     0.200000   2000.000000     0.000000    230.600934   \n",
       "25%    12000.00000     0.800000  22000.000000     6.000000    515.399662   \n",
       "50%    14000.00000     1.000000  28000.000000    14.000000    602.240657   \n",
       "75%    16000.00000     1.200000  36000.000000    24.000000    719.418413   \n",
       "max    20000.00000     2.400000  40000.000000    40.000000   1207.260628   \n",
       "\n",
       "       misfit_403.3  misfit_oib_avg  \n",
       "count   5000.000000     5000.000000  \n",
       "mean    1471.723919     1049.712749  \n",
       "std      144.184510       64.270666  \n",
       "min     1033.578278      785.583414  \n",
       "25%     1375.496376     1008.959940  \n",
       "50%     1484.393472     1063.482401  \n",
       "75%     1578.623123     1101.976288  \n",
       "max     1931.587702     1135.666378  "
      ]
     },
     "execution_count": 13,
     "metadata": {},
     "output_type": "execute_result"
    }
   ],
   "source": [
    "df_mean_misfit_oib_clip[0:5000].describe()"
   ]
  },
  {
   "cell_type": "code",
   "execution_count": null,
   "id": "6e074100-e1ea-4402-99b9-d9ca44155e08",
   "metadata": {},
   "outputs": [],
   "source": []
  },
  {
   "cell_type": "markdown",
   "id": "d1460b8d-27ec-4e83-8ae2-83125b0170f6",
   "metadata": {},
   "source": [
    "#### Optimize with Optuna\n",
    "This above optimization can also be accomplished with the python package Optuna. As a comparison, the above optimization if using 5 sets of parameters, making up 625 unique sets of parameters, takes 2mins 13s. Doing the same with Optuna with a complete GridSampler takes 8mins 2s."
   ]
  },
  {
   "cell_type": "code",
   "execution_count": 15,
   "id": "6a0db4c5-98a3-4331-b860-807795218bd1",
   "metadata": {},
   "outputs": [],
   "source": [
    "# import optuna\n",
    "# import plotly\n",
    "\n",
    "# # function to combine misfits of both lines \n",
    "# def combine_rms(Line_A, Line_B, s, b, w, c):\n",
    "#     global misfit_mean\n",
    "#     filt_and_binning_oib(Line_oib = Line_A,\n",
    "#                         oib_parameter_s = s,\n",
    "#                         oib_parameter_w = w,\n",
    "#                         oib_parameter_b = b,\n",
    "#                         oib_parameter_c = c)\n",
    "#     misfit_a = mean_misfit \n",
    "#     filt_and_binning_oib(Line_oib = Line_B, \n",
    "#                         oib_parameter_s = s,\n",
    "#                         oib_parameter_w = w,\n",
    "#                         oib_parameter_b = b,\n",
    "#                         oib_parameter_c = c)\n",
    "#     misfit_b = mean_misfit\n",
    "#     misfit_mean = np.mean([misfit_a, misfit_b])\n",
    "#     return misfit_mean\n",
    "\n",
    "# # create optimization study \n",
    "\n",
    "# # unique identifier of the study. \n",
    "# study_name = \"oib_antostrat_optimize_5sets\"  \n",
    "\n",
    "# # where to save the results as a .db file \n",
    "# storage_name = \"sqlite:///data/results/{}.db\".format(study_name) \n",
    "\n",
    "# # define search space for GridSampler\n",
    "# search_space={'s':np.linspace(0,4,5),#21),\n",
    "#               'w':np.linspace(0,40_000,5),#21),\n",
    "#               'b':np.linspace(0,40_000,5),#21),\n",
    "#               'c':np.linspace(0,40,5)}#21),\n",
    "\n",
    "# # choose sampler type, GridSampler randomly grabs points with search space\n",
    "# # untill all have been checked\n",
    "# study = optuna.create_study(study_name=study_name, \n",
    "#                             storage=storage_name, \n",
    "#                             sampler=optuna.samplers.GridSampler(search_space), \n",
    "#                             load_if_exists=True)\n",
    "# # study = optuna.create_study(study_name=study_name, \n",
    "# #                             storage=storage_name, \n",
    "# #                             sampler=optuna.samplers.TPESampler(n_startup_trials=10000), \n",
    "# #                             load_if_exists=True) \n",
    "# def objective(trial):     \n",
    "#     s = trial.suggest_discrete_uniform('s', 0, 4, 1)#0.2)#0 to 4 in steps of .2\n",
    "#     w = trial.suggest_discrete_uniform('w', 0, 40_000, 10000)#2_000)\n",
    "#     b = trial.suggest_discrete_uniform('b', 0, 40_000, 10000)#2_000) \n",
    "#     c = trial.suggest_discrete_uniform('c', 0, 40, 10)#2) \n",
    "#     combine_rms(Line_A=403.1,\n",
    "#                 Line_B=403.3,\n",
    "#                 s=s, w=w, b=b, c=c) \n",
    "#     return misfit_mean  \n",
    "\n",
    "# # turn off optuna log notes.\n",
    "# optuna.logging.set_verbosity(optuna.logging.ERROR)\n",
    "\n",
    "# # start optimization\n",
    "# study.optimize(objective, n_trials=625)\n",
    "\n",
    "# # load the study results \n",
    "# loaded_study = optuna.load_study(study_name=study_name, storage=storage_name) \n",
    "# study_results = loaded_study.trials_dataframe(attrs=(\"value\", \"params\", \"state\")) \n",
    "# study_results.sort_values(by='value', inplace=True) \n",
    "# study_results"
   ]
  },
  {
   "cell_type": "markdown",
   "id": "b003b8f6-c401-4d28-b0ab-d743b1a903dc",
   "metadata": {},
   "source": [
    "#### Results\n",
    "\n",
    "Above are the top 5 sets of parameters which produced the best match between OIB and ANTOSTRAT basement models. We use the values in row 0 as our final optimized parameters.\n",
    "These values include:\n",
    "* parameter W: 10 km (maximum Werner window width)\n",
    "* parameter S: 1.0 (minimum magnetic susceptibility x body width) \n",
    "* parameter B: 36 km (bin width)\n",
    "* parameter C: 6 (minumum count of solutions / bin)\n",
    "\n",
    "Using these parameters, we plot the resulting OIB basement solutions below, including for OIB line 404, over the Ross Ice Shelf"
   ]
  },
  {
   "cell_type": "code",
   "execution_count": null,
   "id": "9b670062",
   "metadata": {
    "tags": []
   },
   "outputs": [],
   "source": [
    "for line in (403.1, 403.3, 404.59, 404.65):     \n",
    "        row = 0\n",
    "        plot_OIB(Line_oib = line, \n",
    "                oib_parameter_s=df_mean_misfit_oib_clip['susc'].iloc[row], \n",
    "                oib_parameter_w=df_mean_misfit_oib_clip[\"window\"].iloc[row], \n",
    "                oib_parameter_b=df_mean_misfit_oib_clip['bin'].iloc[row], \n",
    "                oib_parameter_c=df_mean_misfit_oib_clip['count'].iloc[row])"
   ]
  },
  {
   "cell_type": "code",
   "execution_count": 41,
   "id": "15499f2e-de39-43be-9abd-960cc650c527",
   "metadata": {},
   "outputs": [],
   "source": [
    "for l in (403.1, 403.3, 404.59, 404.65):\n",
    "    filt_and_binning_oib(Line_oib = l, \n",
    "                         oib_parameter_s=1,\n",
    "                         oib_parameter_w=10000,\n",
    "                         oib_parameter_b=36000,\n",
    "                         oib_parameter_c=6)\n",
    "    oib_mag.to_csv(\"data/results/oib_mag\"+str(l)+\".csv\", index=None)\n",
    "    oib.to_csv(\"data/results/oib\"+str(l)+\".csv\", index=None)\n",
    "    oib_basement.to_csv(\"data/results/oib_basement\"+str(l)+\".csv\", index=None)\n",
    "\n",
    "tmp_oib_basement=[]\n",
    "\n",
    "for l in (403.1, 403.3):\n",
    "    filt_and_binning_oib(Line_oib = l, \n",
    "                         oib_parameter_s=1,\n",
    "                         oib_parameter_w=10000,\n",
    "                         oib_parameter_b=36000,\n",
    "                         oib_parameter_c=6)\n",
    "    tmp_oib_basement.append(oib_basement)\n",
    "      \n",
    "oib_basement = pd.concat(tmp_oib_basement)  \n",
    "\n",
    "oib_basement.to_csv(\"data/results/oib_basement.csv\", index=None)"
   ]
  },
  {
   "cell_type": "markdown",
   "id": "e5146bb9-75a4-4a07-baa7-bc1245ec9cbf",
   "metadata": {},
   "source": [
    "#### Visualize\n",
    "To visualize the optimization process, we will make animations for a random selection of parameter sets."
   ]
  },
  {
   "cell_type": "code",
   "execution_count": null,
   "id": "83a9708b-dac1-40b6-92a6-c224a3fd0122",
   "metadata": {
    "tags": []
   },
   "outputs": [],
   "source": [
    "# sample the optimization database, getting 20 random rows\n",
    "df_sample=df_mean_misfit_oib_clip[df_mean_misfit_oib_clip.misfit_oib_avg.notna()].sample(n=20)\n",
    "\n",
    "s=np.array(df_sample['susc'])  \n",
    "w=np.array(df_sample[\"window\"])\n",
    "b=np.array(df_sample['bin'])\n",
    "c=np.array(df_sample['count'])\n",
    "\n",
    "fig = plt.figure(facecolor='w', dpi=400)\n",
    "\n",
    "def animate(i):\n",
    "    plot_OIB(\n",
    "        Line_oib=403.1,\n",
    "        oib_parameter_s=s[i],\n",
    "        oib_parameter_w=w[i],\n",
    "        oib_parameter_b=b[i],\n",
    "        oib_parameter_c=c[i], animation=True)\n",
    "plt.close()\n",
    "anim = matplotlib.animation.FuncAnimation(fig, animate, blit=False, frames=len(s), interval=400)\n",
    "HTML(anim.to_jshtml())"
   ]
  },
  {
   "cell_type": "code",
   "execution_count": null,
   "id": "e7767a7c-4b1c-4c60-9d2f-98e3dacf6478",
   "metadata": {
    "tags": []
   },
   "outputs": [],
   "source": [
    "# use this if you want to plot non-random optimization results (ex. every 100th row)\n",
    "# # seperate into files for each line, sort by misfit, and save original index.\n",
    "# oib_403_1_misfit=df_mean_misfit_oib_clip.sort_values('misfit_403.1')\n",
    "# oib_403_3_misfit=df_mean_misfit_oib_clip.sort_values('misfit_403.3')\n",
    "# oib_403_1_misfit.reset_index(inplace=True)\n",
    "# oib_403_3_misfit.reset_index(inplace=True)\n",
    "# oib_403_1_misfit.rename(columns={'index':'old_index'}, inplace=True)\n",
    "# oib_403_3_misfit.rename(columns={'index':'old_index'}, inplace=True)\n",
    "# # find new index value for best averaged misfit, which was old_index 0\n",
    "# print(oib_403_1_misfit[oib_403_1_misfit.old_index==0].index)\n",
    "# print(oib_403_3_misfit[oib_403_3_misfit.old_index==0].index)\n",
    "# # sample the optimization database, getting 20 rows, at 100 row increements, starting with the lowest avg. misfit\n",
    "# start=920 # index 920 for 403.3 was index 0 for both 403.1 & 403.3\n",
    "# stop=2_900\n",
    "# inc=100\n",
    "# s=np.array(oib_403_3_misfit['susc'][start:stop].iloc[::inc])  \n",
    "# w=np.array(oib_403_3_misfit[\"window\"][start:stop].iloc[::inc])\n",
    "# b=np.array(oib_403_3_misfit['bin'][start:stop].iloc[::inc])\n",
    "# c=np.array(oib_403_3_misfit['count'][start:stop].iloc[::inc])\n",
    "# # reverse so animation ends with best misfit\n",
    "# w=w[::-1]\n",
    "# s=s[::-1]\n",
    "# b=b[::-1]\n",
    "# c=c[::-1]\n",
    "# fig = plt.figure(facecolor='w', dpi=400)\n",
    "# def animate(i):\n",
    "#     plot_OIB(\n",
    "#         Line_oib=403.3,\n",
    "#         oib_parameter_s=s[i],\n",
    "#         oib_parameter_w=w[i],\n",
    "#         oib_parameter_b=b[i],\n",
    "#         oib_parameter_c=c[i], animation=True)\n",
    "# plt.close()\n",
    "# anim = matplotlib.animation.FuncAnimation(fig, animate, blit=False, frames=len(s), interval=400)\n",
    "# HTML(anim.to_jshtml())"
   ]
  },
  {
   "cell_type": "markdown",
   "id": "8d65d5ae-045f-4125-9a8f-ea12a7863172",
   "metadata": {
    "tags": []
   },
   "source": [
    "# Figures 2 and S2\n",
    "Now that we have finished the OIB-ANTOSTRAT optimization, lets recreate the figures from the manuscript. To do this, we need to change directories into the /figures folder, and run the jupyter notebooks \"Fig2_OIB_403_1.ipynb\" and \"FigS2_OIB_403_3.ipynb\"."
   ]
  },
  {
   "cell_type": "code",
   "execution_count": null,
   "id": "94560dd0-2aea-49ba-8307-feee23adbe88",
   "metadata": {},
   "outputs": [],
   "source": [
    "os.chdir('figures')\n",
    "os.getcwd()"
   ]
  },
  {
   "cell_type": "code",
   "execution_count": null,
   "id": "7c88c9e8-8b42-4e1f-b1c5-aa46bc51f46e",
   "metadata": {},
   "outputs": [],
   "source": [
    "%run Fig2_OIB_403_1.ipynb"
   ]
  },
  {
   "cell_type": "code",
   "execution_count": null,
   "id": "fdc3bdbc-7453-4e6d-998c-e9c52edf58ea",
   "metadata": {},
   "outputs": [],
   "source": [
    "%run Fig_S2_OIB_403_3.ipynb"
   ]
  },
  {
   "cell_type": "markdown",
   "id": "1e53f345-4c4b-4a81-abef-c443a36d2753",
   "metadata": {},
   "source": [
    "Now lets change back to the folder \\RIS_basement_sediment"
   ]
  },
  {
   "cell_type": "code",
   "execution_count": null,
   "id": "07cb5b9c-f484-4127-a206-acb6cc0589e0",
   "metadata": {},
   "outputs": [],
   "source": [
    "os.chdir('..')\n",
    "os.getcwd()"
   ]
  },
  {
   "cell_type": "markdown",
   "id": "6b956ac0-ef32-4348-bde9-668ccb7dbf2f",
   "metadata": {
    "tags": []
   },
   "source": [
    "## ROSETTA to OIB Tie"
   ]
  },
  {
   "cell_type": "markdown",
   "id": "ed52b408-97d7-4b4e-8e0b-5fd199ff5b29",
   "metadata": {},
   "source": [
    "Now that we have constrained basement depths for OIB flight 404 over the ice shelf (Figure 1b), we can \"re-optimize\" our parameters to be best suited for the ROSETTA-Ice magnetics data. This re-optimization is necessary due to differences between the OIB and ROSETTA magnetics data, including flight speed, elevation, sensors, aircraft, and processing. The filtering and binning process is the same as *filt_and_binning_oib*, but is implemented in a new function *filt_and_binning_rs*"
   ]
  },
  {
   "cell_type": "markdown",
   "id": "590c53b8-fd44-4d97-aae1-2ebb9f9f70dc",
   "metadata": {},
   "source": [
    "### Filtering/binning function"
   ]
  },
  {
   "cell_type": "code",
   "execution_count": 25,
   "id": "029e9cfb-b63c-421b-bbcf-dd0d9ea918f0",
   "metadata": {
    "tags": []
   },
   "outputs": [],
   "source": [
    "# make function for filtering Werner solutions on susceptibilty & window width, and bins results\n",
    "def filt_and_binning_rs(Line_rs, rs_parameter_s, rs_parameter_w, rs_parameter_b, rs_parameter_c):\n",
    "    global oib_basement, oib_mag, Line_oib, mean_misfit, median_misfit, rs_filt_with_centers, rs, rs_mag, Distance_name, Depth_name, rs_filt, rs_bin_centers, rs_basement, rs_oib_basement\n",
    "    \"\"\"\n",
    "    get results from OIB-ANTOSTRAT optimization\n",
    "    \"\"\"\n",
    "    if Line_rs in [590,]:\n",
    "        Line_oib=404.59\n",
    "        oib_mag = pd.read_csv(\"data/results/oib_mag404.59.csv\", header=0, index_col=None,sep=',')\n",
    "        oib_basement = pd.read_csv(\"data/results/oib_basement404.59.csv\", header=0, index_col=None,sep=',')\n",
    "    elif Line_rs in [650,]:\n",
    "        Line_oib=404.65\n",
    "        oib_mag = pd.read_csv(\"data/results/oib_mag404.65.csv\", header=0, index_col=None,sep=',')\n",
    "        oib_basement = pd.read_csv(\"data/results/oib_basement404.65.csv\", header=0, index_col=None,sep=',')\n",
    "        \n",
    "    # isolate an individual line\n",
    "    rs = df0_rs[df0_rs.Line==Line_rs].copy()\n",
    "    rs_mag = df_mag[df_mag.Line==Line_rs]\n",
    "    rs_mag = rs_mag.dropna(subset='Mag_anom_draped_1000')\n",
    "    \n",
    "    # sample gridded basement onto dataframe\n",
    "    # move x and y cols to front of df\n",
    "    rs = rs[ ['y'] + [ col for col in rs.columns if col != 'y' ] ]\n",
    "    rs = rs[ ['x'] + [ col for col in rs.columns if col != 'x' ] ]\n",
    "    rs = pygmt.grdtrack(points=rs, \n",
    "                        grid='data/results/rosetta_lindeque_basement_g80kfilt.nc', \n",
    "                        newcolname='data/results/rosetta_lindeque_basement_g80kfilt.nc')\n",
    "    \"\"\"\n",
    "    filter solutions based on susceptibility and window width\n",
    "    add filtered solutions depths and distances to new columns\n",
    "    i.e. Distance_36k and Depth_36k for iterations where b=36km\n",
    "    \"\"\"\n",
    "    Distance_name = 'Distance_'+(str(int(rs_parameter_b/1000))+'k')\n",
    "    Depth_name ='Depth_'+(str(int(rs_parameter_b/1000))+'k')\n",
    "    rs = pd.concat([rs,pd.DataFrame(columns=[Distance_name, Depth_name])]) # add above columns to rs\n",
    "    rs[Distance_name] = np.floor(rs.Distance[(rs.Susc > rs_parameter_s) & \n",
    "                                                       (rs.Window_Width < rs_parameter_w)]/rs_parameter_b)*rs_parameter_b \n",
    "    rs[Depth_name] = rs.Depth[(rs.Susc > rs_parameter_s) & (rs.Window_Width < rs_parameter_w)]\n",
    "    \n",
    "    # retain rs dataframe before NaN's removed\n",
    "    rs_filt=copy.deepcopy(rs)\n",
    "    \n",
    "    rs_filt.dropna(inplace=True) # remove rows with NaNs\n",
    "\n",
    "    # Set bin centers equal to 95% depth of solutions within bin\n",
    "    def quant(x):\n",
    "        return x.quantile(0.95)\n",
    "    \n",
    "    # new df with only binned points, with distances set to the center of the bins and depths set to 95% of all points within bins\n",
    "    rs_bin_centers = rs_filt.groupby([Distance_name], as_index=False).agg({Depth_name: quant})\n",
    "    rs_bin_centers['Distance'] = rs_bin_centers[Distance_name]+(rs_parameter_b/2)\n",
    "    rs_bin_centers['binned']=1 # keep track of binned points\n",
    "    \n",
    "    # rename Depth_name column so rs_bin_centers can be merged\n",
    "    rs_filt.rename(columns={Depth_name:'Depth_filtered'}, inplace=True)\n",
    "\n",
    "    # add the binned solutions to rs_filt\n",
    "    rs_filt_with_centers = rs_filt.set_index(['Distance', Distance_name]).join(rs_bin_centers.set_index(['Distance', Distance_name]), how='outer')\n",
    "    rs_filt_with_centers.reset_index(inplace=True)\n",
    "    rs_filt_with_centers.sort_values(['Distance'], inplace=True)\n",
    "    \n",
    "    #fill nan's in columns, except 'binned'\n",
    "    for col in rs_filt_with_centers.columns:\n",
    "        if col == 'binned':\n",
    "            pass\n",
    "        else:\n",
    "            rs_filt_with_centers[col].interpolate(method='linear', limit_direction='both', inplace=True)    \n",
    "    \n",
    "    \"\"\"\n",
    "    retain only the bins which contain a minumum number (count) of points\n",
    "    \"\"\"\n",
    "    # number of filtered points within each bin\n",
    "    rs_filt_with_centers['counts'] = rs_filt_with_centers.groupby([Distance_name])['Depth_filtered'].transform('count')\n",
    "    rs_bin_centers=rs_filt_with_centers[rs_filt_with_centers.binned.notna()]\n",
    "    rs_bin_centers=rs_bin_centers[rs_bin_centers.counts>rs_parameter_c]\n",
    "    \n",
    "    \"\"\"\n",
    "    Compare rs basement results with ANTOSTRAT basement results\n",
    "    interpolate line between binned points for comparison with ANTOSTRAT\n",
    "    \"\"\"\n",
    "    try:\n",
    "        x1 = min(rs_bin_centers.Distance)\n",
    "        x2 = max(rs_bin_centers.Distance)\n",
    "        increment = 5000  #sample every 5k for optimization, every 1km of uncertainty analysis\n",
    "        Distance_new = np.arange(x1, x2, increment)  # creates array for distance to interpolate onto, 1 point every 5km\n",
    "        window = int(30000/increment) # window size for filtering resulting interpolated line\n",
    "        \n",
    "        # define function which takes distance, and gives interpolated depths\n",
    "        f = scipy.interpolate.interp1d(rs_bin_centers.Distance, rs_bin_centers[Depth_name], kind='quadratic', \n",
    "                                       fill_value='extrapolate') \n",
    "        \n",
    "        # apply function to new distance array\n",
    "        rs_basement=f(Distance_new)  \n",
    "        \n",
    "        # add new distances and interpolated depth to dataframe\n",
    "        rs_solutions=pd.DataFrame(data={'Distance':Distance_new, 'rs_basement':rs_basement})\n",
    "        \n",
    "        # smooth the interpolated depths with a rolling mean window \n",
    "        rs_solutions['rs_basement_filt'] = rs_solutions.rs_basement.rolling(window, center=True).mean()\n",
    "        rs_solutions.sort_values(['Distance'], inplace=True)\n",
    "        \n",
    "        # add 'rs_filt_with_centers' and 'rs_solutions' columns to database to get x, y, etc. \n",
    "        rs_basement=rs_filt_with_centers.set_index('Distance').join(rs_solutions.set_index('Distance'), how='outer')\n",
    "        rs_basement.reset_index(inplace=True)\n",
    "        rs_basement.sort_values(['Distance'], inplace=True)\n",
    "        \n",
    "        # fill nans in all columns except 'rs_basement_filt' to get x, y, etc. for interpolated basement line\n",
    "        for col in rs_basement.columns:\n",
    "            if col == 'rs_basement_filt':\n",
    "                pass\n",
    "            else:\n",
    "                rs_basement[col].interpolate(method='linear', limit_area='inside', inplace=True)    \n",
    "        \n",
    "        # drop all rows except for interpolate basement line\n",
    "        rs_basement.dropna(subset=['rs_basement_filt'], inplace=True)\n",
    "        \n",
    "        # if solutions are shallower then bathymetry, set equal to bathymetry\n",
    "        rs_basement['filt_clip'] = np.where(rs_basement.rs_basement_filt>rs_basement.bedmap2_bed,\n",
    "                                                    rs_basement.bedmap2_bed, rs_basement.rs_basement_filt)\n",
    "        \n",
    "        \"\"\"\n",
    "        Reset distance column to be equal to OIB distances to allow comparision\n",
    "        \"\"\"\n",
    "        if Line_rs == 590:\n",
    "            rs_basement_redist=rs_basement.rename(columns={'Distance':'Distance_rs'})\n",
    "\n",
    "            # set Distance to be relative to max values of oib dataset\n",
    "            oib_x_start=oib_mag.loc[oib_mag.Distance.idxmin()].x #335937.8 m\n",
    "            oib_y_start=oib_mag.loc[oib_mag.Distance.idxmin()].y #-1035932.8 m\n",
    "            rs_basement_redist['Distance'] = np.sqrt((rs_basement_redist.x-oib_x_start)**2 + (rs_basement_redist.y-oib_y_start)**2)\n",
    "\n",
    "            # remove values outside range of oib (from oib max dist to min dist)\n",
    "            rs_basement_redist = rs_basement_redist [rs_basement_redist.x.between(oib_mag.loc[oib_mag.Distance.idxmax()].x, \n",
    "                                                                                  oib_mag.loc[oib_mag.Distance.idxmin()].x)]\n",
    "        \n",
    "        elif Line_rs == 650:\n",
    "            rs_basement_redist=rs_basement.rename(columns={'Distance':'Distance_rs'})\n",
    "            \n",
    "            #set Distance to be relative to max values of oib dataset\n",
    "            oib_x_start=oib_mag.loc[oib_mag.Distance.idxmin()].x #-469761 m \n",
    "            oib_y_start=oib_mag.loc[oib_mag.Distance.idxmin()].y #-1087065.5 m\n",
    "            rs_basement_redist['Distance'] = np.sqrt((rs_basement_redist.x-oib_x_start)**2 + (rs_basement_redist.y-oib_y_start)**2)\n",
    "\n",
    "            # remove values outside range of oib (from oib min dist to max dist)\n",
    "            rs_basement_redist = rs_basement_redist [rs_basement_redist.x.between(oib_mag.loc[oib_mag.Distance.idxmin()].x, \n",
    "                                                                                  oib_mag.loc[oib_mag.Distance.idxmax()].x)]\n",
    "        else:\n",
    "            pass\n",
    "\n",
    "        \"\"\"\n",
    "        if line 590 or 650, compare resulting interpolated line with coincident OIB basement \n",
    "        \"\"\"\n",
    "        if Line_rs in [590, 650]:\n",
    "            oib_basement.rename(columns={'filt_clip':'filt_clip_oib'}, inplace=True)\n",
    "            \n",
    "            # add oib interpolated basement into rs_basement dataframe based on distance column\n",
    "            rs_oib_basement=rs_basement_redist.set_index('Distance').join(oib_basement.set_index('Distance').filt_clip_oib, how='outer')\n",
    "            \n",
    "            # remove distance from index\n",
    "            rs_oib_basement.reset_index(inplace=True)\n",
    "            rs_oib_basement.filt_clip_oib.interpolate(method='linear', axis=0, inplace=True, limit_area='inside')\n",
    "            rs_oib_basement['misfit'] = rs_oib_basement.filt_clip_oib - rs_oib_basement.filt_clip \n",
    "            rs_oib_basement['abs_misfit'] = np.abs(rs_oib_basement.misfit)\n",
    "            \n",
    "            mean_misfit=rs_oib_basement.abs_misfit.mean()\n",
    "            median_misfit=rs_oib_basement.abs_misfit.median()\n",
    "        else:\n",
    "            mean_misfit=np.nan\n",
    "            median_misfit=np.nan\n",
    "        \n",
    "        # add binned solutions to rs_basement, and set their \"binned\" values to 1\n",
    "        rs_basement.binned=0\n",
    "        rs_basement=pd.concat([rs_basement, rs_bin_centers])\n",
    "        \n",
    "    except: \n",
    "        # add binned solutions to rs_basement, and set their \"binned\" values to 1\n",
    "        rs_basement=rs_filt_with_centers\n",
    "        rs_basement.binned=0\n",
    "        rs_basement=pd.concat([rs_basement, rs_bin_centers])\n",
    "        \n",
    "        mean_misfit=np.nan\n",
    "        median_misfit=np.nan\n",
    "     \n",
    "    # if more than 2 solution per 100km than continue  \n",
    "    try:\n",
    "        if (len(rs_bin_centers))/((max(rs_filt_with_centers.Distance)-min(rs_filt_with_centers.Distance))/100_000)<2: \n",
    "            mean_misfit=np.nan \n",
    "            median_misfit=np.nan\n",
    "        else:\n",
    "            pass\n",
    "    except:\n",
    "        pass\n",
    "    # print('mean misfit:',mean_misfit,'\\n','median misfit:',median_misfit)\n",
    "    return mean_misfit"
   ]
  },
  {
   "cell_type": "markdown",
   "id": "de25c005-58b9-46e0-9aff-2af0eed5e9a4",
   "metadata": {},
   "source": [
    "### Plotting function"
   ]
  },
  {
   "cell_type": "code",
   "execution_count": 24,
   "id": "90be9a00-4a94-4f5a-8dbc-1abf16c0ba7d",
   "metadata": {},
   "outputs": [],
   "source": [
    "\"\"\"\n",
    "erase any leftover global variables from above function\n",
    "\"\"\"\n",
    "\n",
    "vars=('mean_misfit','median_misfit','rs_filt_with_centers','rs','rs_mag','Distance_name','Depth_name',\n",
    "      'rs_filt','rs_bin_centers','rs_basement','rs_oib_basement',)\n",
    "save_list = globals() # list of all variables\n",
    "save_list = [k for k in save_list if k not in vars]# all variables except thos in vars\n",
    "# #finally, clear all variables (except default and saved) with:\n",
    "for name in dir():\n",
    "    if name not in save_list:\n",
    "        del globals()[name]\n",
    "        \n",
    "\"\"\"\n",
    "plotting function\n",
    "\"\"\"\n",
    "\n",
    "def plot_ROSETTA(Line_rs, rs_parameter_s, rs_parameter_w, rs_parameter_b,  rs_parameter_c):\n",
    "    # run above function with parameters\n",
    "    filt_and_binning_rs(Line_rs, rs_parameter_s, rs_parameter_w, rs_parameter_b,  rs_parameter_c)\n",
    "    \n",
    "    # initialize figure\n",
    "    fig = plt.figure(facecolor='w')\n",
    "    gs = gridspec.GridSpec(2,1, height_ratios=[3,1])\n",
    "    ax0 = fig.add_subplot(gs[0])\n",
    "    \n",
    "    # bedmap2 bathymetry\n",
    "    ax0.plot(rs.x, rs.bedmap2_bed, c='mediumturquoise', \n",
    "             linewidth=1.5, label='Bathymetry')\n",
    "    \n",
    "    # ROSETTA filtered solutions, scaled by Susc\n",
    "    ax0.scatter(rs_filt.x, rs_filt.Depth, s = rs_filt.Susc*3, marker='o', \n",
    "                edgecolors='k', facecolors='none', linewidth=.8, label='Filtered solutions')\n",
    "    \n",
    "    # ROSETTA Werner dike solutions \n",
    "    ax0.scatter(rs.x, rs.Depth, s = 1.5, marker='.', edgecolor='none', \n",
    "                facecolor='k', label='All solution')\n",
    "    \n",
    " \n",
    "    if Line_rs in [590, 650]:\n",
    "        # OIB basement \n",
    "        ax0.plot(oib_basement.x, oib_basement.filt_clip_oib,  c='blue', \n",
    "                 linewidth=2, label='OIB Basement')\n",
    "    else:\n",
    "        # ROSETTA sampled gridded basement\n",
    "        ax0.plot(rs.x[rs['data/results/rosetta_lindeque_basement_g80kfilt.nc'].notna()], \n",
    "                 rs['data/results/rosetta_lindeque_basement_g80kfilt.nc'][rs['data/results/rosetta_lindeque_basement_g80kfilt.nc'].notna()], \n",
    "                 c='b', label='Gridded Mag basement')\n",
    "\n",
    "    try:\n",
    "        # interpolated ROSETTA basement\n",
    "        ax0.plot(rs_basement.x, rs_basement.filt_clip, \n",
    "             linewidth=2, c='darkorange', label='Magnetic basement')   \n",
    "    except: \n",
    "        pass\n",
    "    \n",
    "    # binned ROSETTA basement solutions\n",
    "    ax0.scatter(rs_bin_centers.x, rs_bin_centers[Depth_name], marker='X', \n",
    "                c='darkorange', s=80, edgecolors='k', linewidth=.5, label='Binned solutions', zorder=15)\n",
    "    \n",
    "    if Line_rs in [590, 650]:\n",
    "        ### ROSETTA magnetics    \n",
    "        ax1 = fig.add_subplot(gs[1], sharex=ax0)\n",
    "        ax1.scatter(rs_mag.x, rs_mag.Mag_anom_draped_1000, \n",
    "                    s=.05, c='magenta', label='ROSETTA')\n",
    "        #### OIB magnetics\n",
    "        ax3 = fig.add_subplot(gs[1],  sharex=ax0)\n",
    "        ax3.patch.set_alpha(0)\n",
    "        ax3.scatter(oib_mag.x, oib_mag.Mag_anom_draped_1000, \n",
    "                    s=.05, c='k', label='OIB')\n",
    "        ax3.yaxis.tick_left()\n",
    "        ax3.tick_params(axis='both', labelsize=8)\n",
    "        ax3.set_ylabel('Magnetic anomaly (nT)', size=8, labelpad=10)\n",
    "        ax1.annotate(text='OIB', xy=(0.01,0.8), xycoords='axes fraction', fontsize=6)    \n",
    "        ax1.annotate(text='ROSETTA', xy=(0.01,0.9), xycoords='axes fraction', \n",
    "                 fontsize=6, color='magenta')\n",
    "        ax1.tick_params(axis='both', labelsize=8)\n",
    "        ax1.tick_params(axis='y', labelsize=8, colors='magenta', pad=0)\n",
    "        ax0.tick_params(axis='both', labelsize=8)\n",
    "    else:    \n",
    "        # ROSETTA magnetics  \n",
    "        ax1 = fig.add_subplot(gs[1], sharex=ax0)\n",
    "        ax1.scatter(rs_mag.x, rs_mag.Mag_anom_draped_1000, s=.05, \n",
    "                    c='r', label='ROSETTA')\n",
    "        ax1.yaxis.set_label_position(\"left\")\n",
    "        ax1.set_ylabel('Magnetic anomaly (nT)', size=8)\n",
    "        \n",
    "\n",
    "    if Line_rs==590:\n",
    "        ax0.text(x=-100000, y=-400, s='Mid-Shelf High', fontsize=8)\n",
    "        ax0.text(x=150000, y=-400, s='Western Ross Basin', fontsize=8)\n",
    "    elif Line_rs==650:\n",
    "        ax0.text(x=-350000, y=-400, s='Roosevelt Island', fontsize=8)\n",
    "        ax0.text(x=-120000, y=-400, s='Mid-Shelf High', fontsize=8)\n",
    "        ax0.text(x=100000, y=-400, s='Western Ross Basin', fontsize=8)\n",
    "    else:\n",
    "        pass\n",
    "\n",
    "    ax1.yaxis.tick_left()\n",
    "    ax1.tick_params(axis='both', labelsize=8)\n",
    "    ax0.tick_params(axis='both', labelsize=8)\n",
    "    \n",
    "    if Line_rs == 650:\n",
    "        ax1.set_yticks(ticks=(-900,-1100))\n",
    "    else:\n",
    "        pass\n",
    "        \n",
    "    ax0.set_xlim(rs.x.min(), rs.x.max())\n",
    "    \n",
    "    \n",
    "    ax0.set_ylim(-10000, 0)\n",
    "    ax0.set_yticks((-8000, -6000, -4000, -2000, 0))\n",
    "    ax0.set_yticklabels((-8, -6, -4, -2, 0))\n",
    "\n",
    "    ax0.grid(axis='x', which='major', alpha=0.8)\n",
    "    ax0.grid(axis='x', which='minor', alpha=0.3)\n",
    "    ax1.grid(axis='x', which='major', alpha=0.8)\n",
    "    ax1.grid(axis='x', which='minor', alpha=0.3)\n",
    "    ax0.set_ylabel('Depth (km)', size=8)\n",
    "    ax1.set_xlabel('Easting (km)', size=8)\n",
    "\n",
    "    lgnd = ax0.legend(loc='lower right', fontsize=6, markerscale=4,framealpha=1)\n",
    "    lgnd.legendHandles[-5]._sizes = [20]\n",
    "    lgnd.legendHandles[-4]._sizes = [20]\n",
    "    lgnd.legendHandles[-3]._sizes = [20]\n",
    "    lgnd.legendHandles[-2]._sizes = [20]\n",
    "    lgnd.legendHandles[-1]._sizes = [20]\n",
    "    \n",
    "    if Line_rs in [590, 650]:\n",
    "        ax0.set_title('ROSETTA Line '+str(Line_rs)+' / OIB Line '+str(Line_oib))\n",
    "    else:\n",
    "        ax0.set_title('ROSETTA Line '+str(Line_rs))\n",
    "\n",
    "    fig.subplots_adjust(hspace=0)\n",
    "    plt.setp(ax0.get_xticklabels(),visible=False)\n",
    "    plt.show()"
   ]
  },
  {
   "cell_type": "markdown",
   "id": "02be995d-fc25-4368-ba0b-5a737879bf14",
   "metadata": {
    "tags": []
   },
   "source": [
    "####  Plot tie results"
   ]
  },
  {
   "cell_type": "code",
   "execution_count": 67,
   "id": "128f9adc-4bf3-4841-a477-7232d9d950c7",
   "metadata": {
    "tags": []
   },
   "outputs": [
    {
     "name": "stdout",
     "output_type": "stream",
     "text": [
      "mean misfit: nan \n",
      " median misfit: nan\n"
     ]
    },
    {
     "data": {
      "image/png": "[encoded data removed]",
      "text/plain": [
       "<Figure size 432x288 with 2 Axes>"
      ]
     },
     "metadata": {},
     "output_type": "display_data"
    }
   ],
   "source": [
    "# choose line, and pick parameter values\n",
    "plot_ROSETTA(\n",
    "    Line_rs=430,\n",
    "    \n",
    "    # random values\n",
    "    # rs_parameter_s=.3,\n",
    "    # rs_parameter_w=26000,\n",
    "    # rs_parameter_b=12000,\n",
    "    # rs_parameter_c=8)\n",
    "\n",
    "    # optimized values\n",
    "    rs_parameter_s=1.2,\n",
    "    rs_parameter_w=26000,\n",
    "    rs_parameter_b=36000,\n",
    "    rs_parameter_c=40)"
   ]
  },
  {
   "cell_type": "markdown",
   "id": "0c5c670b-4289-48c4-a526-7f068145b0f4",
   "metadata": {
    "tags": []
   },
   "source": [
    "This figure shows an example of our tie between OIB and ROSETTA magnetic basements, implemented with the two above functions: *filt_and_binning_rs* and *plot_ROSETTA*. It is similar to OIB-ANTOSTRAT figure above, but now ANTOSTRAT basement (blue) has been replaced by OIB magnetic basement. The x axis now easting, instead of distance. \n",
    "\n",
    "* bathymetry in light blue at the top\n",
    "* OIB magnetic basement in dark blue\n",
    "* airborne magnetic data in the lower panel, pink for ROSETTA and black for OIB\n",
    "* small black dots show the \"depth scatter\" of dike solutions from Werner deconvolution, performed in *Oasis Montaj*\n",
    "* black circles show filtered Werner solutions, scaled to parameter S\n",
    "     * filtering based on parameter S and W (magnetic susceptibilty*width and Werner window width, respectively) \n",
    "* orange crosses show bins with sufficient count of points (paramter c)\n",
    "     * crosses set to center of bins, and depth's set to 95% of solution depths within bin\n",
    "* orange line shows interpolation between crosses, used to compare between ROSETTA and OIB"
   ]
  },
  {
   "cell_type": "markdown",
   "id": "311ce539-7aca-4046-b6ce-d201533568d3",
   "metadata": {
    "tags": []
   },
   "source": [
    "### Re-optimize\n",
    "\n",
    "Same as the OIB-ANTOSTRAT tie, the above function filt_and_binning_rs has and input of parameters w,s,b, and c, and returns a mean misfit between ROSETTA and OIB basements. We perform the same optimization as above."
   ]
  },
  {
   "cell_type": "markdown",
   "id": "7cc2aec2-bc90-4e84-91a8-0f3538cabbd8",
   "metadata": {
    "tags": []
   },
   "source": [
    "#### Parameter space\n",
    "This will contain a column for each parameter. Each parameter will have 21 values, and the rows will be each unique combination of these parameter values. This results in a total of 194481 combinations."
   ]
  },
  {
   "cell_type": "code",
   "execution_count": null,
   "id": "e499b315-69db-49d5-b9ee-eefbe37629e7",
   "metadata": {
    "tags": []
   },
   "outputs": [],
   "source": [
    "s=np.linspace(0, 4, 21)\n",
    "w=np.linspace(0, 40000, 21, dtype=int)\n",
    "b=np.linspace(0, 40000, 21, dtype=int)\n",
    "c=np.linspace(0, 40, 21, dtype=int)\n",
    "params=[s,w,b,c]         \n",
    "comb=list(itertools.product(*params))   \n",
    "df_misfit_rs=pd.DataFrame(comb, columns=['susc', 'window', 'bin', 'count'])"
   ]
  },
  {
   "cell_type": "markdown",
   "id": "9461b0e2-f675-47c2-9d6c-43a7fc73ed5e",
   "metadata": {
    "tags": []
   },
   "source": [
    "#### Misfit\n",
    "Apply the function *filt_and_binning_rs* to each row and save the results. Do this for both lines; 590 and 650.  \n",
    "WARNING, THIS IS VERY SLOW AND MAY TAKE >36H HOURS TO RUN!"
   ]
  },
  {
   "cell_type": "code",
   "execution_count": null,
   "id": "e32f19b2-aa73-4d7b-848e-d132d808feb1",
   "metadata": {
    "tags": []
   },
   "outputs": [],
   "source": [
    "from tqdm import tqdm\n",
    "tqdm.pandas()\n",
    "lines=[590, 650]\n",
    "for l in lines:# look into replacing apply with vectorization\n",
    "    df_misfit_rs['misfit_{}'.format(l)]=df_misfit_rs.progress_apply(lambda x: filt_and_binning_rs(Line_rs=l,  \n",
    "                                rs_parameter_s=x['susc'], \n",
    "                                rs_parameter_w=x['window'], \n",
    "                                rs_parameter_b=x['bin'], \n",
    "                                rs_parameter_c=x['count']), axis=1)\n",
    "df_misfit_rs.describe()"
   ]
  },
  {
   "cell_type": "markdown",
   "id": "1d409a5c-7067-4874-b9cc-b46825201b7b",
   "metadata": {},
   "source": [
    "#### Organize\n",
    "For each row, take the average of the misfits for both 590 and 650.   \n",
    "Sort by these average values and save as a csv.  "
   ]
  },
  {
   "cell_type": "code",
   "execution_count": null,
   "id": "2fb67ae2-f8e8-4f0d-8331-bb857bd44190",
   "metadata": {
    "tags": []
   },
   "outputs": [],
   "source": [
    "# average the misfit of lines 590 and 650.\n",
    "df_misfit_rs['misfit_rs_avg']=df_misfit_rs[['misfit_590', 'misfit_650']].dropna(subset=['misfit_590', 'misfit_650']).mean(axis=1)\n",
    "# sort from lowest misfit to highest.\n",
    "df_misfit_rs.sort_values('misfit_rs_avg', inplace=True)\n",
    "# save as csv\n",
    "df_misfit_rs.to_csv('data/results/mean_misfit_rs_optimize.csv', index=False)"
   ]
  },
  {
   "cell_type": "code",
   "execution_count": 22,
   "id": "d80b2882-8ffb-4732-8b18-56f14ce29e2f",
   "metadata": {
    "tags": []
   },
   "outputs": [
    {
     "data": {
      "text/plain": [
       "susc                 1.2\n",
       "window           26000.0\n",
       "bin              36000.0\n",
       "count               40.0\n",
       "misfit_590         761.7\n",
       "misfit_650         383.0\n",
       "misfit_rs_avg      572.4\n",
       "Name: 0, dtype: float64"
      ]
     },
     "execution_count": 22,
     "metadata": {},
     "output_type": "execute_result"
    }
   ],
   "source": [
    "# load file\n",
    "df_mean_misfit_rs= pd.read_csv('data/results/mean_misfit_rs_optimize.csv', header=0, index_col=None, sep=',')\n",
    "# choose row 1374 as our optimized parameters. drop all rows above to make this row 0\n",
    "# we chose this value from an initial optimization which had a different sampling interval\n",
    "# and the optimal parameters from that match row 1374 of this optimization.\n",
    "# Since we have ~200,000 sets of parameters, this is still in the top .7% of lowest misfits\n",
    "# df_mean_misfit_rs_clip.query('susc==1.2 and window==26000.0 and bin==36000.0 and count==40.0') # gives row index 1374\n",
    "df_mean_misfit_rs_clip=df_mean_misfit_rs[1374::]\n",
    "df_mean_misfit_rs.sort_values('misfit_rs_avg', inplace=True)\n",
    "# reset index\n",
    "df_mean_misfit_rs_clip.reset_index(inplace=True, drop=True)\n",
    "df_mean_misfit_rs_clip=df_mean_misfit_rs_clip.round(1)\n",
    "df_mean_misfit_rs_clip.iloc[0]"
   ]
  },
  {
   "cell_type": "markdown",
   "id": "cc381841-445b-415d-95db-530cf5e09d34",
   "metadata": {},
   "source": [
    "#### Optimize with Optuna\n",
    "This above optimization can also be accomplished with the python package Optuna. Iteration for iterations, it's much slower, but if you use TPE sample ideally it converges on the minimum misfit much faster."
   ]
  },
  {
   "cell_type": "code",
   "execution_count": null,
   "id": "5358a278-6f05-497f-88fc-5484110813d7",
   "metadata": {},
   "outputs": [],
   "source": [
    "# # function to combine misfits of both lines \n",
    "# def combine_rms(Line_A, Line_B, s, b, w, c):\n",
    "#     global misfit_mean\n",
    "#     filt_and_binning_rs(Line_rs = Line_A,\n",
    "#                         rs_parameter_s = s,\n",
    "#                         rs_parameter_w = w,\n",
    "#                         rs_parameter_b = b,\n",
    "#                         rs_parameter_c = c)\n",
    "#     misfit_a = mean_misfit \n",
    "#     filt_and_binning_rs(Line_rs = Line_B, \n",
    "#                         rs_parameter_s = s,\n",
    "#                         rs_parameter_w = w,\n",
    "#                         rs_parameter_b = b,\n",
    "#                         rs_parameter_c = c)\n",
    "#     misfit_b = mean_misfit\n",
    "#     misfit_mean = np.mean([misfit_a, misfit_b])\n",
    "#     return misfit_mean\n",
    "\n",
    "# # create optimization study \n",
    "\n",
    "# # unique identifier of the study. \n",
    "# study_name = \"rosetta_oib_optimize\"  \n",
    "\n",
    "# # where to save the results as a .db file \n",
    "# storage_name = \"sqlite:///data/results/{}.db\".format(study_name) \n",
    "\n",
    "# # search_space={'s':np.linspace(0,4,21),\n",
    "# #               'w':np.linspace(0,40_000,21),\n",
    "# #               'b':np.linspace(0,40_000,21),\n",
    "# #               'c':np.linspace(0,40,21)} \n",
    "# # study = optuna.create_study(study_name=study_name, \n",
    "# #                             storage=storage_name, \n",
    "# #                             sampler=optuna.samplers.GridSampler(search_space), \n",
    "# #                             load_if_exists=True)\n",
    "\n",
    "# study = optuna.create_study(\n",
    "#         study_name=study_name, \n",
    "#         storage=storage_name, \n",
    "#         sampler=optuna.samplers.TPESampler(n_startup_trials=100),#number of random runs before TPE sampler starts \n",
    "#         load_if_exists=True) \n",
    "\n",
    "# def objective(trial):     \n",
    "#     s = trial.suggest_discrete_uniform('s', 0, 4, 0.2)#0 to 4 in steps of .2\n",
    "#     w = trial.suggest_discrete_uniform('w', 0, 40_000, 2_000)\n",
    "#     b = trial.suggest_discrete_uniform('b', 0, 40_000, 2_000) \n",
    "#     c = trial.suggest_discrete_uniform('c', 0, 40, 2) \n",
    "#     combine_rms(Line_A=590,\n",
    "#                 Line_B=650,\n",
    "#                 s=s, w=w, b=b, c=c) \n",
    "#     return misfit_mean  \n",
    "\n",
    "# # start optimization\n",
    "\n",
    "# # turn off optuna log notes.\n",
    "# optuna.logging.set_verbosity(optuna.logging.ERROR)\n",
    "\n",
    "# # define custom callbacks\n",
    "# def logging_callback(study, frozen_trial):\n",
    "#     previous_best_value = study.user_attrs.get(\"previous_best_value\", None)\n",
    "#     if previous_best_value != study.best_value:\n",
    "#         study.set_user_attr(\"previous_best_value\", study.best_value)\n",
    "#         print(\n",
    "#             \"Trial {} finished with best value: {} and parameters: {}. \".format(\n",
    "#             frozen_trial.number,\n",
    "#             frozen_trial.value,\n",
    "#             frozen_trial.params,\n",
    "#             )\n",
    "#         )\n",
    "        \n",
    "# study.optimize(objective, n_trials=5000, callbacks=[logging_callback])\n",
    "\n",
    "# # load the study results \n",
    "# loaded_study = optuna.load_study(study_name=study_name, storage=storage_name) \n",
    "# study_results = loaded_study.trials_dataframe(attrs=(\"value\", \"params\", \"state\")) \n",
    "# study_results.sort_values(by='value', inplace=True) \n",
    "# study_results"
   ]
  },
  {
   "cell_type": "markdown",
   "id": "007d7346-436e-43ae-9368-322a8915c3d2",
   "metadata": {},
   "source": [
    "#### Results\n",
    "\n",
    "Above are the top 5 sets of parameters which produced the best match between ROSETTA and OIB basement models. We use the values in row 0 as our final optimized parameters.\n",
    "These values include:\n",
    "* parameter W: 26 km (maximum Werner window width)\n",
    "* parameter S: 1.2 (minimum magnetic susceptibility x body width) \n",
    "* parameter B: 36 km (bin width)\n",
    "* parameter C: 40 (minumum count of solutions / bin)\n",
    "\n",
    "Using these parameters, we determine magnetic basement points (orange crosses) for all ROSETTA-Ice flight lines, including N-S tie lines."
   ]
  },
  {
   "cell_type": "code",
   "execution_count": 27,
   "id": "4c399771-4284-4ea5-880b-f52d49e0301b",
   "metadata": {
    "tags": []
   },
   "outputs": [
    {
     "data": {
      "image/png": "[encoded data removed]",
      "text/plain": [
       "<Figure size 432x288 with 3 Axes>"
      ]
     },
     "metadata": {},
     "output_type": "display_data"
    },
    {
     "data": {
      "image/png": "[encoded data removed]",
      "text/plain": [
       "<Figure size 432x288 with 3 Axes>"
      ]
     },
     "metadata": {},
     "output_type": "display_data"
    }
   ],
   "source": [
    "for line in (590, 650):     \n",
    "        row = 0\n",
    "        plot_ROSETTA(Line_rs = line, \n",
    "                rs_parameter_s=df_mean_misfit_rs_clip['susc'].iloc[row], \n",
    "                rs_parameter_w=df_mean_misfit_rs_clip[\"window\"].iloc[row], \n",
    "                rs_parameter_b=df_mean_misfit_rs_clip['bin'].iloc[row], \n",
    "                rs_parameter_c=df_mean_misfit_rs_clip['count'].iloc[row])"
   ]
  },
  {
   "cell_type": "code",
   "execution_count": 28,
   "id": "5941f888-e5fc-4e06-93e8-fe9474870c7c",
   "metadata": {},
   "outputs": [],
   "source": [
    "unique_lines = df0.Line.unique()\n",
    "other_lines = np.array([403.1, 403.2, 403.3, 404.59, 404.65, 999])\n",
    "rosetta_lines = np.setdiff1d(unique_lines, other_lines)\n",
    "\n",
    "tmp_rs_mag=[]\n",
    "tmp_rs=[]\n",
    "tmp_rs_basement=[]\n",
    "\n",
    "row=0\n",
    "\n",
    "for l in (rosetta_lines):\n",
    "    filt_and_binning_rs(Line_rs = l, \n",
    "            rs_parameter_s=df_mean_misfit_rs_clip['susc'].iloc[row], \n",
    "            rs_parameter_w=df_mean_misfit_rs_clip[\"window\"].iloc[row], \n",
    "            rs_parameter_b=df_mean_misfit_rs_clip['bin'].iloc[row], \n",
    "            rs_parameter_c=df_mean_misfit_rs_clip['count'].iloc[row])\n",
    "             # rs_parameter_s=1.2,\n",
    "             # rs_parameter_w=26000,\n",
    "             # rs_parameter_b=36000,\n",
    "             # rs_parameter_c=40)\n",
    "    tmp_rs_mag.append(rs_mag)\n",
    "    tmp_rs.append(rs)\n",
    "    tmp_rs_basement.append(rs_basement)\n",
    "    \n",
    "rs_mag = pd.concat(tmp_rs_mag)\n",
    "rs = pd.concat(tmp_rs)   \n",
    "rs_basement = pd.concat(tmp_rs_basement)  \n",
    "\n",
    "\n",
    "rs_mag.to_csv(\"data/results/rs_mag.csv\", index=None)\n",
    "rs.to_csv(\"data/results/rs.csv\", index=None)\n",
    "rs_basement.to_csv(\"data/results/rs_basement.csv\", index=None)\n"
   ]
  },
  {
   "cell_type": "code",
   "execution_count": 69,
   "id": "aafb2a1e-ee1f-47cc-be18-2db9b45625fe",
   "metadata": {},
   "outputs": [
    {
     "name": "stdout",
     "output_type": "stream",
     "text": [
      "mean misfit: 761.6980298782782 \n",
      " median misfit: 607.45083803237\n",
      "mean misfit: 383.0113549013638 \n",
      " median misfit: 312.5343618530763\n"
     ]
    }
   ],
   "source": [
    "tmp_rs_oib_basement=[]\n",
    "\n",
    "for l in (590, 650):\n",
    "    filt_and_binning_rs(Line_rs = l, \n",
    "            # rs_parameter_s=df_mean_misfit_rs_clip['susc'].iloc[row], \n",
    "            # rs_parameter_w=df_mean_misfit_rs_clip[\"window\"].iloc[row], \n",
    "            # rs_parameter_b=df_mean_misfit_rs_clip['bin'].iloc[row], \n",
    "            # rs_parameter_c=df_mean_misfit_rs_clip['count'].iloc[row])\n",
    "             rs_parameter_s=1.2,\n",
    "             rs_parameter_w=26000,\n",
    "             rs_parameter_b=36000,\n",
    "             rs_parameter_c=40)\n",
    "    tmp_rs_oib_basement.append(rs_oib_basement)\n",
    "    \n",
    "rs_oib_basement = pd.concat(tmp_rs_oib_basement)  \n",
    "\n",
    "rs_oib_basement.to_csv(\"data/results/rs_oib_basement.csv\", index=None)"
   ]
  },
  {
   "cell_type": "markdown",
   "id": "94b24248-48a3-45e1-8457-e12069fbed27",
   "metadata": {
    "tags": []
   },
   "source": [
    "# Figure S3\n",
    "Now that we have finished the ROSETTA-OIB optimization, lets recreate the figure from the manuscript. To do this, we need to change directories into the /figures folder, and run the jupyter notebook \"Fig_S3_Flight_cross_sections.ipynb\".  \n",
    "\n",
    "Within that same notebook is a function to output all ROSETTA-Ice flight lines as .png files. "
   ]
  },
  {
   "cell_type": "code",
   "execution_count": null,
   "id": "6eab4f8b-2ee5-4271-920d-602e6ee72214",
   "metadata": {},
   "outputs": [],
   "source": [
    "os.chdir('figures')\n",
    "os.getcwd()"
   ]
  },
  {
   "cell_type": "code",
   "execution_count": null,
   "id": "a8db3196-5774-4d06-914c-6ba68498b029",
   "metadata": {},
   "outputs": [],
   "source": [
    "%run Fig_S3_Flight_cross_sections.ipynb"
   ]
  },
  {
   "cell_type": "markdown",
   "id": "9b040f33-eff4-4eba-94b8-94da143807a5",
   "metadata": {},
   "source": [
    "Now lets change back to the folder \\RIS_basement_sediment"
   ]
  },
  {
   "cell_type": "code",
   "execution_count": null,
   "id": "518ca686-5b48-4e3e-839f-c766bee38622",
   "metadata": {},
   "outputs": [],
   "source": [
    "os.chdir('..')\n",
    "os.getcwd()"
   ]
  },
  {
   "cell_type": "markdown",
   "id": "0737f09a-843c-4d85-a1c1-1183b6576e64",
   "metadata": {},
   "source": [
    "This figure shows a selection of ROSETTA-Ice flight lines over the Ross Ice Shelf, and their resulting magnetic basement solutions. All subplots show bathymetry in light blue, unfiltered solutions as dots, filtered solutions as circles scaled to parameter S, and binned basement solutions as orange crosses.  \n",
    "\n",
    "a)-d) Orange crosses from all ROSETTA-Ice lines were gridded, and filtered to produce a regional basement model (Figure 2b). This was then sampled onto these profiles and shown as the blue line with uncertaitny bands. This shows the effect of our gridding and filtering process on the original data. It also dislays how crossing E-W and N-S flight lines affect each other at locations where solutions from 1 are different than the others.  \n",
    "\n",
    "e)-f) These profiles show the comparision between OIB magnetic basement (blue line) and ROSETTA-Ice magnetic basement (orange line), which was used to optimize the ROSETTA-Ice parameters, and tie our final results to ANTOSTRAT offshore seismic basement. "
   ]
  },
  {
   "cell_type": "markdown",
   "id": "2e7cdb03-b564-4d38-ae56-02714f6a8fc4",
   "metadata": {
    "tags": []
   },
   "source": [
    "# Create RIS basement grid"
   ]
  },
  {
   "cell_type": "markdown",
   "id": "b67618ac-ea2e-4f87-985f-da05f3745214",
   "metadata": {},
   "source": [
    "Now we have a series of basement depth points for each ROSETTA-Ice flight line, which we need to turn into a 2D surface. We will use GMT and PyGMT for this. First we need to remove some outliers.\n",
    "\n",
    "## Quality control"
   ]
  },
  {
   "cell_type": "code",
   "execution_count": null,
   "id": "470c3eab-5e07-4f72-8c0a-9dc9cda61061",
   "metadata": {},
   "outputs": [],
   "source": [
    "# load csv's output from \"ROSETTA to OIB Tie\" section\n",
    "rs_basement = pd.read_csv(\"data/results/rs_basement.csv\", header=0, index_col=None,sep=',')\n",
    "# get name of depth column\n",
    "Depth_bins = rs_basement.columns[11]\n",
    "# subset of only binned points\n",
    "rosetta_points=rs_basement[rs_basement.binned==1].copy()\n",
    "# drop unnecessary columns\n",
    "rosetta_points.drop(rosetta_points.columns.difference(['x','y',Depth_bins,'Line']),axis=1, inplace=True)\n",
    "# reorganize column order\n",
    "rosetta_points=rosetta_points[['x','y',Depth_bins,'Line']]\n",
    "# rename columns\n",
    "rosetta_points.columns = ['x','y','z','Line']\n",
    "# remove outliers based on z score, its 2 points with depths > 9900m (Line 480, 500, index 2758 & 3097)\n",
    "rosetta_points['zscore']=np.abs(stats.zscore(rosetta_points.z))\n",
    "rosetta_points.sort_values(by='zscore', ascending=False, inplace=True)\n",
    "print(rosetta_points.head())\n",
    "\"\"\"\n",
    "high zscores: \n",
    "    Line 480  -> outlier, DELETE\n",
    "    Line 500  -> outlier, DELETE\n",
    "    Line 1060 -> deep point near ice front, no results for nearby bins of 810 or 820\n",
    "    Line 1050 -> first point at ice front is deep, nearby first point 840 is 3k deep \n",
    "    Line 630  -> gap in mag data over Roosevelt Island causing deep solution ~6k, DELETE\n",
    "    Line 680  -> fine\n",
    "    Line 1090 -> fine\n",
    "    Line 510  -> fine\n",
    "\"\"\"\n",
    "# dropped base on z-score\n",
    "# rosetta_points_cleaned=rosetta_points[(np.abs(stats.zscore(rosetta_points.z)) < 5)].copy()\n",
    "# dropped by selecting points for lines 480, 500, 630\n",
    "# also drop anomolously deep point over RI (line 660)\n",
    "\n",
    "# for previously defined best params\n",
    "# rosetta_points_cleaned=rosetta_points.drop([2758, 3097, 5457, 6009])\n",
    "# for possibly updated best params\n",
    "rosetta_points_cleaned=rosetta_points.drop([2848, 3197])\n",
    "\n",
    "rosetta_points_cleaned.sort_values(by='z', inplace=True)\n",
    "\n",
    "pygmt.blockmedian(data=rosetta_points_cleaned[[\"x\", \"y\", \"z\",'Line']], \n",
    "                 T=0.999999, \n",
    "                 spacing=\"8000+e\", \n",
    "                 # Q=True,\n",
    "                 Es=True, # save Line value\n",
    "                 region=[-760000,600000,-2200000,-350000],\n",
    "                 outfile='data/results/rosetta_points_blocked.txt') \n",
    "    \n",
    "print(\"number of starting solutions: {}\".format(len(rosetta_points)))\n",
    "print(\"number of cleaned starting solutions: {}\".format(len(rosetta_points_cleaned)))\n",
    "print(\"number after block: {}\".format(len(open('data/results/rosetta_points_blocked.txt').readlines())))"
   ]
  },
  {
   "cell_type": "markdown",
   "id": "a375ce06-64dc-4d4f-b7dc-d13e90817c79",
   "metadata": {},
   "source": [
    "## Gridding and filtering"
   ]
  },
  {
   "cell_type": "code",
   "execution_count": null,
   "id": "b4213872-811e-4269-a6d7-fccafdc9cf4a",
   "metadata": {},
   "outputs": [],
   "source": [
    "# grid the points\n",
    "pygmt.surface(data = 'data/results/rosetta_points_blocked.txt', \n",
    "              spacing='5000+e', T=0.35, region='-3330000/1900000/-3330000/1850000', \n",
    "              outgrid='data/tmp/rosetta_basement_surface.nc', verbose='e')\n",
    "\n",
    "# clip the grid back to RIS extent\n",
    "# use shapefile created with concave hull in QGIS to clip the grid back to data extent\n",
    "# can replace QGIS hull with geopandas .convex_hull\n",
    "!gmt grdmask data/input/RIS_outline.shp -Gdata/tmp/RIS_mask.nc -I5000+e -R-3330000/1900000/-3330000/1850000 -NNaN/1/1\n",
    "!gmt grdmath -Df data/tmp/rosetta_basement_surface.nc data/tmp/RIS_mask.nc MUL = data/results/rosetta_basement_surface_unfiltered.nc\n",
    "!gmt grdsample data/results/rosetta_basement_surface_unfiltered.nc -Gdata/results/rosetta_basement_surface_unfiltered.nc -T"
   ]
  },
  {
   "cell_type": "markdown",
   "id": "831e0828-eacd-44b9-abe7-a0fda50bdd32",
   "metadata": {},
   "source": [
    "## PyGMT map function"
   ]
  },
  {
   "cell_type": "code",
   "execution_count": null,
   "id": "b6b701fe-6f9b-48f8-b1cf-e42e415369b2",
   "metadata": {},
   "outputs": [],
   "source": [
    "# default map extent is for Ross Ice Shelf\n",
    "def start_fig(n = -1400e3, e = -660e3, s = -400e3, w = 470e3, subplots=False):\n",
    "    global fig, fig_reg, fig_proj, fig_proj_ll, bardwidth, pos_str\n",
    "    \n",
    "    #set figure height, width and map scale\n",
    "    fig_height = 180 # in mm\n",
    "    fig_width = fig_height*(w-e)/(s-n)\n",
    "    fig_ratio = (s-n)/(fig_height/1000)\n",
    "\n",
    "    # Make a GMT region string and projection strings in both ESPG3031 and Lat/Lon\n",
    "    fig_reg = str(e) + '/' + str(w) + '/' + str(n) + '/' + str(s)\n",
    "    fig_proj = \"x1:\" + str(fig_ratio)\n",
    "    fig_proj_ll = \"s0/-90/-71/1:\" + str(fig_ratio)\n",
    "\n",
    "    # colorbar width and position\n",
    "    barwidth = fig_width/10 * 0.8 # color bar width is 40% of the map width, in cm\n",
    "    pos_str = 'jBC+w' + str(barwidth) + 'c/.5c+jTC+o0c/.2c+h+e'\n",
    "    \n",
    "    # initialize figure\n",
    "    if subplots==False:\n",
    "        fig = pygmt.Figure()\n",
    "    # if adding a suplot, don't re-initialize, but move origin over    \n",
    "    else:\n",
    "        fig.shift_origin(xshift=fig_width/10)\n",
    "    \n",
    "    # add white background and frame\n",
    "    fig.coast(region = fig_reg, projection = fig_proj_ll, land = 'white', water = 'white', \n",
    "              frame = [\"nwse\", \"xf100000\", \"yf100000\", \"g0\"],verbose='e')\n",
    "    \n",
    "    # plot graticules overtop, at 4d latitude and 30d longitude\n",
    "    with pygmt.config(MAP_ANNOT_OFFSET_PRIMARY = '-2p', MAP_FRAME_TYPE = 'inside',\n",
    "                  MAP_ANNOT_OBLIQUE = 0, FONT_ANNOT_PRIMARY = '8p,black', \n",
    "                  MAP_GRID_PEN_PRIMARY = 'grey', MAP_TICK_LENGTH_PRIMARY = '-10p',\n",
    "                  MAP_TICK_PEN_PRIMARY = 'thinnest,grey', FORMAT_GEO_MAP = 'dddF',\n",
    "                  MAP_POLAR_CAP = '90/90', ):\n",
    "        fig.basemap(projection = fig_proj_ll, frame = [\"NSWE\", \"xa30g15\", \"ya4g2\"], verbose='e')"
   ]
  },
  {
   "cell_type": "markdown",
   "id": "a8f86a1c-436c-4529-9163-5bb2ac8fcef0",
   "metadata": {},
   "source": [
    "## Show results\n",
    "Simple plot to show basement point solutions, and gridded data."
   ]
  },
  {
   "cell_type": "code",
   "execution_count": null,
   "id": "f745dfb4-1f7c-4c2f-b335-32110209e1d3",
   "metadata": {},
   "outputs": [],
   "source": [
    "start_fig()\n",
    "\n",
    "# read basement points from .txt\n",
    "data=pd.read_csv('data/results/rosetta_points_blocked.txt', names=('x','y','z','Line'), header=None, delim_whitespace=True)\n",
    "# make color ramp scaled to points\n",
    "pygmt.makecpt(cmap=\"batlow\", series=[data.z.min(), data.z.max()])\n",
    "\n",
    "# plot points\n",
    "fig.plot(projection=fig_proj, \n",
    "         data=\"data/results/rosetta_points_blocked.txt\",\n",
    "         style = 'c.2c', \n",
    "         cmap=True, \n",
    "         pen='thinnest,black')\n",
    "\n",
    "# add colorbar\n",
    "with pygmt.config(FONT_ANNOT_PRIMARY = '18p,black', FONT_LABEL = '20p,black'):\n",
    "    fig.colorbar(cmap=True, position = pos_str, \n",
    "             frame=['xa1000f100+l\"Basement elevation (m)\"'], verbose='e')\n",
    "\n",
    "start_fig(subplots=True)\n",
    "\n",
    "# make colorscale\n",
    "pygmt.grd2cpt(grid='data/results/rosetta_basement_surface_unfiltered.nc', \n",
    "              cmap='batlow', region=fig_reg, continuous=True)\n",
    "# plot grid\n",
    "fig.grdimage(projection = fig_proj,\n",
    "             grid='data/results/rosetta_basement_surface_unfiltered.nc',\n",
    "             cmap=True, nan_transparent=True)\n",
    "\n",
    "# colorbar\n",
    "with pygmt.config(FONT_ANNOT_PRIMARY = '18p,black', FONT_LABEL = '20p,black'):\n",
    "    fig.colorbar(cmap=True, position = pos_str, \n",
    "                 frame=['xa1000f100+l\"Basement elevation (m)\"'], verbose='e')     \n",
    "\n",
    "fig.show(width=1000) "
   ]
  },
  {
   "cell_type": "markdown",
   "id": "dcf906d8-4089-40e0-b0c9-31fec2c99f77",
   "metadata": {},
   "source": [
    "# Figure S4\n",
    "Running the function from \"Fig_S4_unfiltered_basement.ipynb\" lets us plot all ROSETTA lines, while highlighting a subset. Type in line numbers to the function to choose which lines are highlighted."
   ]
  },
  {
   "cell_type": "markdown",
   "id": "0b01b2b8-e570-428f-817e-b01f4bbe3800",
   "metadata": {},
   "source": [
    "Change into figures folder"
   ]
  },
  {
   "cell_type": "code",
   "execution_count": null,
   "id": "69682277-cbab-4482-b1d1-a9bcf0822e40",
   "metadata": {},
   "outputs": [],
   "source": [
    "os.chdir('figures')\n",
    "os.getcwd()"
   ]
  },
  {
   "cell_type": "code",
   "execution_count": null,
   "id": "87122193-3459-4239-9257-4f7b2dda3f29",
   "metadata": {},
   "outputs": [],
   "source": [
    "%run Fig_S4_unfiltered_basement.ipynb     #this is were the 'make_grid' function is stored\n",
    "make_grid(lines=(270,310,410,430,590,650))"
   ]
  },
  {
   "cell_type": "markdown",
   "id": "e3186973-39c7-4436-8b16-12c196f0e99d",
   "metadata": {},
   "source": [
    "Now lets change back to the folder \\RIS_basement_sediment"
   ]
  },
  {
   "cell_type": "code",
   "execution_count": null,
   "id": "f618101d-0ca1-4634-8508-4e9541780ebf",
   "metadata": {},
   "outputs": [],
   "source": [
    "os.chdir('..')\n",
    "os.getcwd()"
   ]
  },
  {
   "cell_type": "markdown",
   "id": "b1348703-20c2-4e47-b9df-c9f13f8c3c55",
   "metadata": {},
   "source": [
    "# Merge with offshore basement"
   ]
  },
  {
   "cell_type": "markdown",
   "id": "d89d8753-61e6-4de1-9fa3-7152ceb81194",
   "metadata": {},
   "source": [
    "## Process\n",
    "Here we use a regional compilation of sediment thickness, and subtract it from bathymetry to get basement depths. This data, from Lindeque et al. 2016, mostly consists of ANTOSTRAT seismic basement for the Ross Sea. "
   ]
  },
  {
   "cell_type": "code",
   "execution_count": null,
   "id": "d263024d-5296-4496-88a1-357914d11221",
   "metadata": {},
   "outputs": [],
   "source": [
    "# use offshore basement model which we already made for Figure 1\n",
    "# data/results/Lindeque_bedmachine_basement.nc\n",
    "\n",
    "# merge with ice shelf results\n",
    "# -Cf is clobber mode, just takes the value of the first grid instead of blending\n",
    "!gmt grdblend -Cf data/results/rosetta_basement_surface_unfiltered.nc data/results/Lindeque_bedmachine_basement.nc -Gdata/tmp/rosetta_lindeque_basement.nc -rp -I5000+e -R-3330000/1900000/-3330000/1850000\n",
    "\n",
    "# filter merged grid with a 80 km Gaussian filter\n",
    "pygmt.grdfilter(grid='data/tmp/rosetta_lindeque_basement.nc', filter='g80000', nans='r', distance='0', outgrid='data/results/Ross_Embayment_basement_filt_updated.nc')"
   ]
  },
  {
   "cell_type": "markdown",
   "id": "25c49e7e-97d8-48ba-940d-c4578c99ce9b",
   "metadata": {},
   "source": [
    "## Show results"
   ]
  },
  {
   "cell_type": "code",
   "execution_count": null,
   "id": "4fb74ffe-1a8b-4ac0-b1bf-0a36acebe1c5",
   "metadata": {},
   "outputs": [],
   "source": [
    "# initialize figure but extend plot north into Ross Sea\n",
    "# start_fig(n = -2200e3)\n",
    "start_fig()\n",
    "\n",
    "grid='data/results/Ross_Embayment_basement_filt.nc'\n",
    "\n",
    "# make colorscale\n",
    "pygmt.grd2cpt(grid=grid, \n",
    "              cmap='batlow', \n",
    "              region=fig_reg, \n",
    "              continuous=True)\n",
    "\n",
    "# plot grid\n",
    "fig.grdimage(projection = fig_proj,\n",
    "             grid=grid,\n",
    "             cmap=True, \n",
    "             nan_transparent=True,)\n",
    "\n",
    "# add contours\n",
    "fig.grdcontour(grid=grid, \n",
    "               interval=500, \n",
    "               pen='thinner,black')\n",
    "\n",
    "# colorbar\n",
    "with pygmt.config(FONT_ANNOT_PRIMARY = '12p,black', FONT_LABEL = '16p,black'):\n",
    "    fig.colorbar(cmap=True, position = pos_str, \n",
    "                 frame=['xa2000f500+l\"Basement elevation (m)\"'], verbose='e') \n",
    "    \n",
    "start_fig(subplots=True)\n",
    "\n",
    "grid='data/results/Ross_Embayment_basement_filt_updated.nc'\n",
    "\n",
    "# plot grid\n",
    "fig.grdimage(projection = fig_proj,\n",
    "             grid=grid,\n",
    "             cmap=True, \n",
    "             nan_transparent=True,)\n",
    "\n",
    "# add contours\n",
    "fig.grdcontour(grid=grid, \n",
    "               interval=500, \n",
    "               pen='thinner,black')\n",
    "\n",
    "# colorbar\n",
    "with pygmt.config(FONT_ANNOT_PRIMARY = '12p,black', FONT_LABEL = '16p,black'):\n",
    "    fig.colorbar(cmap=True, position = pos_str, \n",
    "                 frame=['xa2000f500+l\"Updated basement elevation (m)\"'], verbose='e') \n",
    "\n",
    "    \n",
    "start_fig(subplots=True)\n",
    "\n",
    "!gmt grdmath data/results/Ross_Embayment_basement_filt.nc data/results/Ross_Embayment_basement_filt_updated.nc SUB = data/results/diff.nc\n",
    "\n",
    "grid='data/results/diff.nc'\n",
    "\n",
    "# make colorscale\n",
    "pygmt.grd2cpt(grid=grid, \n",
    "              cmap='polar+h0', \n",
    "              region=fig_reg, \n",
    "              continuous=True)\n",
    "\n",
    "# plot grid\n",
    "fig.grdimage(projection = fig_proj,\n",
    "             grid=grid,\n",
    "             cmap=True, \n",
    "             nan_transparent=True,)\n",
    "\n",
    "# add contours\n",
    "fig.grdcontour(grid=grid, \n",
    "               interval=500, \n",
    "               pen='thinner,black')\n",
    "\n",
    "# colorbar\n",
    "with pygmt.config(FONT_ANNOT_PRIMARY = '12p,black', FONT_LABEL = '16p,black'):\n",
    "    fig.colorbar(cmap=True, position = pos_str, \n",
    "                 frame=['xa500f10+l\"Diff (m)\"'], verbose='e')     \n",
    "\n",
    "fig.show(width=1000) "
   ]
  },
  {
   "cell_type": "markdown",
   "id": "ffa49d68-c4cc-4f24-876a-ce3799790fd1",
   "metadata": {},
   "source": [
    "# Calculate sediment thickness"
   ]
  },
  {
   "cell_type": "markdown",
   "id": "aef2debd-296a-44c7-ba0c-8807350823de",
   "metadata": {},
   "source": [
    "## Process"
   ]
  },
  {
   "cell_type": "code",
   "execution_count": null,
   "id": "7ef8e984-396c-4d60-b6a8-1b9c62da50f7",
   "metadata": {},
   "outputs": [],
   "source": [
    "# subtract bathymetry elevations from basement elevation to get sediment thickness\n",
    "# using bedmachine v2 bathymetry, which under the ice shelf is from ROSETTA-Ice gravity inversion (Tinto et al. 2019)\n",
    "!gmt grdmath data/results/BedMachine_bed_5k_wgs.nc data/results/Ross_Embayment_basement_filt.nc SUB = data/results/Ross_Embayment_sediment.nc\n",
    "\n",
    "# make colorbar\n",
    "pygmt.makecpt(cmap='acton', background='o', series = '0/3000', reverse=True, output='data/results/sediment.cpt')"
   ]
  },
  {
   "cell_type": "markdown",
   "id": "cadedb7c-0d6c-42d7-892f-2a9cb4f4b85b",
   "metadata": {},
   "source": [
    "## Show results"
   ]
  },
  {
   "cell_type": "code",
   "execution_count": null,
   "id": "24ed65f7-7f09-41a4-ad88-98fd9048f1dc",
   "metadata": {},
   "outputs": [],
   "source": [
    "# initialize figure but extend plot north into Ross Sea\n",
    "start_fig(n = -2200e3)\n",
    "\n",
    "# make colorscale\n",
    "pygmt.grd2cpt(grid='data/results/Ross_Embayment_sediment.nc', cmap='acton',\n",
    "             reverse=True, region=fig_reg, continuous=True)\n",
    "# plot grid\n",
    "fig.grdimage(projection = fig_proj,\n",
    "             grid='data/results/Ross_Embayment_sediment.nc',\n",
    "             cmap=True, \n",
    "             nan_transparent=True)\n",
    "\n",
    "# add contours\n",
    "fig.grdcontour(grid='data/results/Ross_Embayment_sediment.nc', \n",
    "               interval=500, \n",
    "               pen='thinner,black')\n",
    "\n",
    "# colorbar\n",
    "with pygmt.config(FONT_ANNOT_PRIMARY = '12p,black', FONT_LABEL = '16p,black'):\n",
    "    fig.colorbar(cmap=True, position = pos_str, \n",
    "                 frame=['xa2000f500+l\"Sediment thickness (m)\"'], verbose='e') \n",
    "\n",
    "fig.show(width=500) "
   ]
  },
  {
   "cell_type": "markdown",
   "id": "c74ca2e3-2d7f-416e-bd1f-b0ff04891244",
   "metadata": {},
   "source": [
    "# Figure 3\n",
    "Now we can re-create Figure 3, which is the main results figure, showing Ross Embayment basement topography and sediment thicknes."
   ]
  },
  {
   "cell_type": "markdown",
   "id": "98791e18-f682-4f39-8bf7-93f2c13c070b",
   "metadata": {},
   "source": [
    "Change into figures folder"
   ]
  },
  {
   "cell_type": "code",
   "execution_count": 34,
   "id": "4047a639-9173-4ebf-b6f7-14f035356ef5",
   "metadata": {},
   "outputs": [
    {
     "data": {
      "text/plain": [
       "'C:\\\\Users\\\\mtankersley\\\\Documents\\\\Python_Scripts\\\\RIS_basement_sediment\\\\figures'"
      ]
     },
     "execution_count": 34,
     "metadata": {},
     "output_type": "execute_result"
    }
   ],
   "source": [
    "os.chdir('figures')\n",
    "os.getcwd()"
   ]
  },
  {
   "cell_type": "code",
   "execution_count": null,
   "id": "133db070-661c-4f3a-b507-8418610ba8d2",
   "metadata": {},
   "outputs": [],
   "source": [
    "%run Fig3_Base_Sed.ipynb"
   ]
  },
  {
   "cell_type": "markdown",
   "id": "31fe72af-1342-46d2-8dd5-e75e34af30f8",
   "metadata": {},
   "source": [
    "Now lets change back to the folder \\RIS_basement_sediment"
   ]
  },
  {
   "cell_type": "code",
   "execution_count": 35,
   "id": "cc4c4e97-d9a1-4445-865e-fbd2001b82df",
   "metadata": {},
   "outputs": [
    {
     "data": {
      "text/plain": [
       "'C:\\\\Users\\\\mtankersley\\\\Documents\\\\Python_Scripts\\\\RIS_basement_sediment'"
      ]
     },
     "execution_count": 35,
     "metadata": {},
     "output_type": "execute_result"
    }
   ],
   "source": [
    "os.chdir('..')\n",
    "os.getcwd()"
   ]
  },
  {
   "cell_type": "markdown",
   "id": "80372f72-2ff5-4965-9653-2ba093c6c151",
   "metadata": {},
   "source": [
    "## Uncertainties\n",
    "Here we develop a representative uncertainty for our results by comparison between our two sets of ties. We start by showing the non-normal distribution of the misfits. The histograms show that the large misfits are skewing our results, and that the median value of the misfits is more representative of the data than the mean value of the misfits."
   ]
  },
  {
   "cell_type": "code",
   "execution_count": 91,
   "id": "6e088bae-f666-4063-a41c-9ff6607f2a43",
   "metadata": {},
   "outputs": [],
   "source": [
    "# OIB to ANTOSTRAT comparison\n",
    "oib_to_anto = pd.read_csv(\"data/results/oib_basement.csv\", header=0, index_col=None,sep=',')\n",
    "oib_to_anto = oib_to_anto[['Line', 'ANTOSTRAT_basement', 'filt_clip']]\n",
    "oib_to_anto.rename(columns={'filt_clip':'OIB_basement'}, inplace=True) \n",
    "oib_to_anto['dif'] = oib_to_anto.ANTOSTRAT_basement - oib_to_anto.OIB_basement\n",
    "oib_to_anto['abs_dif'] = np.abs(oib_to_anto.dif)\n",
    "\n",
    "# ROSETTTA to OIB comparison\n",
    "rosetta_to_oib = pd.read_csv(\"data/results/rs_oib_basement.csv\", header=0, index_col=None,sep=',')\n",
    "rosetta_to_oib = rosetta_to_oib[['Line', 'filt_clip','filt_clip_oib']]\n",
    "rosetta_to_oib.rename(columns={'filt_clip':'ROSETTA_basement', 'filt_clip_oib':'OIB_basement'}, inplace=True) \n",
    "rosetta_to_oib['dif'] = rosetta_to_oib.ROSETTA_basement - rosetta_to_oib.OIB_basement\n",
    "rosetta_to_oib['abs_dif'] = np.abs(rosetta_to_oib.dif)"
   ]
  },
  {
   "cell_type": "markdown",
   "id": "a1a6debf-bc6b-43de-8e1c-9362476b3b9f",
   "metadata": {},
   "source": [
    "### Misfit distributions"
   ]
  },
  {
   "cell_type": "code",
   "execution_count": 125,
   "id": "59953ec3-ec43-4646-b2d4-ccd98d8eb666",
   "metadata": {},
   "outputs": [
    {
     "data": {
      "image/png": "[encoded data removed]",
      "text/plain": [
       "<Figure size 432x288 with 1 Axes>"
      ]
     },
     "metadata": {
      "needs_background": "light"
     },
     "output_type": "display_data"
    }
   ],
   "source": [
    "oib_to_anto.abs_dif.hist(bins=50)\n",
    "min_ylim, max_ylim = plt.ylim()\n",
    "\n",
    "plt.axvline(oib_to_anto.abs_dif.mean(), color='k', linestyle='dashed', linewidth=1)\n",
    "text = 'Mean: '+str(int(oib_to_anto.abs_dif.mean()))+' m'\n",
    "plt.text(oib_to_anto.abs_dif.mean()*1.1, max_ylim*0.9, text, color='k')\n",
    "\n",
    "plt.axvline(oib_to_anto.abs_dif.median(), color='r', linestyle='dashed', linewidth=1)\n",
    "text = 'Median: '+str(int(oib_to_anto.abs_dif.median()))+' m'\n",
    "plt.text(oib_to_anto.abs_dif.median()*1.1, max_ylim*0.8, text, color='r')\n",
    "\n",
    "plt.show()\n",
    "# print('ANT to OIB 403.1:\\n','mean:',oib_to_anto[oib_to_anto.Line==403.1].abs_dif.mean(),'\\n median:',oib_to_anto[oib_to_anto.Line==403.1].abs_dif.median(),'\\n')\n",
    "# print('ANT to OIB 403.3:\\n','mean:',oib_to_anto[oib_to_anto.Line==403.3].abs_dif.mean(),'\\n median:',oib_to_anto[oib_to_anto.Line==403.3].abs_dif.median(),'\\n')\n",
    "# print('ANT to OIB overall:\\n','mean:',oib_to_anto.abs_dif.mean(),'\\n median:',oib_to_anto.abs_dif.median())"
   ]
  },
  {
   "cell_type": "code",
   "execution_count": 126,
   "id": "85e195be-e23d-4102-b9b9-0753fb675d89",
   "metadata": {},
   "outputs": [
    {
     "data": {
      "image/png": "[encoded data removed]",
      "text/plain": [
       "<Figure size 432x288 with 1 Axes>"
      ]
     },
     "metadata": {
      "needs_background": "light"
     },
     "output_type": "display_data"
    }
   ],
   "source": [
    "rosetta_to_oib.abs_dif.hist(bins=50)\n",
    "min_ylim, max_ylim = plt.ylim()\n",
    "\n",
    "plt.axvline(rosetta_to_oib.abs_dif.mean(), color='k', linestyle='dashed', linewidth=1)\n",
    "text = 'Mean: '+str(int(rosetta_to_oib.abs_dif.mean()))+' m'\n",
    "plt.text(rosetta_to_oib.abs_dif.mean()*1.1, max_ylim*0.9, text, color='k')\n",
    "\n",
    "plt.axvline(rosetta_to_oib.abs_dif.median(), color='r', linestyle='dashed', linewidth=1)\n",
    "text = 'Median: '+str(int(rosetta_to_oib.abs_dif.median()))+' m'\n",
    "plt.text(rosetta_to_oib.abs_dif.median()*1.1, max_ylim*0.8, text, color='r')\n",
    "\n",
    "plt.show()\n",
    "# print('OIB to ROSETTA 590:\\n','mean:',rosetta_to_oib[rosetta_to_oib.Line==590].abs_dif.mean(),'\\n median:',rosetta_to_oib[rosetta_to_oib.Line==590].abs_dif.median(),'\\n')\n",
    "# print('OIB to ROSETTA 650:\\n','mean:',rosetta_to_oib[rosetta_to_oib.Line==650].abs_dif.mean(),'\\n median:', rosetta_to_oib[rosetta_to_oib.Line==650].abs_dif.median(),'\\n')\n",
    "# print('OIB to ROSETTA overall:\\n','mean:',rosetta_to_oib.abs_dif.mean(),'\\n median:', rosetta_to_oib.abs_dif.median())"
   ]
  },
  {
   "cell_type": "markdown",
   "id": "c1653a9a-1247-4d6f-bc4e-6fa63bf96008",
   "metadata": {},
   "source": [
    "### Depth dependence"
   ]
  },
  {
   "cell_type": "markdown",
   "id": "60d84073-7028-4f32-b028-6174058f0935",
   "metadata": {},
   "source": [
    "The figure below shows the relationship between basement depth and the median absolute value of misfits. This shows there is *not* a strong depth-dependence on our misfits, and justifies our use of a uniform representative uncertainty. The small dots represent all the misfit points, and the large dots are the poitns grouped into 200 m basement depth bins"
   ]
  },
  {
   "cell_type": "code",
   "execution_count": 134,
   "id": "bd3eaff1-23e1-45d9-80f2-12aabd729705",
   "metadata": {},
   "outputs": [
    {
     "data": {
      "text/plain": [
       "<matplotlib.legend.Legend at 0x20ef1a57c10>"
      ]
     },
     "execution_count": 134,
     "metadata": {},
     "output_type": "execute_result"
    },
    {
     "data": {
      "image/png": "[encoded data removed]",
      "text/plain": [
       "<Figure size 432x288 with 1 Axes>"
      ]
     },
     "metadata": {
      "needs_background": "light"
     },
     "output_type": "display_data"
    }
   ],
   "source": [
    "plt.scatter(x=oib_to_anto.abs_dif, y=oib_to_anto.OIB_basement,  c='r', s=.2, label='ANTOSTRAT to OIB')\n",
    "plt.scatter(x=rosetta_to_oib.abs_dif, y=rosetta_to_oib.ROSETTA_basement,  c='b', s=.2, label='OIB to ROSETTA')\n",
    "\n",
    "oib_to_anto['depth_bins']= np.floor(oib_to_anto.OIB_basement/200)*200\n",
    "for i in oib_to_anto.depth_bins.unique():\n",
    "    plt.errorbar(x=oib_to_anto.abs_dif[oib_to_anto.depth_bins==i].median(), \n",
    "                 y=oib_to_anto.depth_bins[oib_to_anto.depth_bins==i].median(), \n",
    "                 c='r', fmt='o',)\n",
    "\n",
    "rosetta_to_oib['depth_bins']= np.floor(rosetta_to_oib.ROSETTA_basement/200)*200\n",
    "for i in rosetta_to_oib.depth_bins.unique():\n",
    "    plt.errorbar(x=rosetta_to_oib.abs_dif[rosetta_to_oib.depth_bins==i].median(), \n",
    "                 y=rosetta_to_oib.depth_bins[rosetta_to_oib.depth_bins==i].median(), \n",
    "                 c='b', fmt='o',)\n",
    "    \n",
    "plt.title('Basement depth vs 200m binned MEAN difference')\n",
    "plt.ylabel('Basement depth (m)')\n",
    "plt.xlabel('Absolute value of difference (m)')\n",
    "plt.legend(markerscale=10)"
   ]
  },
  {
   "cell_type": "markdown",
   "id": "fefab4aa-1af7-4a49-8b67-acb7d1e6d3c3",
   "metadata": {},
   "source": [
    "### Basement elevation uncertainty\n",
    "* Comparison between ROSETTA and OIB basements gives a median absolute value of misfit of 380m. \n",
    "\n",
    "* Comparison between OIB and ANTOSTRAT basements gives a median absolute value of misfit of 470m. \n"
   ]
  },
  {
   "cell_type": "markdown",
   "id": "84ef0d1a-84d0-4431-a7b2-7c8a68ed5347",
   "metadata": {},
   "source": [
    "### Sediment thickness uncertainty\n",
    "Since our sediment thickness is calculated by subtracting a bathymetry model, our representative uncertianty for the sediment thickness is the combination of basement and bathymetry uncertainty. We use BedMachine bathymetry, which for the sub-Ross Ice Shelf is from inversion of ROSETTA-Ice gravity (Tinto et al. 2019). This inversion states an uncertainty of 68m, which adding to our basement uncertainty yields 530m. This equates to "
   ]
  },
  {
   "cell_type": "code",
   "execution_count": 139,
   "id": "33a8b4f2-4cd5-4963-848d-81dac52c9173",
   "metadata": {},
   "outputs": [
    {
     "data": {
      "text/plain": [
       "538"
      ]
     },
     "execution_count": 139,
     "metadata": {},
     "output_type": "execute_result"
    }
   ],
   "source": [
    "68+470"
   ]
  },
  {
   "cell_type": "code",
   "execution_count": null,
   "id": "2a4651f1-eec5-44fc-ad57-0f97565248da",
   "metadata": {},
   "outputs": [],
   "source": [
    "!gmt grdino -La "
   ]
  },
  {
   "cell_type": "markdown",
   "id": "35da1c68-cdd7-4b18-912e-9eb6ff23b8e1",
   "metadata": {},
   "source": [
    "# Figure S5\n",
    "Now we can re-create Figure S5. This is a 4 panel figure showing the uncertainties of the two mains results of this study; basement topography and sediment thickness. Lower limits are in a) and c), upper limits are in b) and d)."
   ]
  },
  {
   "cell_type": "code",
   "execution_count": null,
   "id": "476415ef-a7f2-4de4-941d-5387cd9c381e",
   "metadata": {},
   "outputs": [],
   "source": [
    "os.chdir('figures')\n",
    "os.getcwd()"
   ]
  },
  {
   "cell_type": "code",
   "execution_count": null,
   "id": "f60f5cea-f6ce-4593-87ce-b7144baf94fc",
   "metadata": {},
   "outputs": [],
   "source": [
    "%run Fig_S5_uncertainties.ipynb"
   ]
  },
  {
   "cell_type": "markdown",
   "id": "a44982b5-a089-4322-aff3-868d520f8358",
   "metadata": {},
   "source": [
    "Now lets change back to the folder \\RIS_basement_sediment"
   ]
  },
  {
   "cell_type": "code",
   "execution_count": null,
   "id": "c459a33a-5e10-4649-b5a1-06745bff2d34",
   "metadata": {},
   "outputs": [],
   "source": [
    "os.chdir('..')\n",
    "os.getcwd()"
   ]
  },
  {
   "cell_type": "markdown",
   "id": "341ddf41-96c4-496a-9fa3-c727bb587f57",
   "metadata": {},
   "source": [
    "# Beta factor calculation"
   ]
  },
  {
   "cell_type": "markdown",
   "id": "b839d03e-1e23-49f7-a573-3d129fa25061",
   "metadata": {},
   "source": [
    "Here we will make our calculations of beta crustal stretching factors. This is a simple calculation of initial crustal thickness / final crustal thickness. For this, we assume the crustal was initially a uniform 38km thick slab. The final crustal thickness is calculated as the depth of the Moho to the top of the basement surface. For this, we use a Antarctic Moho model from passive seismics."
   ]
  },
  {
   "cell_type": "markdown",
   "id": "1a83c3cc-ad39-4c5b-ac65-844825fba0c7",
   "metadata": {},
   "source": [
    "## Process"
   ]
  },
  {
   "cell_type": "code",
   "execution_count": null,
   "id": "f63b063f-86d8-467a-8b64-a73d628956fb",
   "metadata": {},
   "outputs": [],
   "source": [
    "# reproject Moho depths from lat/long to EPSG3031\n",
    "!gmt grdproject data/input/AN1-CRUST.grd -Gdata/tmp/AN1-CRUST_EPSG3031.nc -JEPSG:3031\n",
    "\n",
    "# change spacing and region to match basement grid\n",
    "!gmt grdsample data/tmp/AN1-CRUST_EPSG3031.nc -Gdata/tmp/AN1-CRUST_EPSG3031_5k.nc -Rdata/results/Ross_Embayment_basement_filt.nc\n",
    "\n",
    "# turn Moho depths in +km to -m \n",
    "!gmt grdmath data/tmp/AN1-CRUST_EPSG3031_5k.nc -1000 MUL = data/tmp/AN1-CRUST_EPSG3031_5k.nc\n",
    "\n",
    "# substract basement depths from Moho depths to final crustal thickness without sediments\n",
    "!gmt grdmath data/results/Ross_Embayment_basement_filt.nc data/tmp/AN1-CRUST_EPSG3031_5k.nc SUB = data/results/Ross_Embayment_crustal_thickness.nc\n",
    "\n",
    "# calculate beta factors, divide initial thickness, 38km, by current thickness\n",
    "!gmt grdmath 38000 data/results/Ross_Embayment_crustal_thickness.nc DIV = data/results/Ross_Embayment_beta.nc"
   ]
  },
  {
   "cell_type": "markdown",
   "id": "8bee56ee-f671-429c-930c-0b270629acda",
   "metadata": {},
   "source": [
    "## Show results"
   ]
  },
  {
   "cell_type": "code",
   "execution_count": null,
   "id": "10da016f-4117-462f-aac0-7920bafe09be",
   "metadata": {},
   "outputs": [],
   "source": [
    "# initialize figure but extend plot north into Ross Sea\n",
    "start_fig()\n",
    "\n",
    "ris_reg='-700000/450000/-1200000/-350000'\n",
    "\n",
    "# make colorscale set to Ross Ice Shelf region\n",
    "pygmt.grd2cpt(cmap='haxby', region=ris_reg, continuous=True, \n",
    "              grid='data/results/Ross_Embayment_beta.nc', background=True)\n",
    "\n",
    "# plot grid\n",
    "fig.grdimage(projection = fig_proj,\n",
    "             grid='data/results/Ross_Embayment_beta.nc',\n",
    "             cmap=True)\n",
    "\n",
    "# colorbar\n",
    "with pygmt.config(FONT_ANNOT_PRIMARY = '16p,black', FONT_LABEL = '20p,black'):\n",
    "    fig.colorbar(cmap=True, position = pos_str, \n",
    "                 frame=['xa.2f+l\"Beta factors\"'], verbose='e') \n",
    "\n",
    "# plot groundingline and coastlines\n",
    "fig.plot(projection=fig_proj, data=gpd.read_file('data/input/GroundingLine_Antarctica_v02.shp'), \n",
    "         pen = '1.2p,black', verbose='e')\n",
    "fig.plot(data=gpd.read_file('data/input/Coastline_Antarctica_v02.shp'), \n",
    "         pen='1.2p,black', verbose='e')\n",
    "    \n",
    "fig.show(width=500) "
   ]
  },
  {
   "cell_type": "markdown",
   "id": "bcc9579c-5e49-4ff1-bee8-0ca9e1c57024",
   "metadata": {},
   "source": [
    "# Figure 4\n",
    "Now we can re-create Figure 4. This is a 2 panel figure, should Ross Ice Shelf beta factors and interpreted fault locations in panel a, and a cross-section of the Siple Coast, showing real and schematic data in panel b. All of panel a, and the majority of panel b is create with the below notebook, but this interpreted portions of panel b were created using Corel Draw and Inkscape."
   ]
  },
  {
   "cell_type": "markdown",
   "id": "073d371a-0080-4ce4-abd4-bea1055e1903",
   "metadata": {},
   "source": [
    "Change into figures folder"
   ]
  },
  {
   "cell_type": "code",
   "execution_count": null,
   "id": "4a6248f2-e1ed-4a56-a43f-6ba7d5b18274",
   "metadata": {},
   "outputs": [],
   "source": [
    "os.chdir('figures')\n",
    "os.getcwd()"
   ]
  },
  {
   "cell_type": "code",
   "execution_count": null,
   "id": "05f0cd01-6c83-40e9-b6a0-be8007b02652",
   "metadata": {},
   "outputs": [],
   "source": [
    "%run Fig4_Beta.ipynb"
   ]
  },
  {
   "cell_type": "markdown",
   "id": "3bdbd994-9b62-4775-915e-cb3baf5ba320",
   "metadata": {},
   "source": [
    "Now lets change back to the folder \\RIS_basement_sediment"
   ]
  },
  {
   "cell_type": "code",
   "execution_count": null,
   "id": "3bb7e4ed-4688-47eb-b808-2d35d60bb717",
   "metadata": {},
   "outputs": [],
   "source": [
    "os.chdir('..')\n",
    "os.getcwd()"
   ]
  },
  {
   "cell_type": "markdown",
   "id": "032bd225-9171-4605-95a0-9cdc6d11fcdc",
   "metadata": {},
   "source": [
    "# Figure S1\n",
    "Now we can re-create Figure S1. This is a 6 panel figure, showing various gridded dataset for the Ross Ice Shelf area. These include a) free-air gravity, b) magnetics, c) our sediment thickness, d) previous estimates of sediment thickness, e) bathymetry, and f) differece between the two sediment thickness models"
   ]
  },
  {
   "cell_type": "code",
   "execution_count": null,
   "id": "e4df44d2-2513-45c7-a803-f85fecc3e27f",
   "metadata": {},
   "outputs": [],
   "source": [
    "os.chdir('figures')\n",
    "os.getcwd()"
   ]
  },
  {
   "cell_type": "code",
   "execution_count": null,
   "id": "bee0e0bc-4b54-4115-9f5a-b1fb257213cd",
   "metadata": {},
   "outputs": [],
   "source": [
    "%run Fig_S1_6_panel_plot.ipynb"
   ]
  },
  {
   "cell_type": "markdown",
   "id": "ef611a7a-3322-42d1-8f82-428fb218b130",
   "metadata": {},
   "source": [
    "Now lets change back to the folder \\RIS_basement_sediment"
   ]
  },
  {
   "cell_type": "code",
   "execution_count": null,
   "id": "9cf156d9-e806-44c2-9dcd-47533e9244ca",
   "metadata": {},
   "outputs": [],
   "source": [
    "os.chdir('..')\n",
    "os.getcwd()"
   ]
  },
  {
   "cell_type": "code",
   "execution_count": null,
   "id": "4ca381e9-c912-453d-9b08-73c6ff08f71c",
   "metadata": {},
   "outputs": [],
   "source": []
  }
 ],
 "metadata": {
  "kernelspec": {
   "display_name": "pygmt06",
   "language": "python",
   "name": "pygmt06"
  },
  "language_info": {
   "codemirror_mode": {
    "name": "ipython",
    "version": 3
   },
   "file_extension": ".py",
   "mimetype": "text/x-python",
   "name": "python",
   "nbconvert_exporter": "python",
   "pygments_lexer": "ipython3",
   "version": "3.10.4"
  },
  "toc-autonumbering": false,
  "toc-showcode": false,
  "toc-showmarkdowntxt": false
 },
 "nbformat": 4,
 "nbformat_minor": 5
}
